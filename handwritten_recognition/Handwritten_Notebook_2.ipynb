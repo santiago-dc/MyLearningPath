{
 "cells": [
  {
   "cell_type": "markdown",
   "metadata": {},
   "source": [
    "# Handwritten numbers Recognition"
   ]
  },
  {
   "cell_type": "code",
   "execution_count": 10,
   "metadata": {},
   "outputs": [],
   "source": [
    "import pandas as pd\n",
    "import numpy as np\n",
    "import tensorflow as tf\n",
    "from tensorflow import keras "
   ]
  },
  {
   "cell_type": "markdown",
   "metadata": {},
   "source": [
    "## Load Data"
   ]
  },
  {
   "cell_type": "markdown",
   "metadata": {},
   "source": [
    "Extraer datos. Las imágenes son de 28*28 píxeles, por lo tanto el csv tiene 784 columnas más 1 indicando la salida"
   ]
  },
  {
   "cell_type": "code",
   "execution_count": 11,
   "metadata": {},
   "outputs": [],
   "source": [
    "def extract():\n",
    "    df_train = pd.read_csv('data/mnist_train.csv', delimiter = ',').to_numpy()\n",
    "    df_test = pd.read_csv('data/mnist_test.csv', delimiter = ',').to_numpy()\n",
    "    df = pd.DataFrame(np.concatenate((df_train,df_test)))\n",
    "    return df"
   ]
  },
  {
   "cell_type": "markdown",
   "metadata": {},
   "source": [
    "Transformar output a array de 10 y separar de las inputs"
   ]
  },
  {
   "cell_type": "code",
   "execution_count": 12,
   "metadata": {},
   "outputs": [],
   "source": [
    "def transform(df): \n",
    "    y_raw = df.iloc[:, 0].to_numpy()\n",
    "    x = df.drop(df.columns[0], axis='columns').to_numpy()\n",
    "    y = []\n",
    "    for i in range(0,y_raw.shape[0]):\n",
    "        row=np.zeros(10)\n",
    "        row[y_raw[i]]=1\n",
    "        y.append(row)\n",
    "    y=np.array(y)\n",
    "    y.reshape(y.shape[0],10)\n",
    "    return x, y"
   ]
  },
  {
   "cell_type": "markdown",
   "metadata": {},
   "source": [
    "Creamos los dataset de entrenamiento y test"
   ]
  },
  {
   "cell_type": "code",
   "execution_count": 13,
   "metadata": {},
   "outputs": [],
   "source": [
    "df = extract()\n",
    "x_train,y_train = transform(df.iloc[0:60000])\n",
    "#x_val,y_val = transform(df.iloc[50000:60000])\n",
    "x_test,y_test = transform(df.iloc[60000:70000])"
   ]
  },
  {
   "cell_type": "markdown",
   "metadata": {},
   "source": [
    "## Creación de la Red Neuronal"
   ]
  },
  {
   "cell_type": "markdown",
   "metadata": {},
   "source": [
    "En la red neuronal vamoas a implementar una arquitectura de (784,512,256,128,10), con funciones de activación ReLu en todas las capas menos en la última, en la cual utilizaremos la funcion softmax (https://www.quora.com/Why-is-it-better-to-use-Softmax-function-than-sigmoid-function).<br> Para cada capa se utilizará la funcion Dense, la cual tiene los siguientes parámetros por defecto:\n",
    "- activation=None,\n",
    "- use_bias=True,\n",
    "- kernel_initializer='glorot_uniform',\n",
    "- bias_initializer='zeros',\n",
    "- kernel_regularizer=None,\n",
    "- bias_regularizer=None,\n",
    "- activity_regularizer=None,\n",
    "- kernel_constraint=None,\n",
    "- bias_constraint=None\n",
    "\n",
    "\n"
   ]
  },
  {
   "cell_type": "code",
   "execution_count": 14,
   "metadata": {},
   "outputs": [],
   "source": [
    "model = keras.Sequential([\n",
    "    keras.layers.Dense(784, input_dim=784),\n",
    "    keras.layers.Dense(256, activation=\"relu\"),\n",
    "    keras.layers.Dense(128, activation=\"relu\"),\n",
    "    keras.layers.Dense(10, activation=\"softmax\")#Softmax is a sort of Multi Class Sigmoid\n",
    "])"
   ]
  },
  {
   "cell_type": "markdown",
   "metadata": {},
   "source": [
    "Vamos a crear y entrenar el modelo, 50 epochs serán suficientes."
   ]
  },
  {
   "cell_type": "code",
   "execution_count": 15,
   "metadata": {},
   "outputs": [
    {
     "name": "stdout",
     "output_type": "stream",
     "text": [
      "Train on 60000 samples\n",
      "Epoch 1/50\n",
      "60000/60000 [==============================] - 3s 57us/sample - loss: 4.1446 - accuracy: 0.8754\n",
      "Epoch 2/50\n",
      "60000/60000 [==============================] - 3s 43us/sample - loss: 0.6380 - accuracy: 0.9305\n",
      "Epoch 3/50\n",
      "60000/60000 [==============================] - 2s 40us/sample - loss: 0.4266 - accuracy: 0.9437\n",
      "Epoch 4/50\n",
      "60000/60000 [==============================] - 3s 43us/sample - loss: 0.3458 - accuracy: 0.9516\n",
      "Epoch 5/50\n",
      "60000/60000 [==============================] - 3s 50us/sample - loss: 0.2710 - accuracy: 0.9593\n",
      "Epoch 6/50\n",
      "60000/60000 [==============================] - 3s 51us/sample - loss: 0.2502 - accuracy: 0.9600\n",
      "Epoch 7/50\n",
      "60000/60000 [==============================] - 3s 51us/sample - loss: 0.2462 - accuracy: 0.9617\n",
      "Epoch 8/50\n",
      "60000/60000 [==============================] - 3s 50us/sample - loss: 0.2159 - accuracy: 0.9649\n",
      "Epoch 9/50\n",
      "60000/60000 [==============================] - 3s 50us/sample - loss: 0.1946 - accuracy: 0.9656\n",
      "Epoch 10/50\n",
      "60000/60000 [==============================] - 3s 51us/sample - loss: 0.1773 - accuracy: 0.9672\n",
      "Epoch 11/50\n",
      "60000/60000 [==============================] - 3s 50us/sample - loss: 0.1391 - accuracy: 0.9731\n",
      "Epoch 12/50\n",
      "60000/60000 [==============================] - 3s 49us/sample - loss: 0.1684 - accuracy: 0.9694\n",
      "Epoch 13/50\n",
      "60000/60000 [==============================] - 3s 49us/sample - loss: 0.1628 - accuracy: 0.9696\n",
      "Epoch 14/50\n",
      "60000/60000 [==============================] - 3s 49us/sample - loss: 0.1581 - accuracy: 0.9697\n",
      "Epoch 15/50\n",
      "60000/60000 [==============================] - 3s 49us/sample - loss: 0.1342 - accuracy: 0.9716\n",
      "Epoch 16/50\n",
      "60000/60000 [==============================] - 3s 49us/sample - loss: 0.1386 - accuracy: 0.9721\n",
      "Epoch 17/50\n",
      "60000/60000 [==============================] - 3s 49us/sample - loss: 0.1251 - accuracy: 0.9729\n",
      "Epoch 18/50\n",
      "60000/60000 [==============================] - 3s 49us/sample - loss: 0.1314 - accuracy: 0.9717\n",
      "Epoch 19/50\n",
      "60000/60000 [==============================] - 3s 49us/sample - loss: 0.1001 - accuracy: 0.9765\n",
      "Epoch 20/50\n",
      "60000/60000 [==============================] - 3s 50us/sample - loss: 0.0857 - accuracy: 0.9784\n",
      "Epoch 21/50\n",
      "60000/60000 [==============================] - 3s 49us/sample - loss: 0.0956 - accuracy: 0.9762s - loss: 0.0925  - ETA: 0s - loss: 0.0962 - accuracy\n",
      "Epoch 22/50\n",
      "60000/60000 [==============================] - 3s 49us/sample - loss: 0.0855 - accuracy: 0.9786\n",
      "Epoch 23/50\n",
      "60000/60000 [==============================] - 3s 49us/sample - loss: 0.0807 - accuracy: 0.9783\n",
      "Epoch 24/50\n",
      "60000/60000 [==============================] - 3s 49us/sample - loss: 0.0780 - accuracy: 0.9795\n",
      "Epoch 25/50\n",
      "60000/60000 [==============================] - 3s 49us/sample - loss: 0.0825 - accuracy: 0.9778\n",
      "Epoch 26/50\n",
      "60000/60000 [==============================] - 3s 49us/sample - loss: 0.0804 - accuracy: 0.9788\n",
      "Epoch 27/50\n",
      "60000/60000 [==============================] - 3s 49us/sample - loss: 0.0782 - accuracy: 0.9795\n",
      "Epoch 28/50\n",
      "60000/60000 [==============================] - 3s 51us/sample - loss: 0.0655 - accuracy: 0.9824\n",
      "Epoch 29/50\n",
      "60000/60000 [==============================] - 3s 57us/sample - loss: 0.0805 - accuracy: 0.9784\n",
      "Epoch 30/50\n",
      "60000/60000 [==============================] - 3s 51us/sample - loss: 0.0723 - accuracy: 0.9794\n",
      "Epoch 31/50\n",
      "60000/60000 [==============================] - 3s 49us/sample - loss: 0.0735 - accuracy: 0.9805\n",
      "Epoch 32/50\n",
      "60000/60000 [==============================] - 3s 50us/sample - loss: 0.0834 - accuracy: 0.9779\n",
      "Epoch 33/50\n",
      "60000/60000 [==============================] - 3s 49us/sample - loss: 0.0811 - accuracy: 0.9782s\n",
      "Epoch 34/50\n",
      "60000/60000 [==============================] - 3s 49us/sample - loss: 0.0865 - accuracy: 0.9773\n",
      "Epoch 35/50\n",
      "60000/60000 [==============================] - 3s 49us/sample - loss: 0.0659 - accuracy: 0.9822\n",
      "Epoch 36/50\n",
      "60000/60000 [==============================] - 3s 49us/sample - loss: 0.0783 - accuracy: 0.9797\n",
      "Epoch 37/50\n",
      "60000/60000 [==============================] - 3s 50us/sample - loss: 0.0802 - accuracy: 0.9790\n",
      "Epoch 38/50\n",
      "60000/60000 [==============================] - 3s 50us/sample - loss: 0.0646 - accuracy: 0.9829\n",
      "Epoch 39/50\n",
      "60000/60000 [==============================] - 3s 49us/sample - loss: 0.0804 - accuracy: 0.9795\n",
      "Epoch 40/50\n",
      "60000/60000 [==============================] - ETA: 0s - loss: 0.0792 - accuracy: 0.97 - 3s 50us/sample - loss: 0.0793 - accuracy: 0.9790\n",
      "Epoch 41/50\n",
      "60000/60000 [==============================] - 3s 49us/sample - loss: 0.0721 - accuracy: 0.9811\n",
      "Epoch 42/50\n",
      "60000/60000 [==============================] - 3s 49us/sample - loss: 0.0679 - accuracy: 0.9825\n",
      "Epoch 43/50\n",
      "60000/60000 [==============================] - 3s 52us/sample - loss: 0.0773 - accuracy: 0.9806\n",
      "Epoch 44/50\n",
      "60000/60000 [==============================] - 3s 52us/sample - loss: 0.0876 - accuracy: 0.9788\n",
      "Epoch 45/50\n",
      "60000/60000 [==============================] - 3s 50us/sample - loss: 0.0665 - accuracy: 0.9823\n",
      "Epoch 46/50\n",
      "60000/60000 [==============================] - 3s 50us/sample - loss: 0.0716 - accuracy: 0.9818\n",
      "Epoch 47/50\n",
      "60000/60000 [==============================] - 3s 50us/sample - loss: 0.0902 - accuracy: 0.9773\n",
      "Epoch 48/50\n",
      "60000/60000 [==============================] - 3s 49us/sample - loss: 0.0819 - accuracy: 0.9816\n",
      "Epoch 49/50\n",
      "60000/60000 [==============================] - 3s 50us/sample - loss: 0.0682 - accuracy: 0.9829\n",
      "Epoch 50/50\n",
      "60000/60000 [==============================] - 3s 50us/sample - loss: 0.0661 - accuracy: 0.9839\n"
     ]
    },
    {
     "data": {
      "text/plain": [
       "<tensorflow.python.keras.callbacks.History at 0x2870cea24c8>"
      ]
     },
     "execution_count": 15,
     "metadata": {},
     "output_type": "execute_result"
    }
   ],
   "source": [
    "model.compile(loss='categorical_crossentropy', optimizer='adam', metrics=['accuracy'])#learning_rate=0.001\n",
    "model.fit(x_train, y_train, epochs = 50, batch_size=200, verbose=1)"
   ]
  },
  {
   "cell_type": "markdown",
   "metadata": {},
   "source": [
    "Evaluamos el modelo con el acierto de los datos de prueba"
   ]
  },
  {
   "cell_type": "code",
   "execution_count": 16,
   "metadata": {},
   "outputs": [
    {
     "name": "stdout",
     "output_type": "stream",
     "text": [
      "9998/9998 [==============================] - 1s 73us/sample - loss: 0.1853 - accuracy: 0.9632\n",
      "Test Acc:  0.96319264\n"
     ]
    }
   ],
   "source": [
    "tes_loss, test_acc = model.evaluate(x_test, y_test)\n",
    "print('Test Acc: ', test_acc)"
   ]
  },
  {
   "cell_type": "markdown",
   "metadata": {},
   "source": [
    "## Regularización"
   ]
  },
  {
   "cell_type": "code",
   "execution_count": 17,
   "metadata": {},
   "outputs": [],
   "source": [
    "from keras import regularizers\n",
    "modelR = keras.Sequential([\n",
    "    keras.layers.Dense(784, input_dim=784, kernel_regularizer=regularizers.l2(0.01), bias_regularizer=regularizers.l2(0.01)),\n",
    "    keras.layers.Dense(256, activation=\"relu\", kernel_regularizer=regularizers.l2(0.01), bias_regularizer=regularizers.l2(0.01)),\n",
    "    keras.layers.Dense(128, activation=\"relu\", kernel_regularizer=regularizers.l2(0.01), bias_regularizer=regularizers.l2(0.01)),\n",
    "    keras.layers.Dense(10, activation=\"softmax\", kernel_regularizer=regularizers.l2(0.01), bias_regularizer=regularizers.l2(0.01))\n",
    "])"
   ]
  },
  {
   "cell_type": "code",
   "execution_count": 18,
   "metadata": {},
   "outputs": [
    {
     "name": "stdout",
     "output_type": "stream",
     "text": [
      "Train on 60000 samples\n",
      "Epoch 1/50\n",
      "60000/60000 [==============================] - 4s 65us/sample - loss: 12.9482 - accuracy: 0.8739\n",
      "Epoch 2/50\n",
      "60000/60000 [==============================] - 3s 58us/sample - loss: 7.7219 - accuracy: 0.9249\n",
      "Epoch 3/50\n",
      "60000/60000 [==============================] - 3s 58us/sample - loss: 5.5973 - accuracy: 0.9449\n",
      "Epoch 4/50\n",
      "60000/60000 [==============================] - 4s 59us/sample - loss: 4.0585 - accuracy: 0.9545\n",
      "Epoch 5/50\n",
      "60000/60000 [==============================] - 4s 64us/sample - loss: 2.9203 - accuracy: 0.9627\n",
      "Epoch 6/50\n",
      "60000/60000 [==============================] - 4s 64us/sample - loss: 2.0880 - accuracy: 0.9672\n",
      "Epoch 7/50\n",
      "60000/60000 [==============================] - 4s 68us/sample - loss: 1.4903 - accuracy: 0.9693\n",
      "Epoch 8/50\n",
      "60000/60000 [==============================] - 4s 71us/sample - loss: 1.0712 - accuracy: 0.9705\n",
      "Epoch 9/50\n",
      "60000/60000 [==============================] - 3s 57us/sample - loss: 0.7909 - accuracy: 0.9704\n",
      "Epoch 10/50\n",
      "60000/60000 [==============================] - 3s 58us/sample - loss: 0.5967 - accuracy: 0.9708\n",
      "Epoch 11/50\n",
      "60000/60000 [==============================] - 3s 58us/sample - loss: 0.4762 - accuracy: 0.9691\n",
      "Epoch 12/50\n",
      "60000/60000 [==============================] - 3s 57us/sample - loss: 0.4056 - accuracy: 0.9672\n",
      "Epoch 13/50\n",
      "60000/60000 [==============================] - 3s 58us/sample - loss: 0.3530 - accuracy: 0.9668\n",
      "Epoch 14/50\n",
      "60000/60000 [==============================] - 3s 57us/sample - loss: 0.3329 - accuracy: 0.9634\n",
      "Epoch 15/50\n",
      "60000/60000 [==============================] - 3s 58us/sample - loss: 0.3104 - accuracy: 0.9633\n",
      "Epoch 16/50\n",
      "60000/60000 [==============================] - 3s 58us/sample - loss: 0.2974 - accuracy: 0.9622\n",
      "Epoch 17/50\n",
      "60000/60000 [==============================] - 3s 58us/sample - loss: 0.2864 - accuracy: 0.9639s - loss: 0.2 - ETA: \n",
      "Epoch 18/50\n",
      "60000/60000 [==============================] - 3s 58us/sample - loss: 0.2857 - accuracy: 0.9614\n",
      "Epoch 19/50\n",
      "60000/60000 [==============================] - 3s 58us/sample - loss: 0.2691 - accuracy: 0.9641\n",
      "Epoch 20/50\n",
      "60000/60000 [==============================] - 3s 58us/sample - loss: 0.2637 - accuracy: 0.9660s - loss: 0.2650 - accu\n",
      "Epoch 21/50\n",
      "60000/60000 [==============================] - 3s 58us/sample - loss: 0.2647 - accuracy: 0.9641\n",
      "Epoch 22/50\n",
      "60000/60000 [==============================] - 3s 56us/sample - loss: 0.2575 - accuracy: 0.9653\n",
      "Epoch 23/50\n",
      "60000/60000 [==============================] - 4s 59us/sample - loss: 0.2577 - accuracy: 0.9658\n",
      "Epoch 24/50\n",
      "60000/60000 [==============================] - 3s 56us/sample - loss: 0.2638 - accuracy: 0.9640\n",
      "Epoch 25/50\n",
      "60000/60000 [==============================] - 3s 56us/sample - loss: 0.2449 - accuracy: 0.9678\n",
      "Epoch 26/50\n",
      "60000/60000 [==============================] - 3s 55us/sample - loss: 0.2624 - accuracy: 0.9645\n",
      "Epoch 27/50\n",
      "60000/60000 [==============================] - 3s 55us/sample - loss: 0.2631 - accuracy: 0.9663\n",
      "Epoch 28/50\n",
      "60000/60000 [==============================] - 3s 55us/sample - loss: 0.2527 - accuracy: 0.9680\n",
      "Epoch 29/50\n",
      "60000/60000 [==============================] - 3s 55us/sample - loss: 0.2546 - accuracy: 0.9677\n",
      "Epoch 30/50\n",
      "60000/60000 [==============================] - 3s 55us/sample - loss: 0.2641 - accuracy: 0.9669\n",
      "Epoch 31/50\n",
      "60000/60000 [==============================] - 3s 55us/sample - loss: 0.2722 - accuracy: 0.9659\n",
      "Epoch 32/50\n",
      "60000/60000 [==============================] - 3s 55us/sample - loss: 0.2610 - accuracy: 0.9678\n",
      "Epoch 33/50\n",
      "60000/60000 [==============================] - 3s 55us/sample - loss: 0.2450 - accuracy: 0.9704s - loss: 0.2452 - accuracy: 0.97\n",
      "Epoch 34/50\n",
      "60000/60000 [==============================] - 3s 58us/sample - loss: 0.2754 - accuracy: 0.9659\n",
      "Epoch 35/50\n",
      "60000/60000 [==============================] - 3s 56us/sample - loss: 0.2544 - accuracy: 0.9692\n",
      "Epoch 36/50\n",
      "60000/60000 [==============================] - 3s 55us/sample - loss: 0.2487 - accuracy: 0.9689\n",
      "Epoch 37/50\n",
      "60000/60000 [==============================] - 3s 56us/sample - loss: 0.2711 - accuracy: 0.9659\n",
      "Epoch 38/50\n",
      "60000/60000 [==============================] - 3s 55us/sample - loss: 0.2564 - accuracy: 0.9686\n",
      "Epoch 39/50\n",
      "60000/60000 [==============================] - 3s 55us/sample - loss: 0.2527 - accuracy: 0.9691\n",
      "Epoch 40/50\n",
      "60000/60000 [==============================] - 3s 55us/sample - loss: 0.2771 - accuracy: 0.9669\n",
      "Epoch 41/50\n",
      "60000/60000 [==============================] - 3s 56us/sample - loss: 0.2472 - accuracy: 0.9693\n",
      "Epoch 42/50\n",
      "60000/60000 [==============================] - 3s 55us/sample - loss: 0.2566 - accuracy: 0.9676\n",
      "Epoch 43/50\n",
      "60000/60000 [==============================] - 3s 57us/sample - loss: 0.2688 - accuracy: 0.9672\n",
      "Epoch 44/50\n",
      "60000/60000 [==============================] - 3s 55us/sample - loss: 0.2620 - accuracy: 0.9681\n",
      "Epoch 45/50\n",
      "60000/60000 [==============================] - 3s 55us/sample - loss: 0.2627 - accuracy: 0.9666\n",
      "Epoch 46/50\n",
      "60000/60000 [==============================] - 3s 58us/sample - loss: 0.2515 - accuracy: 0.9700\n",
      "Epoch 47/50\n",
      "60000/60000 [==============================] - 4s 62us/sample - loss: 0.2566 - accuracy: 0.9679\n",
      "Epoch 48/50\n",
      "60000/60000 [==============================] - 4s 62us/sample - loss: 0.2598 - accuracy: 0.9679\n",
      "Epoch 49/50\n",
      "60000/60000 [==============================] - 4s 62us/sample - loss: 0.2479 - accuracy: 0.9696\n",
      "Epoch 50/50\n",
      "60000/60000 [==============================] - 4s 62us/sample - loss: 0.2552 - accuracy: 0.9682\n"
     ]
    },
    {
     "data": {
      "text/plain": [
       "<tensorflow.python.keras.callbacks.History at 0x2870d4737c8>"
      ]
     },
     "execution_count": 18,
     "metadata": {},
     "output_type": "execute_result"
    }
   ],
   "source": [
    "modelR.compile(loss='categorical_crossentropy', optimizer='adam', metrics=['accuracy'])#learning_rate=0.001\n",
    "modelR.fit(x_train, y_train, epochs = 50, batch_size=200, verbose=1)"
   ]
  },
  {
   "cell_type": "code",
   "execution_count": 19,
   "metadata": {},
   "outputs": [
    {
     "name": "stdout",
     "output_type": "stream",
     "text": [
      "9998/9998 [==============================] - 1s 101us/sample - loss: 0.3183 - accuracy: 0.9616\n",
      "Test Acc:  0.9615923\n"
     ]
    }
   ],
   "source": [
    "tes_loss, test_acc = modelR.evaluate(x_test, y_test)\n",
    "print('Test Acc: ', test_acc)"
   ]
  },
  {
   "cell_type": "markdown",
   "metadata": {},
   "source": [
    "## Arquitectura [784-512-256-128-10]"
   ]
  },
  {
   "cell_type": "code",
   "execution_count": 20,
   "metadata": {},
   "outputs": [
    {
     "name": "stdout",
     "output_type": "stream",
     "text": [
      "Train on 60000 samples\n",
      "Epoch 1/50\n",
      "60000/60000 [==============================] - 5s 87us/sample - loss: 17.1156 - accuracy: 0.8864\n",
      "Epoch 2/50\n",
      "60000/60000 [==============================] - 5s 83us/sample - loss: 10.3716 - accuracy: 0.9534\n",
      "Epoch 3/50\n",
      "60000/60000 [==============================] - 5s 80us/sample - loss: 7.0937 - accuracy: 0.9659\n",
      "Epoch 4/50\n",
      "60000/60000 [==============================] - 5s 80us/sample - loss: 4.8548 - accuracy: 0.9730\n",
      "Epoch 5/50\n",
      "60000/60000 [==============================] - 5s 80us/sample - loss: 3.3377 - accuracy: 0.9758\n",
      "Epoch 6/50\n",
      "60000/60000 [==============================] - 5s 81us/sample - loss: 2.3171 - accuracy: 0.9763\n",
      "Epoch 7/50\n",
      "60000/60000 [==============================] - 5s 82us/sample - loss: 1.6430 - accuracy: 0.9737s - los\n",
      "Epoch 8/50\n",
      "60000/60000 [==============================] - 5s 80us/sample - loss: 1.1962 - accuracy: 0.9718\n",
      "Epoch 9/50\n",
      "60000/60000 [==============================] - 5s 80us/sample - loss: 0.9005 - accuracy: 0.9718\n",
      "Epoch 10/50\n",
      "60000/60000 [==============================] - 5s 80us/sample - loss: 0.7143 - accuracy: 0.9697\n",
      "Epoch 11/50\n",
      "60000/60000 [==============================] - 5s 80us/sample - loss: 0.5956 - accuracy: 0.9658\n",
      "Epoch 12/50\n",
      "60000/60000 [==============================] - 5s 82us/sample - loss: 0.5123 - accuracy: 0.9653\n",
      "Epoch 13/50\n",
      "60000/60000 [==============================] - 5s 80us/sample - loss: 0.4632 - accuracy: 0.9632\n",
      "Epoch 14/50\n",
      "60000/60000 [==============================] - 5s 80us/sample - loss: 0.4191 - accuracy: 0.9627\n",
      "Epoch 15/50\n",
      "60000/60000 [==============================] - 5s 80us/sample - loss: 0.3935 - accuracy: 0.9613\n",
      "Epoch 16/50\n",
      "60000/60000 [==============================] - 5s 80us/sample - loss: 0.3755 - accuracy: 0.9608\n",
      "Epoch 17/50\n",
      "60000/60000 [==============================] - 5s 81us/sample - loss: 0.3562 - accuracy: 0.9607\n",
      "Epoch 18/50\n",
      "60000/60000 [==============================] - 5s 84us/sample - loss: 0.3393 - accuracy: 0.9608\n",
      "Epoch 19/50\n",
      "60000/60000 [==============================] - 5s 84us/sample - loss: 0.3377 - accuracy: 0.9596\n",
      "Epoch 20/50\n",
      "60000/60000 [==============================] - 5s 86us/sample - loss: 0.3209 - accuracy: 0.9621\n",
      "Epoch 21/50\n",
      "60000/60000 [==============================] - 5s 81us/sample - loss: 0.3188 - accuracy: 0.9621\n",
      "Epoch 22/50\n",
      "60000/60000 [==============================] - 5s 81us/sample - loss: 0.3093 - accuracy: 0.9643\n",
      "Epoch 23/50\n",
      "60000/60000 [==============================] - 5s 81us/sample - loss: 0.3095 - accuracy: 0.9639\n",
      "Epoch 24/50\n",
      "60000/60000 [==============================] - 5s 80us/sample - loss: 0.3113 - accuracy: 0.9626s - loss: 0.3113 - accura\n",
      "Epoch 25/50\n",
      "60000/60000 [==============================] - 5s 81us/sample - loss: 0.3072 - accuracy: 0.9639\n",
      "Epoch 26/50\n",
      "60000/60000 [==============================] - 5s 81us/sample - loss: 0.3112 - accuracy: 0.9623\n",
      "Epoch 27/50\n",
      "60000/60000 [==============================] - 5s 85us/sample - loss: 0.3054 - accuracy: 0.9651\n",
      "Epoch 28/50\n",
      "60000/60000 [==============================] - 5s 81us/sample - loss: 0.3084 - accuracy: 0.9643\n",
      "Epoch 29/50\n",
      "60000/60000 [==============================] - 5s 81us/sample - loss: 0.3051 - accuracy: 0.9648\n",
      "Epoch 30/50\n",
      "60000/60000 [==============================] - 5s 82us/sample - loss: 0.3106 - accuracy: 0.9642\n",
      "Epoch 31/50\n",
      "60000/60000 [==============================] - 5s 82us/sample - loss: 0.3171 - accuracy: 0.9632\n",
      "Epoch 32/50\n",
      "60000/60000 [==============================] - 5s 81us/sample - loss: 0.2970 - accuracy: 0.9669\n",
      "Epoch 33/50\n",
      "60000/60000 [==============================] - 5s 81us/sample - loss: 0.3136 - accuracy: 0.9632\n",
      "Epoch 34/50\n",
      "60000/60000 [==============================] - 5s 81us/sample - loss: 0.3017 - accuracy: 0.9658\n",
      "Epoch 35/50\n",
      "60000/60000 [==============================] - 5s 82us/sample - loss: 0.3158 - accuracy: 0.9641\n",
      "Epoch 36/50\n",
      "60000/60000 [==============================] - 5s 81us/sample - loss: 0.3023 - accuracy: 0.9653\n",
      "Epoch 37/50\n",
      "60000/60000 [==============================] - 5s 81us/sample - loss: 0.3089 - accuracy: 0.9653\n",
      "Epoch 38/50\n",
      "60000/60000 [==============================] - 5s 81us/sample - loss: 0.3106 - accuracy: 0.9646\n",
      "Epoch 39/50\n",
      "60000/60000 [==============================] - 5s 82us/sample - loss: 0.2969 - accuracy: 0.9669\n",
      "Epoch 40/50\n",
      "60000/60000 [==============================] - 5s 81us/sample - loss: 0.3041 - accuracy: 0.9656\n",
      "Epoch 41/50\n",
      "60000/60000 [==============================] - 5s 81us/sample - loss: 0.3150 - accuracy: 0.9642s - loss: 0.318\n",
      "Epoch 42/50\n",
      "60000/60000 [==============================] - 5s 83us/sample - loss: 0.2878 - accuracy: 0.9681\n",
      "Epoch 43/50\n",
      "60000/60000 [==============================] - 5s 82us/sample - loss: 0.3101 - accuracy: 0.9646\n",
      "Epoch 44/50\n",
      "60000/60000 [==============================] - 5s 82us/sample - loss: 0.3593 - accuracy: 0.9591\n",
      "Epoch 45/50\n",
      "60000/60000 [==============================] - 5s 82us/sample - loss: 0.2797 - accuracy: 0.9712\n",
      "Epoch 46/50\n",
      "60000/60000 [==============================] - 5s 82us/sample - loss: 0.2909 - accuracy: 0.9669\n",
      "Epoch 47/50\n",
      "60000/60000 [==============================] - 5s 81us/sample - loss: 0.2915 - accuracy: 0.9685\n",
      "Epoch 48/50\n",
      "60000/60000 [==============================] - 5s 81us/sample - loss: 0.2946 - accuracy: 0.9675\n",
      "Epoch 49/50\n",
      "60000/60000 [==============================] - 5s 81us/sample - loss: 0.3010 - accuracy: 0.9671\n",
      "Epoch 50/50\n",
      "60000/60000 [==============================] - 5s 82us/sample - loss: 0.2938 - accuracy: 0.9667\n"
     ]
    },
    {
     "data": {
      "text/plain": [
       "<tensorflow.python.keras.callbacks.History at 0x2870e64d508>"
      ]
     },
     "execution_count": 20,
     "metadata": {},
     "output_type": "execute_result"
    }
   ],
   "source": [
    "from keras import regularizers\n",
    "modelR = keras.Sequential([\n",
    "    keras.layers.Dense(784, input_dim=784, kernel_regularizer=regularizers.l2(0.01), bias_regularizer=regularizers.l2(0.01)),\n",
    "    keras.layers.Dense(512, activation=\"relu\", kernel_regularizer=regularizers.l2(0.01), bias_regularizer=regularizers.l2(0.01)),\n",
    "    keras.layers.Dense(256, activation=\"relu\", kernel_regularizer=regularizers.l2(0.01), bias_regularizer=regularizers.l2(0.01)),\n",
    "    keras.layers.Dense(128, activation=\"relu\", kernel_regularizer=regularizers.l2(0.01), bias_regularizer=regularizers.l2(0.01)),\n",
    "    keras.layers.Dense(10, activation=\"softmax\", kernel_regularizer=regularizers.l2(0.01), bias_regularizer=regularizers.l2(0.01))\n",
    "])\n",
    "modelR.compile(loss='categorical_crossentropy', optimizer='adam', metrics=['accuracy'])#learning_rate=0.001\n",
    "modelR.fit(x_train, y_train, epochs = 50, batch_size=200, verbose=1)"
   ]
  },
  {
   "cell_type": "code",
   "execution_count": 21,
   "metadata": {},
   "outputs": [
    {
     "name": "stdout",
     "output_type": "stream",
     "text": [
      "9998/9998 [==============================] - 1s 115us/sample - loss: 0.3238 - accuracy: 0.9607\n",
      "Test Acc:  0.96069217\n"
     ]
    }
   ],
   "source": [
    "tes_loss, test_acc = modelR.evaluate(x_test, y_test)\n",
    "print('Test Acc: ', test_acc)"
   ]
  },
  {
   "cell_type": "markdown",
   "metadata": {},
   "source": [
    "## Arquitectura [784-512-128-10]"
   ]
  },
  {
   "cell_type": "code",
   "execution_count": 22,
   "metadata": {},
   "outputs": [
    {
     "name": "stdout",
     "output_type": "stream",
     "text": [
      "Train on 60000 samples\n",
      "Epoch 1/50\n",
      "60000/60000 [==============================] - 5s 86us/sample - loss: 16.6130 - accuracy: 0.83952s - loss: 20.4251 - accuracy: 0 - ETA: 2s \n",
      "Epoch 2/50\n",
      "60000/60000 [==============================] - 4s 75us/sample - loss: 10.1101 - accuracy: 0.9158TA: 0s - loss: 10.1828 - accuracy: 0\n",
      "Epoch 3/50\n",
      "60000/60000 [==============================] - 4s 73us/sample - loss: 7.6835 - accuracy: 0.9356\n",
      "Epoch 4/50\n",
      "60000/60000 [==============================] - 4s 73us/sample - loss: 5.7943 - accuracy: 0.9517\n",
      "Epoch 5/50\n",
      "60000/60000 [==============================] - 4s 74us/sample - loss: 4.3459 - accuracy: 0.9596s\n",
      "Epoch 6/50\n",
      "60000/60000 [==============================] - 4s 74us/sample - loss: 3.2334 - accuracy: 0.9654\n",
      "Epoch 7/50\n",
      "60000/60000 [==============================] - 4s 73us/sample - loss: 2.3884 - accuracy: 0.9702\n",
      "Epoch 8/50\n",
      "60000/60000 [==============================] - 4s 72us/sample - loss: 1.7643 - accuracy: 0.9719\n",
      "Epoch 9/50\n",
      "60000/60000 [==============================] - 4s 73us/sample - loss: 1.3065 - accuracy: 0.9735\n",
      "Epoch 10/50\n",
      "60000/60000 [==============================] - 4s 73us/sample - loss: 0.9861 - accuracy: 0.9717\n",
      "Epoch 11/50\n",
      "60000/60000 [==============================] - 4s 73us/sample - loss: 0.7521 - accuracy: 0.9722\n",
      "Epoch 12/50\n",
      "60000/60000 [==============================] - 4s 73us/sample - loss: 0.5992 - accuracy: 0.9702\n",
      "Epoch 13/50\n",
      "60000/60000 [==============================] - 5s 81us/sample - loss: 0.4947 - accuracy: 0.9694\n",
      "Epoch 14/50\n",
      "60000/60000 [==============================] - 5s 82us/sample - loss: 0.4169 - accuracy: 0.9686\n",
      "Epoch 15/50\n",
      "60000/60000 [==============================] - 5s 83us/sample - loss: 0.3729 - accuracy: 0.9667\n",
      "Epoch 16/50\n",
      "60000/60000 [==============================] - 5s 82us/sample - loss: 0.3373 - accuracy: 0.9668\n",
      "Epoch 17/50\n",
      "60000/60000 [==============================] - 5s 79us/sample - loss: 0.3276 - accuracy: 0.9628\n",
      "Epoch 18/50\n",
      "60000/60000 [==============================] - 4s 74us/sample - loss: 0.3055 - accuracy: 0.9642\n",
      "Epoch 19/50\n",
      "60000/60000 [==============================] - 4s 74us/sample - loss: 0.2955 - accuracy: 0.9633s - los\n",
      "Epoch 20/50\n",
      "60000/60000 [==============================] - 4s 74us/sample - loss: 0.2798 - accuracy: 0.9656\n",
      "Epoch 21/50\n",
      "60000/60000 [==============================] - 4s 75us/sample - loss: 0.2745 - accuracy: 0.9644\n",
      "Epoch 22/50\n",
      "60000/60000 [==============================] - 4s 75us/sample - loss: 0.2712 - accuracy: 0.9644\n",
      "Epoch 23/50\n",
      "60000/60000 [==============================] - 4s 74us/sample - loss: 0.2681 - accuracy: 0.9649\n",
      "Epoch 24/50\n",
      "60000/60000 [==============================] - 4s 75us/sample - loss: 0.2616 - accuracy: 0.9660\n",
      "Epoch 25/50\n",
      "60000/60000 [==============================] - 5s 75us/sample - loss: 0.2682 - accuracy: 0.9646\n",
      "Epoch 26/50\n",
      "60000/60000 [==============================] - 5s 78us/sample - loss: 0.2570 - accuracy: 0.9669\n",
      "Epoch 27/50\n",
      "60000/60000 [==============================] - 4s 74us/sample - loss: 0.2582 - accuracy: 0.9659\n",
      "Epoch 28/50\n",
      "60000/60000 [==============================] - 4s 74us/sample - loss: 0.2665 - accuracy: 0.9660\n",
      "Epoch 29/50\n",
      "60000/60000 [==============================] - 4s 74us/sample - loss: 0.2612 - accuracy: 0.9670\n",
      "Epoch 30/50\n",
      "60000/60000 [==============================] - 4s 74us/sample - loss: 0.2505 - accuracy: 0.9683\n",
      "Epoch 31/50\n",
      "60000/60000 [==============================] - 5s 75us/sample - loss: 0.2679 - accuracy: 0.9664\n",
      "Epoch 32/50\n",
      "60000/60000 [==============================] - 4s 75us/sample - loss: 0.2744 - accuracy: 0.9654\n",
      "Epoch 33/50\n",
      "60000/60000 [==============================] - 5s 75us/sample - loss: 0.2734 - accuracy: 0.9655\n",
      "Epoch 34/50\n",
      "60000/60000 [==============================] - 4s 74us/sample - loss: 0.2667 - accuracy: 0.9672\n",
      "Epoch 35/50\n",
      "60000/60000 [==============================] - 4s 74us/sample - loss: 0.2589 - accuracy: 0.9678\n",
      "Epoch 36/50\n",
      "60000/60000 [==============================] - 4s 74us/sample - loss: 0.2596 - accuracy: 0.9689\n",
      "Epoch 37/50\n",
      "60000/60000 [==============================] - 4s 74us/sample - loss: 0.2844 - accuracy: 0.9632\n",
      "Epoch 38/50\n",
      "60000/60000 [==============================] - 4s 74us/sample - loss: 0.2839 - accuracy: 0.9676\n",
      "Epoch 39/50\n",
      "60000/60000 [==============================] - 4s 74us/sample - loss: 0.2416 - accuracy: 0.9696\n",
      "Epoch 40/50\n",
      "60000/60000 [==============================] - 5s 75us/sample - loss: 0.2716 - accuracy: 0.9663s - l\n",
      "Epoch 41/50\n",
      "60000/60000 [==============================] - 5s 77us/sample - loss: 0.2618 - accuracy: 0.9680s - loss: 0.2617 - accuracy: \n",
      "Epoch 42/50\n",
      "60000/60000 [==============================] - 4s 74us/sample - loss: 0.2498 - accuracy: 0.9693s - loss: 0.2\n",
      "Epoch 43/50\n",
      "60000/60000 [==============================] - 4s 75us/sample - loss: 0.2722 - accuracy: 0.9666\n",
      "Epoch 44/50\n",
      "60000/60000 [==============================] - 4s 75us/sample - loss: 0.2636 - accuracy: 0.9684\n",
      "Epoch 45/50\n",
      "60000/60000 [==============================] - 4s 74us/sample - loss: 0.2571 - accuracy: 0.9694\n",
      "Epoch 46/50\n",
      "60000/60000 [==============================] - 5s 75us/sample - loss: 0.2515 - accuracy: 0.9689\n",
      "Epoch 47/50\n",
      "60000/60000 [==============================] - 4s 75us/sample - loss: 0.6713 - accuracy: 0.9134\n",
      "Epoch 48/50\n",
      "60000/60000 [==============================] - 5s 75us/sample - loss: 0.7218 - accuracy: 0.9289\n",
      "Epoch 49/50\n",
      "60000/60000 [==============================] - 5s 75us/sample - loss: 0.3690 - accuracy: 0.9594\n",
      "Epoch 50/50\n",
      "60000/60000 [==============================] - 4s 75us/sample - loss: 0.2805 - accuracy: 0.9669s - loss: 0 - E\n"
     ]
    },
    {
     "data": {
      "text/plain": [
       "<tensorflow.python.keras.callbacks.History at 0x2870f1e8f08>"
      ]
     },
     "execution_count": 22,
     "metadata": {},
     "output_type": "execute_result"
    }
   ],
   "source": [
    "from keras import regularizers\n",
    "modelR = keras.Sequential([\n",
    "    keras.layers.Dense(784, input_dim=784, kernel_regularizer=regularizers.l2(0.01), bias_regularizer=regularizers.l2(0.01)),\n",
    "    keras.layers.Dense(512, activation=\"relu\", kernel_regularizer=regularizers.l2(0.01), bias_regularizer=regularizers.l2(0.01)),\n",
    "    keras.layers.Dense(128, activation=\"relu\", kernel_regularizer=regularizers.l2(0.01), bias_regularizer=regularizers.l2(0.01)),\n",
    "    keras.layers.Dense(10, activation=\"softmax\", kernel_regularizer=regularizers.l2(0.01), bias_regularizer=regularizers.l2(0.01))\n",
    "])\n",
    "modelR.compile(loss='categorical_crossentropy', optimizer='adam', metrics=['accuracy'])#learning_rate=0.001\n",
    "modelR.fit(x_train, y_train, epochs = 50, batch_size=200, verbose=1)"
   ]
  },
  {
   "cell_type": "code",
   "execution_count": 23,
   "metadata": {},
   "outputs": [
    {
     "name": "stdout",
     "output_type": "stream",
     "text": [
      "9998/9998 [==============================] - 1s 110us/sample - loss: 0.2609 - accuracy: 0.9675\n",
      "Test Acc:  0.9674935\n"
     ]
    }
   ],
   "source": [
    "tes_loss, test_acc = modelR.evaluate(x_test, y_test)\n",
    "print('Test Acc: ', test_acc)"
   ]
  },
  {
   "cell_type": "markdown",
   "metadata": {},
   "source": [
    "## Arquitectura [784-128-10]"
   ]
  },
  {
   "cell_type": "code",
   "execution_count": 26,
   "metadata": {},
   "outputs": [
    {
     "name": "stdout",
     "output_type": "stream",
     "text": [
      "Train on 60000 samples\n",
      "Epoch 1/50\n",
      "60000/60000 [==============================] - 3s 42us/sample - loss: 11.3336 - accuracy: 0.7432\n",
      "Epoch 2/50\n",
      "60000/60000 [==============================] - 2s 37us/sample - loss: 6.4254 - accuracy: 0.8495\n",
      "Epoch 3/50\n",
      "60000/60000 [==============================] - 2s 37us/sample - loss: 5.0784 - accuracy: 0.8758\n",
      "Epoch 4/50\n",
      "60000/60000 [==============================] - 2s 37us/sample - loss: 4.0511 - accuracy: 0.8884\n",
      "Epoch 5/50\n",
      "60000/60000 [==============================] - 2s 41us/sample - loss: 3.1976 - accuracy: 0.9003\n",
      "Epoch 6/50\n",
      "60000/60000 [==============================] - 3s 47us/sample - loss: 2.5042 - accuracy: 0.9109\n",
      "Epoch 7/50\n",
      "60000/60000 [==============================] - 3s 46us/sample - loss: 1.9197 - accuracy: 0.9223\n",
      "Epoch 8/50\n",
      "60000/60000 [==============================] - 3s 46us/sample - loss: 1.4514 - accuracy: 0.9348\n",
      "Epoch 9/50\n",
      "60000/60000 [==============================] - 3s 46us/sample - loss: 1.1066 - accuracy: 0.9383\n",
      "Epoch 10/50\n",
      "60000/60000 [==============================] - 3s 46us/sample - loss: 0.8490 - accuracy: 0.9441\n",
      "Epoch 11/50\n",
      "60000/60000 [==============================] - 3s 46us/sample - loss: 0.6591 - accuracy: 0.9477\n",
      "Epoch 12/50\n",
      "60000/60000 [==============================] - 3s 46us/sample - loss: 0.5258 - accuracy: 0.9490\n",
      "Epoch 13/50\n",
      "60000/60000 [==============================] - 3s 46us/sample - loss: 0.4415 - accuracy: 0.9494\n",
      "Epoch 14/50\n",
      "60000/60000 [==============================] - 3s 47us/sample - loss: 0.3785 - accuracy: 0.9504\n",
      "Epoch 15/50\n",
      "60000/60000 [==============================] - 3s 46us/sample - loss: 0.3430 - accuracy: 0.9502\n",
      "Epoch 16/50\n",
      "60000/60000 [==============================] - 3s 46us/sample - loss: 0.3161 - accuracy: 0.9513\n",
      "Epoch 17/50\n",
      "60000/60000 [==============================] - 3s 46us/sample - loss: 0.2985 - accuracy: 0.9516\n",
      "Epoch 18/50\n",
      "60000/60000 [==============================] - 3s 47us/sample - loss: 0.2818 - accuracy: 0.9527\n",
      "Epoch 19/50\n",
      "60000/60000 [==============================] - 3s 46us/sample - loss: 0.2763 - accuracy: 0.9533\n",
      "Epoch 20/50\n",
      "60000/60000 [==============================] - 3s 46us/sample - loss: 0.2685 - accuracy: 0.9541\n",
      "Epoch 21/50\n",
      "60000/60000 [==============================] - 3s 46us/sample - loss: 0.2560 - accuracy: 0.9560\n",
      "Epoch 22/50\n",
      "60000/60000 [==============================] - 3s 48us/sample - loss: 0.2570 - accuracy: 0.9546\n",
      "Epoch 23/50\n",
      "60000/60000 [==============================] - 3s 47us/sample - loss: 0.2473 - accuracy: 0.9578\n",
      "Epoch 24/50\n",
      "60000/60000 [==============================] - 3s 46us/sample - loss: 0.2430 - accuracy: 0.9589\n",
      "Epoch 25/50\n",
      "60000/60000 [==============================] - 3s 46us/sample - loss: 0.2420 - accuracy: 0.9587\n",
      "Epoch 26/50\n",
      "60000/60000 [==============================] - 3s 47us/sample - loss: 0.2491 - accuracy: 0.9586\n",
      "Epoch 27/50\n",
      "60000/60000 [==============================] - 3s 46us/sample - loss: 0.2430 - accuracy: 0.9597\n",
      "Epoch 28/50\n",
      "60000/60000 [==============================] - 3s 47us/sample - loss: 0.2529 - accuracy: 0.9590\n",
      "Epoch 29/50\n",
      "60000/60000 [==============================] - 3s 46us/sample - loss: 0.2472 - accuracy: 0.9597\n",
      "Epoch 30/50\n",
      "60000/60000 [==============================] - 3s 46us/sample - loss: 0.2471 - accuracy: 0.9603\n",
      "Epoch 31/50\n",
      "60000/60000 [==============================] - 3s 47us/sample - loss: 0.2514 - accuracy: 0.9586\n",
      "Epoch 32/50\n",
      "60000/60000 [==============================] - 3s 50us/sample - loss: 0.2560 - accuracy: 0.9595\n",
      "Epoch 33/50\n",
      "60000/60000 [==============================] - 3s 48us/sample - loss: 0.2522 - accuracy: 0.9604\n",
      "Epoch 34/50\n",
      "60000/60000 [==============================] - 3s 47us/sample - loss: 0.2450 - accuracy: 0.9607\n",
      "Epoch 35/50\n",
      "60000/60000 [==============================] - 3s 47us/sample - loss: 0.2596 - accuracy: 0.9585\n",
      "Epoch 36/50\n",
      "60000/60000 [==============================] - 3s 47us/sample - loss: 0.2568 - accuracy: 0.9598\n",
      "Epoch 37/50\n",
      "60000/60000 [==============================] - 3s 47us/sample - loss: 0.2426 - accuracy: 0.9616\n",
      "Epoch 38/50\n",
      "60000/60000 [==============================] - 3s 47us/sample - loss: 0.2507 - accuracy: 0.9617\n",
      "Epoch 39/50\n",
      "60000/60000 [==============================] - 3s 47us/sample - loss: 0.2650 - accuracy: 0.9592\n",
      "Epoch 40/50\n",
      "60000/60000 [==============================] - 3s 47us/sample - loss: 0.2390 - accuracy: 0.9635\n",
      "Epoch 41/50\n",
      "60000/60000 [==============================] - 3s 47us/sample - loss: 0.2784 - accuracy: 0.9576\n",
      "Epoch 42/50\n",
      "60000/60000 [==============================] - 3s 47us/sample - loss: 0.2464 - accuracy: 0.9624\n",
      "Epoch 43/50\n",
      "60000/60000 [==============================] - 3s 47us/sample - loss: 0.2547 - accuracy: 0.9619s - loss: 0.2\n",
      "Epoch 44/50\n",
      "60000/60000 [==============================] - 3s 47us/sample - loss: 0.2587 - accuracy: 0.9606\n",
      "Epoch 45/50\n",
      "60000/60000 [==============================] - 3s 47us/sample - loss: 0.2521 - accuracy: 0.9615\n",
      "Epoch 46/50\n",
      "60000/60000 [==============================] - 3s 48us/sample - loss: 0.2373 - accuracy: 0.9641\n",
      "Epoch 47/50\n",
      "60000/60000 [==============================] - 3s 47us/sample - loss: 0.2783 - accuracy: 0.9573\n",
      "Epoch 48/50\n",
      "60000/60000 [==============================] - 3s 47us/sample - loss: 0.2483 - accuracy: 0.9637\n",
      "Epoch 49/50\n",
      "60000/60000 [==============================] - 3s 48us/sample - loss: 0.2590 - accuracy: 0.9605\n",
      "Epoch 50/50\n",
      "60000/60000 [==============================] - 3s 47us/sample - loss: 0.2550 - accuracy: 0.9615\n"
     ]
    },
    {
     "data": {
      "text/plain": [
       "<tensorflow.python.keras.callbacks.History at 0x287609a4c08>"
      ]
     },
     "execution_count": 26,
     "metadata": {},
     "output_type": "execute_result"
    }
   ],
   "source": [
    "from keras import regularizers\n",
    "modelR = keras.Sequential([\n",
    "    keras.layers.Dense(784, input_dim=784, kernel_regularizer=regularizers.l2(0.01), bias_regularizer=regularizers.l2(0.01)),\n",
    "    keras.layers.Dense(128, activation=\"relu\", kernel_regularizer=regularizers.l2(0.01), bias_regularizer=regularizers.l2(0.01)),\n",
    "    keras.layers.Dense(10, activation=\"softmax\", kernel_regularizer=regularizers.l2(0.01), bias_regularizer=regularizers.l2(0.01))\n",
    "])\n",
    "modelR.compile(loss='categorical_crossentropy', optimizer='adam', metrics=['accuracy'])#learning_rate=0.001\n",
    "modelR.fit(x_train, y_train, epochs = 50, batch_size=200, verbose=1)"
   ]
  },
  {
   "cell_type": "code",
   "execution_count": 27,
   "metadata": {},
   "outputs": [
    {
     "name": "stdout",
     "output_type": "stream",
     "text": [
      "9998/9998 [==============================] - 1s 83us/sample - loss: 0.2516 - accuracy: 0.9601\n",
      "Test Acc:  0.960092\n"
     ]
    }
   ],
   "source": [
    "tes_loss, test_acc = modelR.evaluate(x_test, y_test)\n",
    "print('Test Acc: ', test_acc)"
   ]
  },
  {
   "cell_type": "markdown",
   "metadata": {},
   "source": [
    "## Arquitectura [784-512-10]"
   ]
  },
  {
   "cell_type": "code",
   "execution_count": 28,
   "metadata": {},
   "outputs": [
    {
     "name": "stdout",
     "output_type": "stream",
     "text": [
      "Train on 60000 samples\n",
      "Epoch 1/50\n",
      "60000/60000 [==============================] - 4s 62us/sample - loss: 16.2291 - accuracy: 0.8923\n",
      "Epoch 2/50\n",
      "60000/60000 [==============================] - 3s 57us/sample - loss: 9.3030 - accuracy: 0.9303\n",
      "Epoch 3/50\n",
      "60000/60000 [==============================] - 3s 56us/sample - loss: 7.2086 - accuracy: 0.9466\n",
      "Epoch 4/50\n",
      "60000/60000 [==============================] - 3s 56us/sample - loss: 5.5493 - accuracy: 0.9564\n",
      "Epoch 5/50\n",
      "60000/60000 [==============================] - 4s 66us/sample - loss: 4.2184 - accuracy: 0.9619\n",
      "Epoch 6/50\n",
      "60000/60000 [==============================] - 4s 71us/sample - loss: 3.1695 - accuracy: 0.9642\n",
      "Epoch 7/50\n",
      "60000/60000 [==============================] - 4s 71us/sample - loss: 2.3526 - accuracy: 0.9676\n",
      "Epoch 8/50\n",
      "60000/60000 [==============================] - 4s 72us/sample - loss: 1.7373 - accuracy: 0.9677\n",
      "Epoch 9/50\n",
      "60000/60000 [==============================] - 4s 71us/sample - loss: 1.2696 - accuracy: 0.9695\n",
      "Epoch 10/50\n",
      "60000/60000 [==============================] - 4s 71us/sample - loss: 0.9440 - accuracy: 0.9683\n",
      "Epoch 11/50\n",
      "60000/60000 [==============================] - 4s 71us/sample - loss: 0.6952 - accuracy: 0.9693\n",
      "Epoch 12/50\n",
      "60000/60000 [==============================] - 4s 71us/sample - loss: 0.5334 - accuracy: 0.9682\n",
      "Epoch 13/50\n",
      "60000/60000 [==============================] - 4s 71us/sample - loss: 0.4337 - accuracy: 0.9657\n",
      "Epoch 14/50\n",
      "60000/60000 [==============================] - 5s 77us/sample - loss: 0.3607 - accuracy: 0.9649\n",
      "Epoch 15/50\n",
      "60000/60000 [==============================] - 5s 81us/sample - loss: 0.3255 - accuracy: 0.9621\n",
      "Epoch 16/50\n",
      "60000/60000 [==============================] - 5s 80us/sample - loss: 0.3091 - accuracy: 0.9599\n",
      "Epoch 17/50\n",
      "60000/60000 [==============================] - 5s 81us/sample - loss: 0.2834 - accuracy: 0.9617s - loss: 0.2822 - accu\n",
      "Epoch 18/50\n",
      "60000/60000 [==============================] - 4s 72us/sample - loss: 0.2779 - accuracy: 0.9603s - los\n",
      "Epoch 19/50\n",
      "60000/60000 [==============================] - 4s 72us/sample - loss: 0.2688 - accuracy: 0.9609s\n",
      "Epoch 20/50\n",
      "60000/60000 [==============================] - 5s 78us/sample - loss: 0.2682 - accuracy: 0.9602\n",
      "Epoch 21/50\n",
      "60000/60000 [==============================] - 4s 74us/sample - loss: 0.2611 - accuracy: 0.9611\n",
      "Epoch 22/50\n",
      "60000/60000 [==============================] - 4s 72us/sample - loss: 0.2544 - accuracy: 0.9621\n",
      "Epoch 23/50\n",
      "60000/60000 [==============================] - 4s 72us/sample - loss: 0.2623 - accuracy: 0.9603\n",
      "Epoch 24/50\n",
      "60000/60000 [==============================] - 4s 72us/sample - loss: 0.2582 - accuracy: 0.9623\n",
      "Epoch 25/50\n",
      "60000/60000 [==============================] - 4s 72us/sample - loss: 0.2665 - accuracy: 0.9607\n",
      "Epoch 26/50\n",
      "60000/60000 [==============================] - 4s 72us/sample - loss: 0.2543 - accuracy: 0.9638\n",
      "Epoch 27/50\n",
      "60000/60000 [==============================] - 4s 73us/sample - loss: 0.2804 - accuracy: 0.9596\n",
      "Epoch 28/50\n",
      "60000/60000 [==============================] - 4s 73us/sample - loss: 0.2649 - accuracy: 0.9633\n",
      "Epoch 29/50\n",
      "60000/60000 [==============================] - 4s 73us/sample - loss: 0.2700 - accuracy: 0.9621\n",
      "Epoch 30/50\n",
      "60000/60000 [==============================] - 4s 74us/sample - loss: 0.2814 - accuracy: 0.9605\n",
      "Epoch 31/50\n",
      "60000/60000 [==============================] - 4s 72us/sample - loss: 0.2590 - accuracy: 0.9654\n",
      "Epoch 32/50\n",
      "60000/60000 [==============================] - 4s 73us/sample - loss: 0.2859 - accuracy: 0.9599\n",
      "Epoch 33/50\n",
      "60000/60000 [==============================] - 4s 72us/sample - loss: 0.2778 - accuracy: 0.9627\n",
      "Epoch 34/50\n",
      "60000/60000 [==============================] - 4s 72us/sample - loss: 0.2709 - accuracy: 0.9625\n",
      "Epoch 35/50\n",
      "60000/60000 [==============================] - 4s 73us/sample - loss: 0.3159 - accuracy: 0.9585\n",
      "Epoch 36/50\n",
      "60000/60000 [==============================] - 4s 73us/sample - loss: 0.2561 - accuracy: 0.9653\n",
      "Epoch 37/50\n",
      "60000/60000 [==============================] - 4s 72us/sample - loss: 0.2786 - accuracy: 0.9622\n",
      "Epoch 38/50\n",
      "60000/60000 [==============================] - 4s 73us/sample - loss: 0.2609 - accuracy: 0.9643\n",
      "Epoch 39/50\n",
      "60000/60000 [==============================] - 4s 72us/sample - loss: 0.3087 - accuracy: 0.9604\n",
      "Epoch 40/50\n",
      "60000/60000 [==============================] - 4s 73us/sample - loss: 0.2985 - accuracy: 0.9572\n",
      "Epoch 41/50\n",
      "60000/60000 [==============================] - 4s 72us/sample - loss: 0.3881 - accuracy: 0.9517\n",
      "Epoch 42/50\n",
      "60000/60000 [==============================] - 4s 74us/sample - loss: 0.2091 - accuracy: 0.9725\n",
      "Epoch 43/50\n",
      "60000/60000 [==============================] - 4s 72us/sample - loss: 0.2516 - accuracy: 0.9648\n",
      "Epoch 44/50\n",
      "60000/60000 [==============================] - 4s 72us/sample - loss: 0.2501 - accuracy: 0.9668\n",
      "Epoch 45/50\n",
      "60000/60000 [==============================] - 4s 72us/sample - loss: 0.2958 - accuracy: 0.9591\n",
      "Epoch 46/50\n",
      "60000/60000 [==============================] - 4s 72us/sample - loss: 0.3174 - accuracy: 0.9572\n",
      "Epoch 47/50\n",
      "60000/60000 [==============================] - 4s 72us/sample - loss: 0.3419 - accuracy: 0.9579\n",
      "Epoch 48/50\n",
      "60000/60000 [==============================] - 4s 72us/sample - loss: 0.2022 - accuracy: 0.9739\n",
      "Epoch 49/50\n",
      "60000/60000 [==============================] - 4s 72us/sample - loss: 0.2197 - accuracy: 0.9682\n",
      "Epoch 50/50\n",
      "60000/60000 [==============================] - 4s 73us/sample - loss: 0.2787 - accuracy: 0.9619\n"
     ]
    },
    {
     "data": {
      "text/plain": [
       "<tensorflow.python.keras.callbacks.History at 0x287614c16c8>"
      ]
     },
     "execution_count": 28,
     "metadata": {},
     "output_type": "execute_result"
    }
   ],
   "source": [
    "from keras import regularizers\n",
    "modelR = keras.Sequential([\n",
    "    keras.layers.Dense(784, input_dim=784, kernel_regularizer=regularizers.l2(0.01), bias_regularizer=regularizers.l2(0.01)),\n",
    "    keras.layers.Dense(512, activation=\"relu\", kernel_regularizer=regularizers.l2(0.01), bias_regularizer=regularizers.l2(0.01)),\n",
    "    keras.layers.Dense(10, activation=\"softmax\", kernel_regularizer=regularizers.l2(0.01), bias_regularizer=regularizers.l2(0.01))\n",
    "])\n",
    "modelR.compile(loss='categorical_crossentropy', optimizer='adam', metrics=['accuracy'])#learning_rate=0.001\n",
    "modelR.fit(x_train, y_train, epochs = 50, batch_size=200, verbose=1)"
   ]
  },
  {
   "cell_type": "code",
   "execution_count": 29,
   "metadata": {},
   "outputs": [
    {
     "name": "stdout",
     "output_type": "stream",
     "text": [
      "9998/9998 [==============================] - 1s 101us/sample - loss: 0.2843 - accuracy: 0.9603\n",
      "Test Acc:  0.96029204\n"
     ]
    }
   ],
   "source": [
    "tes_loss, test_acc = modelR.evaluate(x_test, y_test)\n",
    "print('Test Acc: ', test_acc)"
   ]
  },
  {
   "cell_type": "markdown",
   "metadata": {},
   "source": [
    "## Arquitectura [784-256-10]"
   ]
  },
  {
   "cell_type": "code",
   "execution_count": 31,
   "metadata": {},
   "outputs": [
    {
     "name": "stdout",
     "output_type": "stream",
     "text": [
      "Train on 60000 samples\n",
      "Epoch 1/50\n",
      "60000/60000 [==============================] - 3s 55us/sample - loss: 14.2053 - accuracy: 0.8289\n",
      "Epoch 2/50\n",
      "60000/60000 [==============================] - 3s 55us/sample - loss: 7.7531 - accuracy: 0.8982\n",
      "Epoch 3/50\n",
      "60000/60000 [==============================] - 3s 55us/sample - loss: 6.2434 - accuracy: 0.9227\n",
      "Epoch 4/50\n",
      "60000/60000 [==============================] - 3s 55us/sample - loss: 5.0292 - accuracy: 0.9336\n",
      "Epoch 5/50\n",
      "60000/60000 [==============================] - 3s 55us/sample - loss: 3.9958 - accuracy: 0.9452\n",
      "Epoch 6/50\n",
      "60000/60000 [==============================] - 3s 56us/sample - loss: 3.1650 - accuracy: 0.9481\n",
      "Epoch 7/50\n",
      "60000/60000 [==============================] - 3s 56us/sample - loss: 2.4624 - accuracy: 0.9545\n",
      "Epoch 8/50\n",
      "60000/60000 [==============================] - 3s 55us/sample - loss: 1.8925 - accuracy: 0.9582\n",
      "Epoch 9/50\n",
      "60000/60000 [==============================] - 3s 55us/sample - loss: 1.4493 - accuracy: 0.9588\n",
      "Epoch 10/50\n",
      "60000/60000 [==============================] - 3s 55us/sample - loss: 1.0909 - accuracy: 0.9625\n",
      "Epoch 11/50\n",
      "60000/60000 [==============================] - 3s 55us/sample - loss: 0.8312 - accuracy: 0.9628\n",
      "Epoch 12/50\n",
      "60000/60000 [==============================] - 3s 55us/sample - loss: 0.6452 - accuracy: 0.9622\n",
      "Epoch 13/50\n",
      "60000/60000 [==============================] - 3s 55us/sample - loss: 0.5006 - accuracy: 0.9639\n",
      "Epoch 14/50\n",
      "60000/60000 [==============================] - 4s 61us/sample - loss: 0.4325 - accuracy: 0.9588\n",
      "Epoch 15/50\n",
      "60000/60000 [==============================] - 3s 56us/sample - loss: 0.3657 - accuracy: 0.9599\n",
      "Epoch 16/50\n",
      "60000/60000 [==============================] - 3s 56us/sample - loss: 0.3326 - accuracy: 0.9582\n",
      "Epoch 17/50\n",
      "60000/60000 [==============================] - 3s 56us/sample - loss: 0.3109 - accuracy: 0.9573\n",
      "Epoch 18/50\n",
      "60000/60000 [==============================] - 3s 57us/sample - loss: 0.2809 - accuracy: 0.9600\n",
      "Epoch 19/50\n",
      "60000/60000 [==============================] - 4s 61us/sample - loss: 0.2922 - accuracy: 0.9555\n",
      "Epoch 20/50\n",
      "60000/60000 [==============================] - 3s 57us/sample - loss: 0.2809 - accuracy: 0.9565\n",
      "Epoch 21/50\n",
      "60000/60000 [==============================] - 3s 56us/sample - loss: 0.2592 - accuracy: 0.9615\n",
      "Epoch 22/50\n",
      "60000/60000 [==============================] - 3s 56us/sample - loss: 0.2605 - accuracy: 0.9589\n",
      "Epoch 23/50\n",
      "60000/60000 [==============================] - 4s 59us/sample - loss: 0.2568 - accuracy: 0.9598\n",
      "Epoch 24/50\n",
      "60000/60000 [==============================] - 4s 58us/sample - loss: 0.2560 - accuracy: 0.9596\n",
      "Epoch 25/50\n",
      "60000/60000 [==============================] - 4s 59us/sample - loss: 0.2385 - accuracy: 0.9643\n",
      "Epoch 26/50\n",
      "60000/60000 [==============================] - 4s 59us/sample - loss: 0.2518 - accuracy: 0.9617\n",
      "Epoch 27/50\n",
      "60000/60000 [==============================] - 4s 59us/sample - loss: 0.2764 - accuracy: 0.9585\n",
      "Epoch 28/50\n",
      "60000/60000 [==============================] - 4s 61us/sample - loss: 0.2573 - accuracy: 0.9630\n",
      "Epoch 29/50\n",
      "60000/60000 [==============================] - 4s 59us/sample - loss: 0.2547 - accuracy: 0.9619\n",
      "Epoch 30/50\n",
      "60000/60000 [==============================] - 4s 59us/sample - loss: 0.2443 - accuracy: 0.9633\n",
      "Epoch 31/50\n",
      "60000/60000 [==============================] - 4s 59us/sample - loss: 0.2900 - accuracy: 0.9582\n",
      "Epoch 32/50\n",
      "60000/60000 [==============================] - 4s 59us/sample - loss: 0.2344 - accuracy: 0.9662\n",
      "Epoch 33/50\n",
      "60000/60000 [==============================] - 4s 59us/sample - loss: 0.2583 - accuracy: 0.9611\n",
      "Epoch 34/50\n",
      "60000/60000 [==============================] - 4s 59us/sample - loss: 0.2915 - accuracy: 0.9585\n",
      "Epoch 35/50\n",
      "60000/60000 [==============================] - 4s 59us/sample - loss: 0.2567 - accuracy: 0.9640\n",
      "Epoch 36/50\n",
      "60000/60000 [==============================] - 4s 59us/sample - loss: 0.2401 - accuracy: 0.9643\n",
      "Epoch 37/50\n",
      "60000/60000 [==============================] - 4s 59us/sample - loss: 0.2918 - accuracy: 0.9574\n",
      "Epoch 38/50\n",
      "60000/60000 [==============================] - 4s 60us/sample - loss: 0.2503 - accuracy: 0.9653\n",
      "Epoch 39/50\n",
      "60000/60000 [==============================] - 4s 60us/sample - loss: 0.2491 - accuracy: 0.9637\n",
      "Epoch 40/50\n",
      "60000/60000 [==============================] - 3s 56us/sample - loss: 0.3165 - accuracy: 0.9542\n",
      "Epoch 41/50\n",
      "60000/60000 [==============================] - 3s 56us/sample - loss: 0.2305 - accuracy: 0.9679\n",
      "Epoch 42/50\n",
      "60000/60000 [==============================] - 3s 57us/sample - loss: 0.3446 - accuracy: 0.9502\n",
      "Epoch 43/50\n",
      "60000/60000 [==============================] - 4s 59us/sample - loss: 0.2243 - accuracy: 0.9688\n",
      "Epoch 44/50\n",
      "60000/60000 [==============================] - ETA: 0s - loss: 0.2373 - accuracy: 0.96 - 3s 56us/sample - loss: 0.2376 - accuracy: 0.9656\n",
      "Epoch 45/50\n",
      "60000/60000 [==============================] - 3s 56us/sample - loss: 0.2872 - accuracy: 0.9581\n",
      "Epoch 46/50\n",
      "60000/60000 [==============================] - 3s 56us/sample - loss: 0.2760 - accuracy: 0.9629\n",
      "Epoch 47/50\n",
      "60000/60000 [==============================] - 3s 56us/sample - loss: 1.5306 - accuracy: 0.8767\n",
      "Epoch 48/50\n",
      "60000/60000 [==============================] - 3s 56us/sample - loss: 1.5304 - accuracy: 0.7515\n",
      "Epoch 49/50\n",
      "60000/60000 [==============================] - 3s 56us/sample - loss: 0.8035 - accuracy: 0.8987\n",
      "Epoch 50/50\n",
      "60000/60000 [==============================] - 3s 56us/sample - loss: 0.6544 - accuracy: 0.9069\n"
     ]
    },
    {
     "data": {
      "text/plain": [
       "<tensorflow.python.keras.callbacks.History at 0x28762c4b288>"
      ]
     },
     "execution_count": 31,
     "metadata": {},
     "output_type": "execute_result"
    }
   ],
   "source": [
    "from keras import regularizers\n",
    "modelR = keras.Sequential([\n",
    "    keras.layers.Dense(784, input_dim=784, kernel_regularizer=regularizers.l2(0.01), bias_regularizer=regularizers.l2(0.01)),\n",
    "    keras.layers.Dense(256, activation=\"relu\", kernel_regularizer=regularizers.l2(0.01), bias_regularizer=regularizers.l2(0.01)),\n",
    "    keras.layers.Dense(10, activation=\"softmax\", kernel_regularizer=regularizers.l2(0.01), bias_regularizer=regularizers.l2(0.01))\n",
    "])\n",
    "modelR.compile(loss='categorical_crossentropy', optimizer='adam', metrics=['accuracy'])#learning_rate=0.001\n",
    "modelR.fit(x_train, y_train, epochs = 50, batch_size=200, verbose=1)"
   ]
  },
  {
   "cell_type": "code",
   "execution_count": 32,
   "metadata": {},
   "outputs": [
    {
     "name": "stdout",
     "output_type": "stream",
     "text": [
      "9998/9998 [==============================] - 1s 90us/sample - loss: 0.6168 - accuracy: 0.9106\n",
      "Test Acc:  0.9105821\n"
     ]
    }
   ],
   "source": [
    "tes_loss, test_acc = modelR.evaluate(x_test, y_test)\n",
    "print('Test Acc: ', test_acc)"
   ]
  },
  {
   "cell_type": "code",
   "execution_count": null,
   "metadata": {},
   "outputs": [],
   "source": []
  }
 ],
 "metadata": {
  "kernelspec": {
   "display_name": "Python 3",
   "language": "python",
   "name": "python3"
  },
  "language_info": {
   "codemirror_mode": {
    "name": "ipython",
    "version": 3
   },
   "file_extension": ".py",
   "mimetype": "text/x-python",
   "name": "python",
   "nbconvert_exporter": "python",
   "pygments_lexer": "ipython3",
   "version": "3.7.6"
  }
 },
 "nbformat": 4,
 "nbformat_minor": 2
}
