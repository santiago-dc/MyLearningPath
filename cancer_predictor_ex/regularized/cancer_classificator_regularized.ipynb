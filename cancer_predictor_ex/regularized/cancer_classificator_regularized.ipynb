{
 "cells": [
  {
   "cell_type": "markdown",
   "metadata": {},
   "source": [
    "# Clasificación de cancer con una red neuronal"
   ]
  },
  {
   "cell_type": "markdown",
   "metadata": {},
   "source": [
    "En este notebook se va a desarrollar la implementación de una red neuronal de 3 capas, con 9 entredas, 15 neuronas en la capa oculta y una neurona con funcion de salida sigmoide en la última capa. El objetivo es determinar, partiendo de un csv, la naturaleza de los tumores en funcion de sus características.\n",
    "Para el mejor entendimiento del ejercicio, el notebook se separa en dos secciones:\n",
    "- Preparación de los datos.\n",
    "- Instanciación de la red neuronal (desarrollada en NeuronalNetwork.py) y uso con los parámetros más óptimos encontrados."
   ]
  },
  {
   "cell_type": "markdown",
   "metadata": {},
   "source": [
    "## Preparación de los datos"
   ]
  },
  {
   "cell_type": "markdown",
   "metadata": {},
   "source": [
    "### Imports"
   ]
  },
  {
   "cell_type": "code",
   "execution_count": 1,
   "metadata": {},
   "outputs": [],
   "source": [
    "import numpy as np\n",
    "import matplotlib.pyplot as plt\n",
    "import random\n",
    "from sklearn.metrics import mean_squared_error \n",
    "import pandas as pd\n",
    "from sklearn.preprocessing import MinMaxScaler\n",
    "from sklearn.metrics import confusion_matrix\n",
    "import itertools\n",
    "import seaborn as sns\n",
    "from NeuronalNetwork_regularized import *"
   ]
  },
  {
   "cell_type": "markdown",
   "metadata": {},
   "source": [
    "### Load and format data"
   ]
  },
  {
   "cell_type": "markdown",
   "metadata": {},
   "source": [
    "El dataset viene con la salida defindia como 2 ó 4, la cambiamos a 0 ó 1 para poder trabajar. También se eliminan aquellas filas con algún valor nulo. <br> Las entradas de la red neuronal corresponderán a: \n",
    "- Clump Thickness\n",
    "- Uniformity of Cell Size\n",
    "- Uniformity of Cell Shape\n",
    "- Marginal Adhesion\n",
    "- Single Epithelial Cell Size\n",
    "- Bare Nuclei\n",
    "- Bland Chromatin\n",
    "- Normal Nucleoli \n",
    "- Mitoses"
   ]
  },
  {
   "cell_type": "code",
   "execution_count": 2,
   "metadata": {},
   "outputs": [
    {
     "data": {
      "text/html": [
       "<div>\n",
       "<style scoped>\n",
       "    .dataframe tbody tr th:only-of-type {\n",
       "        vertical-align: middle;\n",
       "    }\n",
       "\n",
       "    .dataframe tbody tr th {\n",
       "        vertical-align: top;\n",
       "    }\n",
       "\n",
       "    .dataframe thead th {\n",
       "        text-align: right;\n",
       "    }\n",
       "</style>\n",
       "<table border=\"1\" class=\"dataframe\">\n",
       "  <thead>\n",
       "    <tr style=\"text-align: right;\">\n",
       "      <th></th>\n",
       "      <th>0</th>\n",
       "      <th>1</th>\n",
       "      <th>2</th>\n",
       "      <th>3</th>\n",
       "      <th>4</th>\n",
       "      <th>5</th>\n",
       "      <th>6</th>\n",
       "      <th>7</th>\n",
       "      <th>8</th>\n",
       "      <th>9</th>\n",
       "      <th>10</th>\n",
       "    </tr>\n",
       "  </thead>\n",
       "  <tbody>\n",
       "    <tr>\n",
       "      <th>0</th>\n",
       "      <td>1000025.0</td>\n",
       "      <td>5.0</td>\n",
       "      <td>1.0</td>\n",
       "      <td>1.0</td>\n",
       "      <td>1.0</td>\n",
       "      <td>2.0</td>\n",
       "      <td>1.0</td>\n",
       "      <td>3.0</td>\n",
       "      <td>1.0</td>\n",
       "      <td>1.0</td>\n",
       "      <td>0.0</td>\n",
       "    </tr>\n",
       "    <tr>\n",
       "      <th>1</th>\n",
       "      <td>1002945.0</td>\n",
       "      <td>5.0</td>\n",
       "      <td>4.0</td>\n",
       "      <td>4.0</td>\n",
       "      <td>5.0</td>\n",
       "      <td>7.0</td>\n",
       "      <td>10.0</td>\n",
       "      <td>3.0</td>\n",
       "      <td>2.0</td>\n",
       "      <td>1.0</td>\n",
       "      <td>0.0</td>\n",
       "    </tr>\n",
       "    <tr>\n",
       "      <th>2</th>\n",
       "      <td>1015425.0</td>\n",
       "      <td>3.0</td>\n",
       "      <td>1.0</td>\n",
       "      <td>1.0</td>\n",
       "      <td>1.0</td>\n",
       "      <td>2.0</td>\n",
       "      <td>2.0</td>\n",
       "      <td>3.0</td>\n",
       "      <td>1.0</td>\n",
       "      <td>1.0</td>\n",
       "      <td>0.0</td>\n",
       "    </tr>\n",
       "    <tr>\n",
       "      <th>3</th>\n",
       "      <td>1016277.0</td>\n",
       "      <td>6.0</td>\n",
       "      <td>8.0</td>\n",
       "      <td>8.0</td>\n",
       "      <td>1.0</td>\n",
       "      <td>3.0</td>\n",
       "      <td>4.0</td>\n",
       "      <td>3.0</td>\n",
       "      <td>7.0</td>\n",
       "      <td>1.0</td>\n",
       "      <td>0.0</td>\n",
       "    </tr>\n",
       "    <tr>\n",
       "      <th>4</th>\n",
       "      <td>1017023.0</td>\n",
       "      <td>4.0</td>\n",
       "      <td>1.0</td>\n",
       "      <td>1.0</td>\n",
       "      <td>3.0</td>\n",
       "      <td>2.0</td>\n",
       "      <td>1.0</td>\n",
       "      <td>3.0</td>\n",
       "      <td>1.0</td>\n",
       "      <td>1.0</td>\n",
       "      <td>0.0</td>\n",
       "    </tr>\n",
       "  </tbody>\n",
       "</table>\n",
       "</div>"
      ],
      "text/plain": [
       "          0    1    2    3    4    5     6    7    8    9    10\n",
       "0  1000025.0  5.0  1.0  1.0  1.0  2.0   1.0  3.0  1.0  1.0  0.0\n",
       "1  1002945.0  5.0  4.0  4.0  5.0  7.0  10.0  3.0  2.0  1.0  0.0\n",
       "2  1015425.0  3.0  1.0  1.0  1.0  2.0   2.0  3.0  1.0  1.0  0.0\n",
       "3  1016277.0  6.0  8.0  8.0  1.0  3.0   4.0  3.0  7.0  1.0  0.0\n",
       "4  1017023.0  4.0  1.0  1.0  3.0  2.0   1.0  3.0  1.0  1.0  0.0"
      ]
     },
     "execution_count": 2,
     "metadata": {},
     "output_type": "execute_result"
    }
   ],
   "source": [
    "#load and format data\n",
    "df = pd.read_csv('wisconsin-cancer-dataset.csv',header=None)\n",
    "df.head(5)\n",
    "df.iloc[:,10].replace(2, 0,inplace=True)\n",
    "df.iloc[:,10].replace(4, 1,inplace=True)\n",
    "df = df[~df[6].isin(['?'])]\n",
    "df = df.astype(float)\n",
    "df.head(5)"
   ]
  },
  {
   "cell_type": "markdown",
   "metadata": {},
   "source": [
    "### Feature Normalization"
   ]
  },
  {
   "cell_type": "markdown",
   "metadata": {},
   "source": [
    "Se normaliza las características para acotarlas todas en un intervalo entre 0 y 1, con el objetivo de que ninguna de ellas condicione en exceso el ejercicio o pase desapercibida. Se muestran los valores de las características. Para el desarrollo del ejercicio solo nos interesan las características del 1 al 9."
   ]
  },
  {
   "cell_type": "code",
   "execution_count": 3,
   "metadata": {},
   "outputs": [
    {
     "data": {
      "text/plain": [
       "<matplotlib.axes._subplots.AxesSubplot at 0x1e4dcf77048>"
      ]
     },
     "execution_count": 3,
     "metadata": {},
     "output_type": "execute_result"
    },
    {
     "data": {
      "image/png": "[encoded data removed]",
      "text/plain": [
       "<Figure size 432x288 with 1 Axes>"
      ]
     },
     "metadata": {
      "needs_background": "light"
     },
     "output_type": "display_data"
    },
    {
     "data": {
      "image/png": "[encoded data removed]",
      "text/plain": [
       "<Figure size 432x288 with 1 Axes>"
      ]
     },
     "metadata": {
      "needs_background": "light"
     },
     "output_type": "display_data"
    }
   ],
   "source": [
    "names = df.columns[0:10]\n",
    "scaler = MinMaxScaler() \n",
    "scaled_df = scaler.fit_transform(df.iloc[:,0:10]) \n",
    "scaled_df = pd.DataFrame(scaled_df, columns=names)\n",
    "scaled_df[10]= df[10]\n",
    "scaled_df.iloc[0:13,1:11].plot.bar();\n",
    "scaled_df.iloc[0:13,1:11].plot.hist(alpha=0.5)"
   ]
  },
  {
   "cell_type": "markdown",
   "metadata": {},
   "source": [
    "### Creation of train and validation sets"
   ]
  },
  {
   "cell_type": "markdown",
   "metadata": {},
   "source": [
    "Para la posterior evalucaión de la clasificación, creamos un set de entrenamiento y otro menor de validación."
   ]
  },
  {
   "cell_type": "code",
   "execution_count": 4,
   "metadata": {},
   "outputs": [],
   "source": [
    "x=scaled_df.iloc[0:500,1:10].values.transpose()\n",
    "y=df.iloc[0:500,10:].values.transpose()\n",
    "xval=scaled_df.iloc[501:683,1:10].values.transpose()\n",
    "yval=df.iloc[501:683,10:].values.transpose()"
   ]
  },
  {
   "cell_type": "markdown",
   "metadata": {},
   "source": [
    "## Netwotk Development"
   ]
  },
  {
   "cell_type": "markdown",
   "metadata": {},
   "source": [
    "### Declaring nn"
   ]
  },
  {
   "cell_type": "markdown",
   "metadata": {},
   "source": [
    "Declaramos la red neuronal con los valores de entrenamiento y un learning rate de 0.02. La red funciona con una arquitectura [9 - 15 - 1], la cual utiliza funciones de salida lineales en la capa intermedia y una sigmoidal en la de salida. Utiliza como función de error, en lugar del clásico MSE, el Cross-Entropy. \n",
    "El algortimo de aprendizaje utilizado es el descenso por gradiente, el cual implementa el algoritmo de backpropagation."
   ]
  },
  {
   "cell_type": "code",
   "execution_count": 9,
   "metadata": {},
   "outputs": [
    {
     "name": "stdout",
     "output_type": "stream",
     "text": [
      "Cost after iteration 0: 0.257234\n",
      "Cost after iteration 100: 0.214396\n",
      "Cost after iteration 200: 0.181876\n",
      "Cost after iteration 300: 0.157299\n",
      "Cost after iteration 400: 0.137974\n",
      "Cost after iteration 500: 0.122121\n",
      "Cost after iteration 600: 0.108730\n",
      "Cost after iteration 700: 0.097256\n",
      "Cost after iteration 800: 0.087392\n",
      "Cost after iteration 900: 0.078940\n",
      "Cost after iteration 1000: 0.071733\n",
      "Cost after iteration 1100: 0.065622\n",
      "Cost after iteration 1200: 0.060462\n",
      "Cost after iteration 1300: 0.056120\n",
      "Cost after iteration 1400: 0.052474\n",
      "Cost after iteration 1500: 0.049417\n",
      "Cost after iteration 1600: 0.046855\n",
      "Cost after iteration 1700: 0.044707\n",
      "Cost after iteration 1800: 0.042903\n",
      "Cost after iteration 1900: 0.041385\n",
      "Cost after iteration 2000: 0.040104\n",
      "Cost after iteration 2100: 0.039019\n",
      "Cost after iteration 2200: 0.038094\n",
      "Cost after iteration 2300: 0.037303\n",
      "Cost after iteration 2400: 0.036621\n",
      "Cost after iteration 2500: 0.036029\n",
      "Cost after iteration 2600: 0.035512\n",
      "Cost after iteration 2700: 0.035056\n",
      "Cost after iteration 2800: 0.034652\n",
      "Cost after iteration 2900: 0.034291\n",
      "Cost after iteration 3000: 0.033965\n",
      "Cost after iteration 3100: 0.033669\n",
      "Cost after iteration 3200: 0.033399\n",
      "Cost after iteration 3300: 0.033150\n",
      "Cost after iteration 3400: 0.032920\n",
      "Cost after iteration 3500: 0.032706\n",
      "Cost after iteration 3600: 0.032506\n",
      "Cost after iteration 3700: 0.032318\n",
      "Cost after iteration 3800: 0.032141\n",
      "Cost after iteration 3900: 0.031973\n",
      "Cost after iteration 4000: 0.031814\n",
      "Cost after iteration 4100: 0.031663\n",
      "Cost after iteration 4200: 0.031519\n",
      "Cost after iteration 4300: 0.031381\n",
      "Cost after iteration 4400: 0.031250\n",
      "Cost after iteration 4500: 0.031124\n",
      "Cost after iteration 4600: 0.031004\n",
      "Cost after iteration 4700: 0.030888\n",
      "Cost after iteration 4800: 0.030777\n",
      "Cost after iteration 4900: 0.030671\n",
      "Cost after iteration 5000: 0.030569\n",
      "Cost after iteration 5100: 0.030471\n",
      "Cost after iteration 5200: 0.030376\n",
      "Cost after iteration 5300: 0.030285\n",
      "Cost after iteration 5400: 0.030198\n",
      "Cost after iteration 5500: 0.030114\n",
      "Cost after iteration 5600: 0.030033\n",
      "Cost after iteration 5700: 0.029955\n",
      "Cost after iteration 5800: 0.029880\n",
      "Cost after iteration 5900: 0.029808\n",
      "Cost after iteration 6000: 0.029739\n",
      "Cost after iteration 6100: 0.029672\n",
      "Cost after iteration 6200: 0.029607\n",
      "Cost after iteration 6300: 0.029545\n",
      "Cost after iteration 6400: 0.029485\n",
      "Cost after iteration 6500: 0.029427\n",
      "Cost after iteration 6600: 0.029371\n",
      "Cost after iteration 6700: 0.029317\n",
      "Cost after iteration 6800: 0.029264\n",
      "Cost after iteration 6900: 0.029214\n",
      "Cost after iteration 7000: 0.029165\n",
      "Cost after iteration 7100: 0.029118\n",
      "Cost after iteration 7200: 0.029072\n",
      "Cost after iteration 7300: 0.029028\n",
      "Cost after iteration 7400: 0.028985\n",
      "Cost after iteration 7500: 0.028943\n",
      "Cost after iteration 7600: 0.028903\n",
      "Cost after iteration 7700: 0.028864\n",
      "Cost after iteration 7800: 0.028825\n",
      "Cost after iteration 7900: 0.028788\n",
      "Cost after iteration 8000: 0.028752\n",
      "Cost after iteration 8100: 0.028716\n",
      "Cost after iteration 8200: 0.028682\n",
      "Cost after iteration 8300: 0.028648\n",
      "Cost after iteration 8400: 0.028615\n",
      "Cost after iteration 8500: 0.028582\n",
      "Cost after iteration 8600: 0.028550\n",
      "Cost after iteration 8700: 0.028519\n",
      "Cost after iteration 8800: 0.028488\n",
      "Cost after iteration 8900: 0.028457\n",
      "Cost after iteration 9000: 0.028427\n",
      "Cost after iteration 9100: 0.028397\n",
      "Cost after iteration 9200: 0.028367\n",
      "Cost after iteration 9300: 0.028337\n",
      "Cost after iteration 9400: 0.028307\n",
      "Cost after iteration 9500: 0.028278\n",
      "Cost after iteration 9600: 0.028248\n",
      "Cost after iteration 9700: 0.028218\n",
      "Cost after iteration 9800: 0.028188\n",
      "Cost after iteration 9900: 0.028158\n",
      "Cost after iteration 10000: 0.028127\n",
      "Cost after iteration 10100: 0.028096\n",
      "Cost after iteration 10200: 0.028065\n",
      "Cost after iteration 10300: 0.028032\n",
      "Cost after iteration 10400: 0.028000\n",
      "Cost after iteration 10500: 0.027966\n",
      "Cost after iteration 10600: 0.027932\n",
      "Cost after iteration 10700: 0.027896\n",
      "Cost after iteration 10800: 0.027860\n",
      "Cost after iteration 10900: 0.027822\n",
      "Cost after iteration 11000: 0.027783\n",
      "Cost after iteration 11100: 0.027743\n",
      "Cost after iteration 11200: 0.027702\n",
      "Cost after iteration 11300: 0.027658\n",
      "Cost after iteration 11400: 0.027614\n",
      "Cost after iteration 11500: 0.027567\n",
      "Cost after iteration 11600: 0.027518\n",
      "Cost after iteration 11700: 0.027468\n",
      "Cost after iteration 11800: 0.027416\n",
      "Cost after iteration 11900: 0.027362\n",
      "Cost after iteration 12000: 0.027305\n",
      "Cost after iteration 12100: 0.027248\n",
      "Cost after iteration 12200: 0.027188\n",
      "Cost after iteration 12300: 0.027128\n",
      "Cost after iteration 12400: 0.027066\n",
      "Cost after iteration 12500: 0.027005\n",
      "Cost after iteration 12600: 0.026944\n",
      "Cost after iteration 12700: 0.026886\n",
      "Cost after iteration 12800: 0.026830\n",
      "Cost after iteration 12900: 0.026780\n",
      "Cost after iteration 13000: 0.026738\n",
      "Cost after iteration 13100: 0.026705\n",
      "Cost after iteration 13200: 0.026687\n",
      "Cost after iteration 13300: 0.026685\n",
      "Cost after iteration 13400: 0.026702\n",
      "Cost after iteration 13500: 0.026743\n",
      "Cost after iteration 13600: 0.026809\n",
      "Cost after iteration 13700: 0.026899\n",
      "Cost after iteration 13800: 0.027011\n",
      "Cost after iteration 13900: 0.027139\n",
      "Cost after iteration 14000: 0.027273\n",
      "Cost after iteration 14100: 0.027402\n",
      "Cost after iteration 14200: 0.027520\n",
      "Cost after iteration 14300: 0.027628\n",
      "Cost after iteration 14400: 0.027739\n",
      "Cost after iteration 14500: 0.027875\n",
      "Cost after iteration 14600: 0.028050\n",
      "Cost after iteration 14700: 0.028262\n",
      "Cost after iteration 14800: 0.028489\n",
      "Cost after iteration 14900: 0.028704\n",
      "Cost after iteration 15000: 0.028885\n",
      "Cost after iteration 15100: 0.029024\n",
      "Cost after iteration 15200: 0.029125\n",
      "Cost after iteration 15300: 0.029194\n",
      "Cost after iteration 15400: 0.029240\n",
      "Cost after iteration 15500: 0.029269\n",
      "Cost after iteration 15600: 0.029287\n",
      "Cost after iteration 15700: 0.029298\n",
      "Cost after iteration 15800: 0.029305\n",
      "Cost after iteration 15900: 0.029309\n",
      "Cost after iteration 16000: 0.029311\n",
      "Cost after iteration 16100: 0.029311\n",
      "Cost after iteration 16200: 0.029311\n",
      "Cost after iteration 16300: 0.029310\n",
      "Cost after iteration 16400: 0.029309\n",
      "Cost after iteration 16500: 0.029308\n",
      "Cost after iteration 16600: 0.029306\n",
      "Cost after iteration 16700: 0.029305\n",
      "Cost after iteration 16800: 0.029302\n",
      "Cost after iteration 16900: 0.029300\n",
      "Cost after iteration 17000: 0.029297\n",
      "Cost after iteration 17100: 0.029294\n",
      "Cost after iteration 17200: 0.029290\n",
      "Cost after iteration 17300: 0.029286\n",
      "Cost after iteration 17400: 0.029282\n",
      "Cost after iteration 17500: 0.029277\n",
      "Cost after iteration 17600: 0.029272\n",
      "Cost after iteration 17700: 0.029266\n",
      "Cost after iteration 17800: 0.029259\n",
      "Cost after iteration 17900: 0.029252\n",
      "Cost after iteration 18000: 0.029245\n",
      "Cost after iteration 18100: 0.029237\n",
      "Cost after iteration 18200: 0.029228\n",
      "Cost after iteration 18300: 0.029219\n",
      "Cost after iteration 18400: 0.029210\n",
      "Cost after iteration 18500: 0.029199\n",
      "Cost after iteration 18600: 0.029189\n",
      "Cost after iteration 18700: 0.029177\n",
      "Cost after iteration 18800: 0.029166\n",
      "Cost after iteration 18900: 0.029153\n",
      "Cost after iteration 19000: 0.029141\n",
      "Cost after iteration 19100: 0.029128\n",
      "Cost after iteration 19200: 0.029114\n",
      "Cost after iteration 19300: 0.029100\n",
      "Cost after iteration 19400: 0.029085\n",
      "Cost after iteration 19500: 0.029070\n",
      "Cost after iteration 19600: 0.029055\n",
      "Cost after iteration 19700: 0.029039\n",
      "Cost after iteration 19800: 0.029023\n",
      "Cost after iteration 19900: 0.029007\n",
      "Cost after iteration 20000: 0.028990\n",
      "Cost after iteration 20100: 0.028973\n",
      "Cost after iteration 20200: 0.028956\n",
      "Cost after iteration 20300: 0.028939\n",
      "Cost after iteration 20400: 0.028921\n",
      "Cost after iteration 20500: 0.028903\n",
      "Cost after iteration 20600: 0.028885\n",
      "Cost after iteration 20700: 0.028867\n",
      "Cost after iteration 20800: 0.028849\n",
      "Cost after iteration 20900: 0.028830\n",
      "Cost after iteration 21000: 0.028812\n",
      "Cost after iteration 21100: 0.028793\n",
      "Cost after iteration 21200: 0.028775\n",
      "Cost after iteration 21300: 0.028756\n",
      "Cost after iteration 21400: 0.028738\n",
      "Cost after iteration 21500: 0.028719\n",
      "Cost after iteration 21600: 0.028701\n",
      "Cost after iteration 21700: 0.028682\n",
      "Cost after iteration 21800: 0.028664\n",
      "Cost after iteration 21900: 0.028645\n",
      "Cost after iteration 22000: 0.028627\n",
      "Cost after iteration 22100: 0.028609\n",
      "Cost after iteration 22200: 0.028591\n",
      "Cost after iteration 22300: 0.028573\n",
      "Cost after iteration 22400: 0.028556\n",
      "Cost after iteration 22500: 0.028538\n",
      "Cost after iteration 22600: 0.028521\n",
      "Cost after iteration 22700: 0.028504\n",
      "Cost after iteration 22800: 0.028487\n",
      "Cost after iteration 22900: 0.028470\n",
      "Cost after iteration 23000: 0.028454\n",
      "Cost after iteration 23100: 0.028438\n",
      "Cost after iteration 23200: 0.028422\n",
      "Cost after iteration 23300: 0.028406\n",
      "Cost after iteration 23400: 0.028391\n",
      "Cost after iteration 23500: 0.028375\n",
      "Cost after iteration 23600: 0.028360\n"
     ]
    },
    {
     "name": "stdout",
     "output_type": "stream",
     "text": [
      "Cost after iteration 23700: 0.028346\n",
      "Cost after iteration 23800: 0.028331\n",
      "Cost after iteration 23900: 0.028317\n",
      "Cost after iteration 24000: 0.028303\n",
      "Cost after iteration 24100: 0.028290\n",
      "Cost after iteration 24200: 0.028276\n",
      "Cost after iteration 24300: 0.028263\n",
      "Cost after iteration 24400: 0.028250\n",
      "Cost after iteration 24500: 0.028238\n",
      "Cost after iteration 24600: 0.028226\n",
      "Cost after iteration 24700: 0.028214\n",
      "Cost after iteration 24800: 0.028202\n",
      "Cost after iteration 24900: 0.028191\n",
      "Cost after iteration 25000: 0.028180\n",
      "Cost after iteration 25100: 0.028169\n",
      "Cost after iteration 25200: 0.028158\n",
      "Cost after iteration 25300: 0.028148\n",
      "Cost after iteration 25400: 0.028138\n",
      "Cost after iteration 25500: 0.028128\n",
      "Cost after iteration 25600: 0.028119\n",
      "Cost after iteration 25700: 0.028109\n",
      "Cost after iteration 25800: 0.028100\n",
      "Cost after iteration 25900: 0.028092\n",
      "Cost after iteration 26000: 0.028083\n",
      "Cost after iteration 26100: 0.028075\n",
      "Cost after iteration 26200: 0.028067\n",
      "Cost after iteration 26300: 0.028059\n",
      "Cost after iteration 26400: 0.028052\n",
      "Cost after iteration 26500: 0.028044\n",
      "Cost after iteration 26600: 0.028037\n",
      "Cost after iteration 26700: 0.028031\n",
      "Cost after iteration 26800: 0.028024\n",
      "Cost after iteration 26900: 0.028018\n",
      "Cost after iteration 27000: 0.028011\n",
      "Cost after iteration 27100: 0.028006\n",
      "Cost after iteration 27200: 0.028000\n",
      "Cost after iteration 27300: 0.027994\n",
      "Cost after iteration 27400: 0.027989\n",
      "Cost after iteration 27500: 0.027984\n",
      "Cost after iteration 27600: 0.027979\n",
      "Cost after iteration 27700: 0.027974\n",
      "Cost after iteration 27800: 0.027970\n",
      "Cost after iteration 27900: 0.027965\n",
      "Cost after iteration 28000: 0.027961\n",
      "Cost after iteration 28100: 0.027957\n",
      "Cost after iteration 28200: 0.027953\n",
      "Cost after iteration 28300: 0.027949\n",
      "Cost after iteration 28400: 0.027946\n",
      "Cost after iteration 28500: 0.027942\n",
      "Cost after iteration 28600: 0.027939\n",
      "Cost after iteration 28700: 0.027936\n",
      "Cost after iteration 28800: 0.027933\n",
      "Cost after iteration 28900: 0.027930\n",
      "Cost after iteration 29000: 0.027928\n",
      "Cost after iteration 29100: 0.027925\n",
      "Cost after iteration 29200: 0.027923\n",
      "Cost after iteration 29300: 0.027921\n",
      "Cost after iteration 29400: 0.027919\n",
      "Cost after iteration 29500: 0.027917\n",
      "Cost after iteration 29600: 0.027915\n",
      "Cost after iteration 29700: 0.027913\n",
      "Cost after iteration 29800: 0.027912\n",
      "Cost after iteration 29900: 0.027910\n",
      "Cost after iteration 30000: 0.027909\n",
      "Cost after iteration 30100: 0.027907\n",
      "Cost after iteration 30200: 0.027906\n",
      "Cost after iteration 30300: 0.027905\n",
      "Cost after iteration 30400: 0.027904\n",
      "Cost after iteration 30500: 0.027904\n",
      "Cost after iteration 30600: 0.027903\n",
      "Cost after iteration 30700: 0.027902\n",
      "Cost after iteration 30800: 0.027902\n",
      "Cost after iteration 30900: 0.027901\n",
      "Cost after iteration 31000: 0.027901\n",
      "Cost after iteration 31100: 0.027901\n",
      "Cost after iteration 31200: 0.027901\n",
      "Cost after iteration 31300: 0.027900\n",
      "Cost after iteration 31400: 0.027901\n",
      "Cost after iteration 31500: 0.027901\n",
      "Cost after iteration 31600: 0.027901\n",
      "Cost after iteration 31700: 0.027901\n",
      "Cost after iteration 31800: 0.027901\n",
      "Cost after iteration 31900: 0.027902\n",
      "Cost after iteration 32000: 0.027902\n",
      "Cost after iteration 32100: 0.027903\n",
      "Cost after iteration 32200: 0.027903\n",
      "Cost after iteration 32300: 0.027904\n",
      "Cost after iteration 32400: 0.027905\n",
      "Cost after iteration 32500: 0.027906\n",
      "Cost after iteration 32600: 0.027906\n",
      "Cost after iteration 32700: 0.027907\n",
      "Cost after iteration 32800: 0.027908\n",
      "Cost after iteration 32900: 0.027909\n",
      "Cost after iteration 33000: 0.027910\n",
      "Cost after iteration 33100: 0.027912\n",
      "Cost after iteration 33200: 0.027913\n",
      "Cost after iteration 33300: 0.027914\n",
      "Cost after iteration 33400: 0.027915\n",
      "Cost after iteration 33500: 0.027917\n",
      "Cost after iteration 33600: 0.027918\n",
      "Cost after iteration 33700: 0.027920\n",
      "Cost after iteration 33800: 0.027921\n",
      "Cost after iteration 33900: 0.027923\n",
      "Cost after iteration 34000: 0.027924\n",
      "Cost after iteration 34100: 0.027926\n",
      "Cost after iteration 34200: 0.027928\n",
      "Cost after iteration 34300: 0.027929\n",
      "Cost after iteration 34400: 0.027931\n",
      "Cost after iteration 34500: 0.027933\n",
      "Cost after iteration 34600: 0.027935\n",
      "Cost after iteration 34700: 0.027936\n",
      "Cost after iteration 34800: 0.027938\n",
      "Cost after iteration 34900: 0.027940\n",
      "Cost after iteration 35000: 0.027942\n",
      "Cost after iteration 35100: 0.027944\n",
      "Cost after iteration 35200: 0.027946\n",
      "Cost after iteration 35300: 0.027948\n",
      "Cost after iteration 35400: 0.027950\n",
      "Cost after iteration 35500: 0.027952\n",
      "Cost after iteration 35600: 0.027955\n",
      "Cost after iteration 35700: 0.027957\n",
      "Cost after iteration 35800: 0.027959\n",
      "Cost after iteration 35900: 0.027961\n",
      "Cost after iteration 36000: 0.027963\n",
      "Cost after iteration 36100: 0.027966\n",
      "Cost after iteration 36200: 0.027968\n",
      "Cost after iteration 36300: 0.027970\n",
      "Cost after iteration 36400: 0.027973\n",
      "Cost after iteration 36500: 0.027975\n",
      "Cost after iteration 36600: 0.027977\n",
      "Cost after iteration 36700: 0.027980\n",
      "Cost after iteration 36800: 0.027982\n",
      "Cost after iteration 36900: 0.027984\n",
      "Cost after iteration 37000: 0.027987\n",
      "Cost after iteration 37100: 0.027989\n",
      "Cost after iteration 37200: 0.027992\n",
      "Cost after iteration 37300: 0.027994\n",
      "Cost after iteration 37400: 0.027997\n",
      "Cost after iteration 37500: 0.027999\n",
      "Cost after iteration 37600: 0.028002\n",
      "Cost after iteration 37700: 0.028005\n",
      "Cost after iteration 37800: 0.028007\n",
      "Cost after iteration 37900: 0.028010\n",
      "Cost after iteration 38000: 0.028012\n",
      "Cost after iteration 38100: 0.028015\n",
      "Cost after iteration 38200: 0.028018\n",
      "Cost after iteration 38300: 0.028020\n",
      "Cost after iteration 38400: 0.028023\n",
      "Cost after iteration 38500: 0.028026\n",
      "Cost after iteration 38600: 0.028028\n",
      "Cost after iteration 38700: 0.028031\n",
      "Cost after iteration 38800: 0.028034\n",
      "Cost after iteration 38900: 0.028036\n",
      "Cost after iteration 39000: 0.028039\n",
      "Cost after iteration 39100: 0.028042\n",
      "Cost after iteration 39200: 0.028044\n",
      "Cost after iteration 39300: 0.028047\n",
      "Cost after iteration 39400: 0.028050\n",
      "Cost after iteration 39500: 0.028053\n",
      "Cost after iteration 39600: 0.028055\n",
      "Cost after iteration 39700: 0.028058\n",
      "Cost after iteration 39800: 0.028061\n",
      "Cost after iteration 39900: 0.028064\n",
      "Cost after iteration 40000: 0.028067\n",
      "Cost after iteration 40100: 0.028069\n",
      "Cost after iteration 40200: 0.028072\n",
      "Cost after iteration 40300: 0.028075\n",
      "Cost after iteration 40400: 0.028078\n",
      "Cost after iteration 40500: 0.028081\n",
      "Cost after iteration 40600: 0.028083\n",
      "Cost after iteration 40700: 0.028086\n",
      "Cost after iteration 40800: 0.028089\n",
      "Cost after iteration 40900: 0.028092\n",
      "Cost after iteration 41000: 0.028095\n",
      "Cost after iteration 41100: 0.028098\n",
      "Cost after iteration 41200: 0.028100\n",
      "Cost after iteration 41300: 0.028103\n",
      "Cost after iteration 41400: 0.028106\n",
      "Cost after iteration 41500: 0.028109\n",
      "Cost after iteration 41600: 0.028112\n",
      "Cost after iteration 41700: 0.028115\n",
      "Cost after iteration 41800: 0.028118\n",
      "Cost after iteration 41900: 0.028121\n",
      "Cost after iteration 42000: 0.028123\n",
      "Cost after iteration 42100: 0.028126\n",
      "Cost after iteration 42200: 0.028129\n",
      "Cost after iteration 42300: 0.028132\n",
      "Cost after iteration 42400: 0.028135\n",
      "Cost after iteration 42500: 0.028138\n",
      "Cost after iteration 42600: 0.028141\n",
      "Cost after iteration 42700: 0.028144\n",
      "Cost after iteration 42800: 0.028147\n",
      "Cost after iteration 42900: 0.028149\n",
      "Cost after iteration 43000: 0.028152\n",
      "Cost after iteration 43100: 0.028155\n",
      "Cost after iteration 43200: 0.028158\n",
      "Cost after iteration 43300: 0.028161\n",
      "Cost after iteration 43400: 0.028164\n",
      "Cost after iteration 43500: 0.028167\n",
      "Cost after iteration 43600: 0.028170\n",
      "Cost after iteration 43700: 0.028173\n",
      "Cost after iteration 43800: 0.028176\n",
      "Cost after iteration 43900: 0.028179\n",
      "Cost after iteration 44000: 0.028181\n",
      "Cost after iteration 44100: 0.028184\n",
      "Cost after iteration 44200: 0.028187\n",
      "Cost after iteration 44300: 0.028190\n",
      "Cost after iteration 44400: 0.028193\n",
      "Cost after iteration 44500: 0.028196\n",
      "Cost after iteration 44600: 0.028199\n",
      "Cost after iteration 44700: 0.028202\n",
      "Cost after iteration 44800: 0.028205\n",
      "Cost after iteration 44900: 0.028208\n",
      "Cost after iteration 45000: 0.028211\n",
      "Cost after iteration 45100: 0.028214\n",
      "Cost after iteration 45200: 0.028217\n",
      "Cost after iteration 45300: 0.028219\n",
      "Cost after iteration 45400: 0.028222\n",
      "Cost after iteration 45500: 0.028225\n",
      "Cost after iteration 45600: 0.028228\n",
      "Cost after iteration 45700: 0.028231\n",
      "Cost after iteration 45800: 0.028234\n",
      "Cost after iteration 45900: 0.028237\n",
      "Cost after iteration 46000: 0.028240\n",
      "Cost after iteration 46100: 0.028243\n",
      "Cost after iteration 46200: 0.028246\n"
     ]
    },
    {
     "name": "stdout",
     "output_type": "stream",
     "text": [
      "Cost after iteration 46300: 0.028249\n",
      "Cost after iteration 46400: 0.028252\n",
      "Cost after iteration 46500: 0.028255\n",
      "Cost after iteration 46600: 0.028258\n",
      "Cost after iteration 46700: 0.028260\n",
      "Cost after iteration 46800: 0.028263\n",
      "Cost after iteration 46900: 0.028266\n",
      "Cost after iteration 47000: 0.028269\n",
      "Cost after iteration 47100: 0.028272\n",
      "Cost after iteration 47200: 0.028275\n",
      "Cost after iteration 47300: 0.028278\n",
      "Cost after iteration 47400: 0.028281\n",
      "Cost after iteration 47500: 0.028284\n",
      "Cost after iteration 47600: 0.028287\n",
      "Cost after iteration 47700: 0.028290\n",
      "Cost after iteration 47800: 0.028293\n",
      "Cost after iteration 47900: 0.028296\n",
      "Cost after iteration 48000: 0.028299\n",
      "Cost after iteration 48100: 0.028302\n",
      "Cost after iteration 48200: 0.028305\n",
      "Cost after iteration 48300: 0.028307\n",
      "Cost after iteration 48400: 0.028310\n",
      "Cost after iteration 48500: 0.028313\n",
      "Cost after iteration 48600: 0.028316\n",
      "Cost after iteration 48700: 0.028319\n",
      "Cost after iteration 48800: 0.028322\n",
      "Cost after iteration 48900: 0.028325\n",
      "Cost after iteration 49000: 0.028328\n",
      "Cost after iteration 49100: 0.028331\n",
      "Cost after iteration 49200: 0.028334\n",
      "Cost after iteration 49300: 0.028337\n",
      "Cost after iteration 49400: 0.028340\n",
      "Cost after iteration 49500: 0.028343\n",
      "Cost after iteration 49600: 0.028346\n",
      "Cost after iteration 49700: 0.028349\n",
      "Cost after iteration 49800: 0.028352\n",
      "Cost after iteration 49900: 0.028355\n"
     ]
    },
    {
     "data": {
      "image/png": "[encoded data removed]",
      "text/plain": [
       "<Figure size 432x288 with 1 Axes>"
      ]
     },
     "metadata": {
      "needs_background": "light"
     },
     "output_type": "display_data"
    }
   ],
   "source": [
    "nn = NeuronalNetwork(x,y,0.01,0.7)\n",
    "nn.gradient_descend(50000)"
   ]
  },
  {
   "cell_type": "markdown",
   "metadata": {},
   "source": [
    "### Predict and comparing training acurrancy vs validation acurrancy"
   ]
  },
  {
   "cell_type": "markdown",
   "metadata": {},
   "source": [
    "Comparamos el acierto desempeñado por nuestra red neuronal, tanto en el test de entrenamiento como en el de validación. Se prefiere un mejor resultado en el de validación que en el de entrenamiento, ya que esto es signo de que, a priori, no existe ningún tipo de problema de vias o de variance."
   ]
  },
  {
   "cell_type": "code",
   "execution_count": 10,
   "metadata": {},
   "outputs": [
    {
     "name": "stdout",
     "output_type": "stream",
     "text": [
      "Acc: 0.9340000000000003\n",
      "Acc: 1.0\n"
     ]
    }
   ],
   "source": [
    "pred_train = nn.predict(x, y)\n",
    "pred_test = nn.predict(xval, yval)"
   ]
  },
  {
   "cell_type": "markdown",
   "metadata": {},
   "source": [
    "### Function to plot the performance of the nn (skewed classes)"
   ]
  },
  {
   "cell_type": "code",
   "execution_count": 11,
   "metadata": {},
   "outputs": [],
   "source": [
    "def plotCf(a,b,t):\n",
    "    cf =confusion_matrix(a,b)\n",
    "    plt.imshow(cf,cmap=plt.cm.Blues,interpolation='nearest')\n",
    "    plt.colorbar()\n",
    "    plt.title(t)\n",
    "    plt.xlabel('0         Predicted         1')\n",
    "    plt.ylabel('1          Actual            0')\n",
    "    tick_marks = np.arange(len(set(a))) # length of classes\n",
    "    class_labels = ['0','1']\n",
    "    plt.xticks(np.ndarray([0,1]))\n",
    "    plt.yticks(np.ndarray([0,1]))\n",
    "    for i,j in itertools.product(range(cf.shape[0]),range(cf.shape[1])):\n",
    "        plt.text(j,i,format(cf[i,j],'d'),horizontalalignment='center',color='white' if cf[i,j] > (cf.max()*0.7) else 'black')\n",
    "    plt.show();\n"
   ]
  },
  {
   "cell_type": "markdown",
   "metadata": {},
   "source": [
    "### Check how well it predict!"
   ]
  },
  {
   "cell_type": "markdown",
   "metadata": {},
   "source": [
    "Dado los buenos resultados obtenidos, se procede a hacer la predicción, tanto con los datos de entrenamiento como con los de validación. "
   ]
  },
  {
   "cell_type": "code",
   "execution_count": 13,
   "metadata": {},
   "outputs": [
    {
     "name": "stdout",
     "output_type": "stream",
     "text": [
      "Acc: 0.9340000000000003\n"
     ]
    },
    {
     "data": {
      "image/png": "[encoded data removed]",
      "text/plain": [
       "<Figure size 432x288 with 2 Axes>"
      ]
     },
     "metadata": {
      "needs_background": "light"
     },
     "output_type": "display_data"
    },
    {
     "name": "stdout",
     "output_type": "stream",
     "text": [
      "Acc: 1.0\n"
     ]
    },
    {
     "data": {
      "image/png": "[encoded data removed]",
      "text/plain": [
       "<Figure size 432x288 with 2 Axes>"
      ]
     },
     "metadata": {
      "needs_background": "light"
     },
     "output_type": "display_data"
    }
   ],
   "source": [
    "nn.threshold=0.9#0.85\n",
    "nn.X,nn.Y=x, y \n",
    "target=np.around(np.squeeze(y), decimals=0).astype(np.int)\n",
    "predicted=np.around(np.squeeze(nn.predict(x,y)), decimals=0).astype(np.int)\n",
    "plotCf(target,predicted,'Cf Training Set')\n",
    "\n",
    "nn.X,nn.Y=xval, yval \n",
    "target=np.around(np.squeeze(yval), decimals=0).astype(np.int)\n",
    "predicted=np.around(np.squeeze(nn.predict(xval,yval)), decimals=0).astype(np.int)\n",
    "plotCf(target,predicted,'Cf Validation Set')"
   ]
  },
  {
   "cell_type": "code",
   "execution_count": null,
   "metadata": {},
   "outputs": [],
   "source": []
  }
 ],
 "metadata": {
  "kernelspec": {
   "display_name": "Python 3",
   "language": "python",
   "name": "python3"
  },
  "language_info": {
   "codemirror_mode": {
    "name": "ipython",
    "version": 3
   },
   "file_extension": ".py",
   "mimetype": "text/x-python",
   "name": "python",
   "nbconvert_exporter": "python",
   "pygments_lexer": "ipython3",
   "version": "3.7.6"
  }
 },
 "nbformat": 4,
 "nbformat_minor": 2
}