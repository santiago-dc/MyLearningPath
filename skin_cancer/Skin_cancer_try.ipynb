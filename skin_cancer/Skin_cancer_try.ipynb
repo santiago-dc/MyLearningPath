{
 "cells": [
  {
   "cell_type": "markdown",
   "metadata": {},
   "source": [
    "# Skin Cancer Classification"
   ]
  },
  {
   "cell_type": "markdown",
   "metadata": {},
   "source": [
    "En el siguiente notebook se expone el desarrollo de una CNN para clasificar fotografías de lunares en función de si son cancerígenas o no. El dataset está compuesto por fotografías en formato \".jpg\" separadas en carpetas según si pertenecen al set de entrenamiento o de test y según si son benignas o malignas. El dataset parece complicado puesto que las fotografías han sido tomadas desde distintos ángulos, con distinta luz y algunas imágenes se ven peor debido a que el paciente tenia vello en la zona del lunar.\n",
    "\n",
    "El siguiente código refleja el mejor modelo encontrado para la tarea, como este no muestra un rendimiento suficientemente bueno no ha sido incluido en el trabajo."
   ]
  },
  {
   "cell_type": "markdown",
   "metadata": {},
   "source": [
    "### Imports"
   ]
  },
  {
   "cell_type": "code",
   "execution_count": 15,
   "metadata": {},
   "outputs": [],
   "source": [
    "import numpy as np\n",
    "import pandas as pd\n",
    "from PIL import Image\n",
    "import os\n",
    "import glob\n",
    "import matplotlib.pyplot as plt\n",
    "from keras.utils.np_utils import to_categorical\n",
    "from keras.models import Sequential\n",
    "from keras import regularizers \n",
    "from keras.callbacks import ReduceLROnPlateau\n",
    "from keras.layers import Dense, Conv2D, Flatten, MaxPooling2D, AveragePooling2D, BatchNormalization, Dropout\n",
    "\n",
    "np.random.seed(5)"
   ]
  },
  {
   "cell_type": "markdown",
   "metadata": {},
   "source": [
    "### Read data function"
   ]
  },
  {
   "cell_type": "code",
   "execution_count": 16,
   "metadata": {},
   "outputs": [],
   "source": [
    "def read(folder_path):\n",
    "    data_path = os.path.join(folder_path,'*jpg')\n",
    "    folder = glob.glob(data_path)\n",
    "    matrix = []\n",
    "    for f in folder:\n",
    "        img = np.asarray(Image.open(f).convert(\"RGB\"))\n",
    "        matrix.append(img)\n",
    "    matrix = np.asarray(matrix)\n",
    "    return matrix"
   ]
  },
  {
   "cell_type": "markdown",
   "metadata": {},
   "source": [
    "### Model function"
   ]
  },
  {
   "cell_type": "markdown",
   "metadata": {},
   "source": [
    "2 capas de 3 filtros de tamaño 7 y, padding=same y strides=2. Maxpoolin tras las coapas convolucionales y luego una arquitectura de 6 capas fully connected."
   ]
  },
  {
   "cell_type": "code",
   "execution_count": 17,
   "metadata": {},
   "outputs": [],
   "source": [
    "def build_model():\n",
    "    #Model\n",
    "    model = Sequential()\n",
    "\n",
    "    model.add(Conv2D(3, kernel_size=7,padding='same', strides=2, activation='relu', input_shape=(224,224,3)))\n",
    "    model.add(MaxPooling2D(pool_size=(2, 2), strides=2, padding='same', data_format=None))#model.add(BatchNormalization())#model.add(Dropout(0.25))\n",
    "\n",
    "    model.add(Conv2D(3, kernel_size=3,padding='same', strides=2, activation='relu'))\n",
    "    model.add(MaxPooling2D(pool_size=(2, 2), strides=2, padding='same', data_format=None))#model.add(BatchNormalization())#model.add(Dropout(0.25))\n",
    "\n",
    "    #Normal layers\n",
    "    model.add(Flatten())#model.add(Dropout(0.25))\n",
    "    model.add(Dense(450, activation='relu',kernel_regularizer=regularizers.l2(0.01)))# model.add(Dropout(0.25))\n",
    "    model.add(Dense(200, activation='relu',kernel_regularizer=regularizers.l2(0.01)))#model.add(Dropout(0.25))\n",
    "    model.add(Dense(100, activation='relu',kernel_regularizer=regularizers.l2(0.01)))#model.add(Dropout(0.25))\n",
    "    model.add(Dense(30, activation='relu',kernel_regularizer=regularizers.l2(0.01)))\n",
    "    model.add(Dense(2, activation='softmax')) \n",
    "    return model"
   ]
  },
  {
   "cell_type": "markdown",
   "metadata": {},
   "source": [
    "### Load data"
   ]
  },
  {
   "cell_type": "code",
   "execution_count": 18,
   "metadata": {},
   "outputs": [],
   "source": [
    "benign_train_folder = 'data/train/benign'\n",
    "malignant_train_folder = 'data/train/malignant'\n",
    "\n",
    "benign_test_folder = 'data/test/benign'\n",
    "malignant_test_folder = 'data/test/malignant'"
   ]
  },
  {
   "cell_type": "markdown",
   "metadata": {},
   "source": [
    "### Split data"
   ]
  },
  {
   "cell_type": "code",
   "execution_count": 19,
   "metadata": {},
   "outputs": [],
   "source": [
    "X_benign_train = read(benign_train_folder)\n",
    "X_malignant_train = read(malignant_train_folder)\n",
    "X_benign_test = read(benign_test_folder)\n",
    "X_malignant_test = read(malignant_test_folder)"
   ]
  },
  {
   "cell_type": "markdown",
   "metadata": {},
   "source": [
    "### Create labels"
   ]
  },
  {
   "cell_type": "code",
   "execution_count": 20,
   "metadata": {},
   "outputs": [],
   "source": [
    "Y_benign_train = np.zeros(X_benign_train.shape[0])\n",
    "Y_malignant_train = np.ones(X_malignant_train.shape[0])\n",
    "Y_benign_test = np.zeros(X_benign_test.shape[0])\n",
    "Y_malignant_test = np.ones(X_malignant_test.shape[0])"
   ]
  },
  {
   "cell_type": "markdown",
   "metadata": {},
   "source": [
    "### Merge and Shuffle data"
   ]
  },
  {
   "cell_type": "code",
   "execution_count": 21,
   "metadata": {},
   "outputs": [],
   "source": [
    "X_train = np.concatenate((X_benign_train, X_malignant_train), axis = 0)\n",
    "Y_train = np.concatenate((Y_benign_train, Y_malignant_train), axis = 0)\n",
    "s = np.arange(X_train.shape[0])\n",
    "np.random.shuffle(s)\n",
    "X_train = X_train[s]\n",
    "Y_train = Y_train[s]\n",
    "\n",
    "X_test = np.concatenate((X_benign_test, X_malignant_test), axis = 0)\n",
    "Y_test = np.concatenate((Y_benign_test, Y_malignant_test), axis = 0)\n",
    "s = np.arange(X_test.shape[0])\n",
    "np.random.shuffle(s)\n",
    "X_test = X_test[s]\n",
    "Y_test = Y_test[s]"
   ]
  },
  {
   "cell_type": "markdown",
   "metadata": {},
   "source": [
    "### Turn labels into one hot encoding.\n"
   ]
  },
  {
   "cell_type": "code",
   "execution_count": 22,
   "metadata": {},
   "outputs": [],
   "source": [
    "Y_train = to_categorical(Y_train, num_classes= 2)\n",
    "Y_test = to_categorical(Y_test, num_classes= 2)"
   ]
  },
  {
   "cell_type": "markdown",
   "metadata": {},
   "source": [
    "#### Normalization"
   ]
  },
  {
   "cell_type": "code",
   "execution_count": 23,
   "metadata": {},
   "outputs": [],
   "source": [
    "X_train = X_train/255.\n",
    "X_test = X_test/255."
   ]
  },
  {
   "cell_type": "markdown",
   "metadata": {},
   "source": [
    "### CNN"
   ]
  },
  {
   "cell_type": "code",
   "execution_count": 24,
   "metadata": {},
   "outputs": [
    {
     "name": "stdout",
     "output_type": "stream",
     "text": [
      "Train on 2637 samples, validate on 660 samples\n",
      "Epoch 1/50\n",
      "2637/2637 [==============================] - 9s 3ms/step - loss: 1.9190 - accuracy: 0.5446 - val_loss: 0.7288 - val_accuracy: 0.5455\n",
      "Epoch 2/50\n",
      "2637/2637 [==============================] - 9s 3ms/step - loss: 0.6764 - accuracy: 0.6166 - val_loss: 0.6064 - val_accuracy: 0.6939\n",
      "Epoch 3/50\n",
      "2637/2637 [==============================] - 8s 3ms/step - loss: 0.5776 - accuracy: 0.7399 - val_loss: 0.5463 - val_accuracy: 0.7712\n",
      "Epoch 4/50\n",
      "2637/2637 [==============================] - 8s 3ms/step - loss: 0.5333 - accuracy: 0.7649 - val_loss: 0.4958 - val_accuracy: 0.7606\n",
      "Epoch 5/50\n",
      "2637/2637 [==============================] - 8s 3ms/step - loss: 0.5057 - accuracy: 0.7793 - val_loss: 0.5123 - val_accuracy: 0.7470\n",
      "Epoch 6/50\n",
      "2637/2637 [==============================] - 8s 3ms/step - loss: 0.4985 - accuracy: 0.7876 - val_loss: 0.5346 - val_accuracy: 0.7985\n",
      "Epoch 7/50\n",
      "2637/2637 [==============================] - 8s 3ms/step - loss: 0.4789 - accuracy: 0.8028 - val_loss: 0.4534 - val_accuracy: 0.8015\n",
      "Epoch 8/50\n",
      "2637/2637 [==============================] - 8s 3ms/step - loss: 0.4640 - accuracy: 0.8130 - val_loss: 0.4430 - val_accuracy: 0.8091\n",
      "Epoch 9/50\n",
      "2637/2637 [==============================] - 8s 3ms/step - loss: 0.4500 - accuracy: 0.8237 - val_loss: 0.4614 - val_accuracy: 0.8152\n",
      "Epoch 10/50\n",
      "2637/2637 [==============================] - 8s 3ms/step - loss: 0.4606 - accuracy: 0.8142 - val_loss: 0.4435 - val_accuracy: 0.8106\n",
      "Epoch 11/50\n",
      "2637/2637 [==============================] - 8s 3ms/step - loss: 0.4552 - accuracy: 0.8100 - val_loss: 0.4433 - val_accuracy: 0.8061\n",
      "Epoch 12/50\n",
      "2637/2637 [==============================] - 8s 3ms/step - loss: 0.4308 - accuracy: 0.8225 - val_loss: 0.4492 - val_accuracy: 0.8167\n",
      "Epoch 13/50\n",
      "2637/2637 [==============================] - 8s 3ms/step - loss: 0.4316 - accuracy: 0.8271 - val_loss: 0.4348 - val_accuracy: 0.8182\n",
      "Epoch 14/50\n",
      "2637/2637 [==============================] - 8s 3ms/step - loss: 0.4224 - accuracy: 0.8354 - val_loss: 0.4580 - val_accuracy: 0.8212\n",
      "Epoch 15/50\n",
      "2637/2637 [==============================] - 8s 3ms/step - loss: 0.4205 - accuracy: 0.8362 - val_loss: 0.5367 - val_accuracy: 0.7530\n",
      "Epoch 16/50\n",
      "2637/2637 [==============================] - 8s 3ms/step - loss: 0.4310 - accuracy: 0.8354 - val_loss: 0.4274 - val_accuracy: 0.8288\n",
      "Epoch 17/50\n",
      "2637/2637 [==============================] - 8s 3ms/step - loss: 0.4207 - accuracy: 0.8385 - val_loss: 0.4443 - val_accuracy: 0.8288\n",
      "Epoch 18/50\n",
      "2637/2637 [==============================] - 8s 3ms/step - loss: 0.4167 - accuracy: 0.8369 - val_loss: 0.4337 - val_accuracy: 0.8197\n",
      "Epoch 19/50\n",
      "2637/2637 [==============================] - 9s 3ms/step - loss: 0.4166 - accuracy: 0.8350 - val_loss: 0.4713 - val_accuracy: 0.8076\n",
      "Epoch 20/50\n",
      "2637/2637 [==============================] - 10s 4ms/step - loss: 0.3973 - accuracy: 0.8426 - val_loss: 0.4343 - val_accuracy: 0.8030\n",
      "Epoch 21/50\n",
      "2637/2637 [==============================] - 10s 4ms/step - loss: 0.4040 - accuracy: 0.8407 - val_loss: 0.4267 - val_accuracy: 0.8242\n",
      "Epoch 22/50\n",
      "2637/2637 [==============================] - 9s 3ms/step - loss: 0.3969 - accuracy: 0.8495 - val_loss: 0.4283 - val_accuracy: 0.8227\n",
      "Epoch 23/50\n",
      "2637/2637 [==============================] - 8s 3ms/step - loss: 0.3872 - accuracy: 0.8570 - val_loss: 0.4277 - val_accuracy: 0.8182\n",
      "Epoch 24/50\n",
      "2637/2637 [==============================] - 9s 3ms/step - loss: 0.3978 - accuracy: 0.8449 - val_loss: 0.4302 - val_accuracy: 0.8076\n",
      "Epoch 25/50\n",
      "2637/2637 [==============================] - 9s 3ms/step - loss: 0.3850 - accuracy: 0.8513 - val_loss: 0.4804 - val_accuracy: 0.8182\n",
      "Epoch 26/50\n",
      "2637/2637 [==============================] - 9s 3ms/step - loss: 0.3847 - accuracy: 0.8578 - val_loss: 0.4257 - val_accuracy: 0.8348\n",
      "Epoch 27/50\n",
      "2637/2637 [==============================] - 9s 3ms/step - loss: 0.3759 - accuracy: 0.8646 - val_loss: 0.4746 - val_accuracy: 0.8045\n",
      "Epoch 28/50\n",
      "2637/2637 [==============================] - 8s 3ms/step - loss: 0.3755 - accuracy: 0.8544 - val_loss: 0.4282 - val_accuracy: 0.8197\n",
      "Epoch 29/50\n",
      "2637/2637 [==============================] - 8s 3ms/step - loss: 0.3669 - accuracy: 0.8665 - val_loss: 0.4833 - val_accuracy: 0.8152\n",
      "Epoch 30/50\n",
      "2637/2637 [==============================] - 8s 3ms/step - loss: 0.3753 - accuracy: 0.8620 - val_loss: 0.4184 - val_accuracy: 0.8227\n",
      "Epoch 31/50\n",
      "2637/2637 [==============================] - 8s 3ms/step - loss: 0.3683 - accuracy: 0.8692 - val_loss: 0.4278 - val_accuracy: 0.8106\n",
      "Epoch 32/50\n",
      "2637/2637 [==============================] - 8s 3ms/step - loss: 0.3606 - accuracy: 0.8714 - val_loss: 0.4807 - val_accuracy: 0.8197\n",
      "Epoch 33/50\n",
      "2637/2637 [==============================] - 8s 3ms/step - loss: 0.3599 - accuracy: 0.8673 - val_loss: 0.4434 - val_accuracy: 0.8000\n",
      "Epoch 34/50\n",
      "2637/2637 [==============================] - 9s 3ms/step - loss: 0.3492 - accuracy: 0.8714 - val_loss: 0.4671 - val_accuracy: 0.8303\n",
      "Epoch 35/50\n",
      "2637/2637 [==============================] - 8s 3ms/step - loss: 0.3558 - accuracy: 0.8745 - val_loss: 0.4331 - val_accuracy: 0.8227\n",
      "Epoch 36/50\n",
      "2637/2637 [==============================] - 8s 3ms/step - loss: 0.3411 - accuracy: 0.8794 - val_loss: 0.5329 - val_accuracy: 0.8030\n",
      "Epoch 37/50\n",
      "2637/2637 [==============================] - 8s 3ms/step - loss: 0.3481 - accuracy: 0.8821 - val_loss: 0.5562 - val_accuracy: 0.7924\n",
      "Epoch 38/50\n",
      "2637/2637 [==============================] - 8s 3ms/step - loss: 0.3398 - accuracy: 0.8813 - val_loss: 0.5018 - val_accuracy: 0.7985\n",
      "Epoch 39/50\n",
      "2637/2637 [==============================] - 8s 3ms/step - loss: 0.3442 - accuracy: 0.8775 - val_loss: 0.4482 - val_accuracy: 0.8258\n",
      "Epoch 40/50\n",
      "2637/2637 [==============================] - 8s 3ms/step - loss: 0.3327 - accuracy: 0.8881 - val_loss: 0.4517 - val_accuracy: 0.8348\n",
      "Epoch 41/50\n",
      "2637/2637 [==============================] - 8s 3ms/step - loss: 0.3324 - accuracy: 0.8908 - val_loss: 0.4536 - val_accuracy: 0.8258\n",
      "Epoch 42/50\n",
      "2637/2637 [==============================] - 8s 3ms/step - loss: 0.3356 - accuracy: 0.8862 - val_loss: 0.4838 - val_accuracy: 0.7864\n",
      "Epoch 43/50\n",
      "2637/2637 [==============================] - 8s 3ms/step - loss: 0.3355 - accuracy: 0.8889 - val_loss: 0.4838 - val_accuracy: 0.8091\n",
      "Epoch 44/50\n",
      "2637/2637 [==============================] - 8s 3ms/step - loss: 0.3282 - accuracy: 0.8866 - val_loss: 0.4905 - val_accuracy: 0.8227\n",
      "Epoch 45/50\n",
      "2637/2637 [==============================] - 8s 3ms/step - loss: 0.3235 - accuracy: 0.8957 - val_loss: 0.4732 - val_accuracy: 0.8197\n",
      "Epoch 46/50\n",
      "2637/2637 [==============================] - 8s 3ms/step - loss: 0.3280 - accuracy: 0.8908 - val_loss: 0.4742 - val_accuracy: 0.8136\n",
      "Epoch 47/50\n",
      "2637/2637 [==============================] - 8s 3ms/step - loss: 0.3109 - accuracy: 0.9048 - val_loss: 0.5090 - val_accuracy: 0.8076\n",
      "Epoch 48/50\n",
      "2637/2637 [==============================] - 8s 3ms/step - loss: 0.3227 - accuracy: 0.8972 - val_loss: 0.5072 - val_accuracy: 0.8136\n",
      "Epoch 49/50\n",
      "2637/2637 [==============================] - 8s 3ms/step - loss: 0.3002 - accuracy: 0.9067 - val_loss: 0.5081 - val_accuracy: 0.8242\n",
      "Epoch 50/50\n",
      "2637/2637 [==============================] - 8s 3ms/step - loss: 0.3126 - accuracy: 0.9022 - val_loss: 0.4742 - val_accuracy: 0.8227\n"
     ]
    },
    {
     "data": {
      "text/plain": [
       "<keras.callbacks.callbacks.History at 0x277a6385788>"
      ]
     },
     "execution_count": 24,
     "metadata": {},
     "output_type": "execute_result"
    }
   ],
   "source": [
    "model = build_model()\n",
    "\n",
    "model.compile(loss='categorical_crossentropy',optimizer='adam',metrics=['accuracy'])\n",
    "\n",
    "model.fit(X_train,Y_train,validation_data=(X_test, Y_test),batch_size=10,epochs=50)"
   ]
  },
  {
   "cell_type": "markdown",
   "metadata": {},
   "source": [
    "El resultado final es de una 90% en el entrenamiento y 82% en el test."
   ]
  },
  {
   "cell_type": "code",
   "execution_count": 25,
   "metadata": {},
   "outputs": [
    {
     "name": "stdout",
     "output_type": "stream",
     "text": [
      "660/660 [==============================] - 1s 2ms/step\n",
      "Test Acc:  0.8227272629737854\n"
     ]
    }
   ],
   "source": [
    "test_loss, test_acc = model.evaluate(X_test, Y_test,batch_size=10)\n",
    "print('Test Acc: ',test_acc)\n"
   ]
  }
 ],
 "metadata": {
  "kernelspec": {
   "display_name": "Python 3.7.6 64-bit",
   "language": "python",
   "name": "python37664bitafcaf6bb83bd42b38a1a3d733de9b838"
  },
  "language_info": {
   "codemirror_mode": {
    "name": "ipython",
    "version": 3
   },
   "file_extension": ".py",
   "mimetype": "text/x-python",
   "name": "python",
   "nbconvert_exporter": "python",
   "pygments_lexer": "ipython3",
   "version": "3.7.6"
  }
 },
 "nbformat": 4,
 "nbformat_minor": 4
}
