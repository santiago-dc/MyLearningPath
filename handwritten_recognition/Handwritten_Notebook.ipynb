{
 "cells": [
  {
   "cell_type": "markdown",
   "execution_count": null,
   "metadata": {},
   "outputs": [],
   "source": [
    "# Handwritten numbers Recognition"
   ]
  },
  {
   "cell_type": "code",
   "execution_count": 17,
   "metadata": {},
   "outputs": [],
   "source": [
    "import pandas as pd\n",
    "import numpy as np\n",
    "import tensorflow as tf\n",
    "from tensorflow import keras "
   ]
  },
  {
   "cell_type": "markdown",
   "execution_count": null,
   "metadata": {},
   "outputs": [],
   "source": [
    "## Load Data"
   ]
  },
  {
   "cell_type": "markdown",
   "execution_count": null,
   "metadata": {},
   "outputs": [],
   "source": [
    "Extraer datos. Las imágenes son de 28*28 píxeles, por lo tanto el csv tiene 784 columnas más 1 indicando la salida"
   ]
  },
  {
   "cell_type": "code",
   "execution_count": 18,
   "metadata": {},
   "outputs": [],
   "source": [
    "def extract():\n",
    "    df_train = pd.read_csv('data/mnist_train.csv', delimiter = ',').to_numpy()\n",
    "    df_test = pd.read_csv('data/mnist_test.csv', delimiter = ',').to_numpy()\n",
    "    df = pd.DataFrame(np.concatenate((df_train,df_test)))\n",
    "    return df"
   ]
  },
  {
   "cell_type": "markdown",
   "execution_count": null,
   "metadata": {},
   "outputs": [],
   "source": [
    "Transformar output a array de 10 y separar de las inputs"
   ]
  },
  {
   "cell_type": "code",
   "execution_count": 19,
   "metadata": {},
   "outputs": [],
   "source": [
    "def transform(df): \n",
    "    y_raw = df.iloc[:, 0].to_numpy()\n",
    "    x = df.drop(df.columns[0], axis='columns').to_numpy()\n",
    "    y = []\n",
    "    for i in range(0,y_raw.shape[0]):\n",
    "        row=np.zeros(10)\n",
    "        row[y_raw[i]]=1\n",
    "        y.append(row)\n",
    "    y=np.array(y)\n",
    "    y.reshape(y.shape[0],10)\n",
    "    return x, y"
   ]
  },
  {
   "cell_type": "markdown",
   "execution_count": null,
   "metadata": {},
   "outputs": [],
   "source": [
    "Creamos los dataset de entrenamiento y test"
   ]
  },
  {
   "cell_type": "code",
   "execution_count": 20,
   "metadata": {},
   "outputs": [],
   "source": [
    "df = extract()\n",
    "x_train,y_train = transform(df.iloc[0:60000])\n",
    "#x_val,y_val = transform(df.iloc[50000:60000])\n",
    "x_test,y_test = transform(df.iloc[60000:70000])"
   ]
  },
  {
   "cell_type": "markdown",
   "execution_count": null,
   "metadata": {},
   "outputs": [],
   "source": [
    "## Creación de la Red Neuronal"
   ]
  },
  {
   "cell_type": "markdown",
   "execution_count": null,
   "metadata": {},
   "outputs": [],
   "source": [
    "En la red neuronal vamoas a implementar una arquitectura de (784,512,256,128,10), con funciones de activación ReLu en todas las capas menos en la última, en la cual utilizaremos la funcion softmax (https://www.quora.com/Why-is-it-better-to-use-Softmax-function-than-sigmoid-function).<br> Para cada capa se utilizará la funcion Dense, la cual tiene los siguientes parámetros por defecto:\n",
    "- activation=None,\n",
    "- use_bias=True,\n",
    "- kernel_initializer='glorot_uniform',\n",
    "- bias_initializer='zeros',\n",
    "- kernel_regularizer=None,\n",
    "- bias_regularizer=None,\n",
    "- activity_regularizer=None,\n",
    "- kernel_constraint=None,\n",
    "- bias_constraint=None\n",
    "\n",
    "\n"
   ]
  },
  {
   "cell_type": "code",
   "execution_count": 21,
   "metadata": {},
   "outputs": [],
   "source": [
    "model = keras.Sequential([\n",
    "    keras.layers.Dense(784, input_dim=784),\n",
    "    keras.layers.Dense(512, activation=\"relu\"),\n",
    "    keras.layers.Dense(256, activation=\"relu\"),\n",
    "    keras.layers.Dense(128, activation=\"relu\"),\n",
    "    keras.layers.Dense(10, activation=\"softmax\")#Softmax is a sort of Multi Class Sigmoid\n",
    "])"
   ]
  },
  {
   "cell_type": "markdown",
   "execution_count": null,
   "metadata": {},
   "outputs": [],
   "source": [
    "Vamos a crear y entrenar el modelo, 50 epochs serán suficientes."
   ]
  },
  {
   "cell_type": "code",
   "execution_count": 27,
   "metadata": {},
   "outputs": [
    {
     "name": "stdout",
     "output_type": "stream",
     "text": "Train on 60000 samples\nEpoch 1/50\n60000/60000 [==============================] - 7s 112us/sample - loss: 0.0862 - accuracy: 0.9886\nEpoch 2/50\n60000/60000 [==============================] - 6s 104us/sample - loss: 0.0609 - accuracy: 0.9885\nEpoch 3/50\n60000/60000 [==============================] - 7s 109us/sample - loss: 0.1227 - accuracy: 0.9816\nEpoch 4/50\n60000/60000 [==============================] - 6s 108us/sample - loss: 0.0645 - accuracy: 0.9866\nEpoch 5/50\n60000/60000 [==============================] - 7s 112us/sample - loss: 0.1155 - accuracy: 0.9765\nEpoch 6/50\n60000/60000 [==============================] - 7s 109us/sample - loss: 0.1345 - accuracy: 0.9725\nEpoch 7/50\n60000/60000 [==============================] - 7s 110us/sample - loss: 0.0860 - accuracy: 0.9812\nEpoch 8/50\n60000/60000 [==============================] - 7s 110us/sample - loss: 0.0542 - accuracy: 0.9888\nEpoch 9/50\n60000/60000 [==============================] - 7s 111us/sample - loss: 0.0531 - accuracy: 0.9886\nEpoch 10/50\n60000/60000 [==============================] - 7s 111us/sample - loss: 0.1205 - accuracy: 0.9744\nEpoch 11/50\n60000/60000 [==============================] - 7s 112us/sample - loss: 0.1660 - accuracy: 0.9710\nEpoch 12/50\n60000/60000 [==============================] - 7s 110us/sample - loss: 0.1534 - accuracy: 0.9662\nEpoch 13/50\n60000/60000 [==============================] - 8s 130us/sample - loss: 0.1777 - accuracy: 0.9623\nEpoch 14/50\n60000/60000 [==============================] - 7s 125us/sample - loss: 0.1081 - accuracy: 0.9762\nEpoch 15/50\n60000/60000 [==============================] - 7s 124us/sample - loss: 0.0945 - accuracy: 0.9818\nEpoch 16/50\n60000/60000 [==============================] - 8s 126us/sample - loss: 0.0466 - accuracy: 0.9892\nEpoch 17/50\n60000/60000 [==============================] - 8s 127us/sample - loss: 0.0644 - accuracy: 0.9854\nEpoch 18/50\n60000/60000 [==============================] - 8s 127us/sample - loss: 0.0545 - accuracy: 0.9884\nEpoch 19/50\n60000/60000 [==============================] - 8s 125us/sample - loss: 0.0565 - accuracy: 0.9867\nEpoch 20/50\n60000/60000 [==============================] - 8s 129us/sample - loss: 0.0896 - accuracy: 0.9794\nEpoch 21/50\n60000/60000 [==============================] - 7s 123us/sample - loss: 0.1039 - accuracy: 0.9757\nEpoch 22/50\n60000/60000 [==============================] - 7s 116us/sample - loss: 0.1159 - accuracy: 0.9782\nEpoch 23/50\n60000/60000 [==============================] - 7s 113us/sample - loss: 0.0837 - accuracy: 0.9817\nEpoch 24/50\n60000/60000 [==============================] - 8s 131us/sample - loss: 0.0604 - accuracy: 0.9851\nEpoch 25/50\n60000/60000 [==============================] - 7s 114us/sample - loss: 0.0552 - accuracy: 0.9884\nEpoch 26/50\n60000/60000 [==============================] - 7s 118us/sample - loss: 0.0902 - accuracy: 0.9817\nEpoch 27/50\n60000/60000 [==============================] - 7s 117us/sample - loss: 0.1573 - accuracy: 0.9666\nEpoch 28/50\n60000/60000 [==============================] - 7s 113us/sample - loss: 0.1236 - accuracy: 0.9695\nEpoch 29/50\n60000/60000 [==============================] - 7s 116us/sample - loss: 0.1663 - accuracy: 0.9634\nEpoch 30/50\n60000/60000 [==============================] - 7s 120us/sample - loss: 0.0908 - accuracy: 0.9785\nEpoch 31/50\n60000/60000 [==============================] - 8s 127us/sample - loss: 0.0770 - accuracy: 0.9829\nEpoch 32/50\n60000/60000 [==============================] - 9s 155us/sample - loss: 0.0567 - accuracy: 0.9847\nEpoch 33/50\n60000/60000 [==============================] - 8s 134us/sample - loss: 0.0976 - accuracy: 0.9785\nEpoch 34/50\n60000/60000 [==============================] - 9s 153us/sample - loss: 0.0887 - accuracy: 0.9783\nEpoch 35/50\n60000/60000 [==============================] - 9s 151us/sample - loss: 0.0680 - accuracy: 0.9835\nEpoch 36/50\n60000/60000 [==============================] - 9s 145us/sample - loss: 0.1105 - accuracy: 0.9769\nEpoch 37/50\n60000/60000 [==============================] - 7s 119us/sample - loss: 0.0819 - accuracy: 0.9821\nEpoch 38/50\n60000/60000 [==============================] - 7s 111us/sample - loss: 0.1537 - accuracy: 0.9714\nEpoch 39/50\n60000/60000 [==============================] - 7s 110us/sample - loss: 0.1250 - accuracy: 0.9744\nEpoch 40/50\n60000/60000 [==============================] - 8s 130us/sample - loss: 0.1882 - accuracy: 0.9552\nEpoch 41/50\n60000/60000 [==============================] - 7s 121us/sample - loss: 0.0849 - accuracy: 0.9798\nEpoch 42/50\n60000/60000 [==============================] - 7s 113us/sample - loss: 0.0644 - accuracy: 0.9849\nEpoch 43/50\n60000/60000 [==============================] - 7s 109us/sample - loss: 0.1243 - accuracy: 0.9706\nEpoch 44/50\n60000/60000 [==============================] - 6s 106us/sample - loss: 0.2783 - accuracy: 0.9389\nEpoch 45/50\n60000/60000 [==============================] - 7s 112us/sample - loss: 0.1479 - accuracy: 0.9626\nEpoch 46/50\n60000/60000 [==============================] - 7s 115us/sample - loss: 0.1454 - accuracy: 0.9668\nEpoch 47/50\n60000/60000 [==============================] - 7s 117us/sample - loss: 0.1584 - accuracy: 0.9535\nEpoch 48/50\n60000/60000 [==============================] - 7s 124us/sample - loss: 0.1146 - accuracy: 0.9717\nEpoch 49/50\n60000/60000 [==============================] - 7s 118us/sample - loss: 0.0962 - accuracy: 0.9787\nEpoch 50/50\n60000/60000 [==============================] - 7s 109us/sample - loss: 0.1454 - accuracy: 0.9717\n"
    },
    {
     "data": {
      "text/plain": "<tensorflow.python.keras.callbacks.History at 0x21557fc4708>"
     },
     "execution_count": 27,
     "metadata": {},
     "output_type": "execute_result"
    }
   ],
   "source": [
    "model.compile(loss='categorical_crossentropy', optimizer='adam', metrics=['accuracy'])#learning_rate=0.001\n",
    "model.fit(x_train, y_train, epochs = 50, batch_size=200, verbose=1)"
   ]
  },
  {
   "cell_type": "markdown",
   "execution_count": null,
   "metadata": {},
   "outputs": [],
   "source": [
    "Evaluamos el modelo con el acierto de los datos de prueba"
   ]
  },
  {
   "cell_type": "code",
   "execution_count": 23,
   "metadata": {},
   "outputs": [
    {
     "name": "stdout",
     "output_type": "stream",
     "text": "9998/9998 [==============================] - 1s 132us/sample - loss: 0.1259 - accuracy: 0.9786\nTest Acc:  0.97859573\n"
    }
   ],
   "source": [
    "tes_loss, test_acc = model.evaluate(x_test, y_test)\n",
    "print('Test Acc: ', test_acc)"
   ]
  }
 ],
 "metadata": {
  "kernelspec": {
   "display_name": "Python 3",
   "language": "python",
   "name": "python3"
  },
  "language_info": {
   "codemirror_mode": {
    "name": "ipython",
    "version": 3
   },
   "file_extension": ".py",
   "mimetype": "text/x-python",
   "name": "python",
   "nbconvert_exporter": "python",
   "pygments_lexer": "ipython3",
   "version": "3.7.4-final"
  }
 },
 "nbformat": 4,
 "nbformat_minor": 2
}