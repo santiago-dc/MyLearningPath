{
 "cells": [
  {
   "cell_type": "markdown",
   "metadata": {},
   "source": [
    "# Skin Cancer Classification"
   ]
  },
  {
   "cell_type": "markdown",
   "metadata": {},
   "source": [
    "En el siguiente notebook se expone el desarrollo de una CNN para clasificar fotografías de lunares en función de si son cancerígenas o no. El dataset está compuesto por fotografías en formato \".jpg\" separadas en carpetas según si pertenecen al set de entrenamiento o de test y según si son benignas o malignas. El dataset parece complicado puesto que las fotografías han sido tomadas desde distintos ángulos, con distinta luz y algunas imágenes se ven peor debido a que el paciente tenia vello en la zona del lunar."
   ]
  },
  {
   "cell_type": "markdown",
   "metadata": {},
   "source": [
    "### Imports"
   ]
  },
  {
   "cell_type": "code",
   "execution_count": 1,
   "metadata": {},
   "outputs": [
    {
     "name": "stderr",
     "output_type": "stream",
     "text": [
      "Using TensorFlow backend.\n"
     ]
    }
   ],
   "source": [
    "import numpy as np\n",
    "import pandas as pd\n",
    "from PIL import Image\n",
    "import os\n",
    "import glob\n",
    "import matplotlib.pyplot as plt\n",
    "from keras.utils.np_utils import to_categorical\n",
    "np.random.seed(5)"
   ]
  },
  {
   "cell_type": "markdown",
   "metadata": {},
   "source": [
    "## ETL process"
   ]
  },
  {
   "cell_type": "markdown",
   "metadata": {},
   "source": [
    "### Load data"
   ]
  },
  {
   "cell_type": "code",
   "execution_count": 2,
   "metadata": {},
   "outputs": [],
   "source": [
    "benign_train_folder = 'data/train/benign'\n",
    "malignant_train_folder = 'data/train/malignant'\n",
    "\n",
    "benign_test_folder = 'data/test/benign'\n",
    "malignant_test_folder = 'data/test/malignant'"
   ]
  },
  {
   "cell_type": "markdown",
   "metadata": {},
   "source": [
    "Función para leer todas las imágenes de una carpeta"
   ]
  },
  {
   "cell_type": "code",
   "execution_count": 3,
   "metadata": {},
   "outputs": [],
   "source": [
    "def read(folder_path):\n",
    "    data_path = os.path.join(folder_path,'*jpg')\n",
    "    folder = glob.glob(data_path)\n",
    "    matrix = []\n",
    "    for f in folder:\n",
    "        img = np.asarray(Image.open(f).convert(\"RGB\"))\n",
    "        matrix.append(img)\n",
    "    matrix = np.asarray(matrix)\n",
    "    return matrix\n",
    "\n",
    "#Create data\n",
    "X_benign_train = read(benign_train_folder)\n",
    "X_malignant_train = read(malignant_train_folder)\n",
    "X_benign_test = read(benign_test_folder)\n",
    "X_malignant_test = read(malignant_test_folder)"
   ]
  },
  {
   "cell_type": "markdown",
   "metadata": {},
   "source": [
    "Creamos las etiquetas para cada set de datos; 0 para los benignos y 1 para los malignos."
   ]
  },
  {
   "cell_type": "code",
   "execution_count": 4,
   "metadata": {},
   "outputs": [],
   "source": [
    "Y_benign_train = np.zeros(X_benign_train.shape[0])\n",
    "Y_malignant_train = np.ones(X_malignant_train.shape[0])\n",
    "Y_benign_test = np.zeros(X_benign_test.shape[0])\n",
    "Y_malignant_test = np.ones(X_malignant_test.shape[0])"
   ]
  },
  {
   "cell_type": "markdown",
   "metadata": {},
   "source": [
    "Concatenamos los set de datos y los barajamos, la red funcionaría peor si los datos de entrenamiento estuvieran ordenados en función la salida."
   ]
  },
  {
   "cell_type": "code",
   "execution_count": 5,
   "metadata": {},
   "outputs": [],
   "source": [
    "X_train = np.concatenate((X_benign_train, X_malignant_train), axis = 0)\n",
    "Y_train = np.concatenate((Y_benign_train, Y_malignant_train), axis = 0)\n",
    "s = np.arange(X_train.shape[0])\n",
    "np.random.shuffle(s)\n",
    "X_train = X_train[s]\n",
    "Y_train = Y_train[s]\n",
    "\n",
    "X_test = np.concatenate((X_benign_test, X_malignant_test), axis = 0)\n",
    "Y_test = np.concatenate((Y_benign_test, Y_malignant_test), axis = 0)\n",
    "s = np.arange(X_test.shape[0])\n",
    "np.random.shuffle(s)\n",
    "X_test = X_test[s]\n",
    "Y_test = Y_test[s]"
   ]
  },
  {
   "cell_type": "markdown",
   "metadata": {},
   "source": [
    "Normalizaión y transformación de las salidas"
   ]
  },
  {
   "cell_type": "code",
   "execution_count": 6,
   "metadata": {},
   "outputs": [
    {
     "name": "stdout",
     "output_type": "stream",
     "text": [
      "(2637, 224, 224, 3)\n"
     ]
    }
   ],
   "source": [
    "#Turn labels into one hot encoding (ya veremos si esto hace falta o si lo dejo)\n",
    "Y_train = to_categorical(Y_train, num_classes= 2)\n",
    "Y_test = to_categorical(Y_test, num_classes= 2)\n",
    "\n",
    "# Normalization\n",
    "X_train = X_train/255.\n",
    "X_test = X_test/255.\n",
    "print(X_train.shape)"
   ]
  },
  {
   "cell_type": "markdown",
   "metadata": {},
   "source": [
    "## Model  "
   ]
  },
  {
   "cell_type": "code",
   "execution_count": 7,
   "metadata": {},
   "outputs": [],
   "source": [
    "from tensorflow import keras \n",
    "from keras.models import Sequential\n",
    "from keras.layers import Dense, Conv2D, Flatten, MaxPooling2D, AveragePooling2D"
   ]
  },
  {
   "cell_type": "markdown",
   "metadata": {},
   "source": [
    "Se implementa un modelo con 3 capas convolucionales y 3 capas de Maxpooling que vuelcan los resultados en una capa fully connected conectada con una capa de 30 neuronas."
   ]
  },
  {
   "cell_type": "code",
   "execution_count": 8,
   "metadata": {},
   "outputs": [
    {
     "ename": "KeyboardInterrupt",
     "evalue": "",
     "output_type": "error",
     "traceback": [
      "\u001b[1;31m---------------------------------------------------------------------------\u001b[0m",
      "\u001b[1;31mKeyboardInterrupt\u001b[0m                         Traceback (most recent call last)",
      "\u001b[1;32m<ipython-input-8-eb2c075492dc>\u001b[0m in \u001b[0;36m<module>\u001b[1;34m\u001b[0m\n\u001b[0;32m      3\u001b[0m \u001b[1;32mfrom\u001b[0m \u001b[0mkeras\u001b[0m\u001b[1;33m.\u001b[0m\u001b[0mlayers\u001b[0m \u001b[1;32mimport\u001b[0m \u001b[0mDense\u001b[0m\u001b[1;33m,\u001b[0m \u001b[0mConv2D\u001b[0m\u001b[1;33m,\u001b[0m \u001b[0mFlatten\u001b[0m\u001b[1;33m,\u001b[0m \u001b[0mMaxPooling2D\u001b[0m\u001b[1;33m,\u001b[0m \u001b[0mAveragePooling2D\u001b[0m\u001b[1;33m,\u001b[0m \u001b[0mBatchNormalization\u001b[0m\u001b[1;33m,\u001b[0m \u001b[0mDropout\u001b[0m\u001b[1;33m\u001b[0m\u001b[1;33m\u001b[0m\u001b[0m\n\u001b[0;32m      4\u001b[0m \u001b[0mmodel\u001b[0m \u001b[1;33m=\u001b[0m \u001b[0mSequential\u001b[0m\u001b[1;33m(\u001b[0m\u001b[1;33m)\u001b[0m\u001b[1;33m\u001b[0m\u001b[1;33m\u001b[0m\u001b[0m\n\u001b[1;32m----> 5\u001b[1;33m \u001b[0mmodel\u001b[0m\u001b[1;33m.\u001b[0m\u001b[0madd\u001b[0m\u001b[1;33m(\u001b[0m\u001b[0mConv2D\u001b[0m\u001b[1;33m(\u001b[0m\u001b[1;36m3\u001b[0m\u001b[1;33m,\u001b[0m \u001b[0mkernel_size\u001b[0m\u001b[1;33m=\u001b[0m\u001b[1;36m7\u001b[0m \u001b[1;33m,\u001b[0m\u001b[0mpadding\u001b[0m\u001b[1;33m=\u001b[0m\u001b[1;34m'same'\u001b[0m\u001b[1;33m,\u001b[0m \u001b[0mstrides\u001b[0m\u001b[1;33m=\u001b[0m\u001b[1;36m2\u001b[0m\u001b[1;33m,\u001b[0m \u001b[0mactivation\u001b[0m\u001b[1;33m=\u001b[0m\u001b[1;34m'relu'\u001b[0m\u001b[1;33m,\u001b[0m \u001b[0minput_shape\u001b[0m\u001b[1;33m=\u001b[0m\u001b[1;33m(\u001b[0m\u001b[1;36m224\u001b[0m\u001b[1;33m,\u001b[0m\u001b[1;36m224\u001b[0m\u001b[1;33m,\u001b[0m\u001b[1;36m3\u001b[0m\u001b[1;33m)\u001b[0m\u001b[1;33m)\u001b[0m\u001b[1;33m)\u001b[0m\u001b[1;33m\u001b[0m\u001b[1;33m\u001b[0m\u001b[0m\n\u001b[0m\u001b[0;32m      6\u001b[0m \u001b[0mmodel\u001b[0m\u001b[1;33m.\u001b[0m\u001b[0madd\u001b[0m\u001b[1;33m(\u001b[0m\u001b[0mMaxPooling2D\u001b[0m\u001b[1;33m(\u001b[0m\u001b[0mpool_size\u001b[0m\u001b[1;33m=\u001b[0m\u001b[1;33m(\u001b[0m\u001b[1;36m2\u001b[0m\u001b[1;33m,\u001b[0m \u001b[1;36m2\u001b[0m\u001b[1;33m)\u001b[0m\u001b[1;33m,\u001b[0m \u001b[0mstrides\u001b[0m\u001b[1;33m=\u001b[0m\u001b[1;36m2\u001b[0m\u001b[1;33m,\u001b[0m \u001b[0mpadding\u001b[0m\u001b[1;33m=\u001b[0m\u001b[1;34m'same'\u001b[0m\u001b[1;33m,\u001b[0m \u001b[0mdata_format\u001b[0m\u001b[1;33m=\u001b[0m\u001b[1;32mNone\u001b[0m\u001b[1;33m)\u001b[0m\u001b[1;33m)\u001b[0m\u001b[1;33m\u001b[0m\u001b[1;33m\u001b[0m\u001b[0m\n\u001b[0;32m      7\u001b[0m \u001b[1;31m#model.add(BatchNormalization())\u001b[0m\u001b[1;33m\u001b[0m\u001b[1;33m\u001b[0m\u001b[1;33m\u001b[0m\u001b[0m\n",
      "\u001b[1;32mD:\\Programas\\Python\\Python37-64\\lib\\site-packages\\keras\\engine\\sequential.py\u001b[0m in \u001b[0;36madd\u001b[1;34m(self, layer)\u001b[0m\n\u001b[0;32m    164\u001b[0m                     \u001b[1;31m# and create the node connecting the current layer\u001b[0m\u001b[1;33m\u001b[0m\u001b[1;33m\u001b[0m\u001b[1;33m\u001b[0m\u001b[0m\n\u001b[0;32m    165\u001b[0m                     \u001b[1;31m# to the input layer we just created.\u001b[0m\u001b[1;33m\u001b[0m\u001b[1;33m\u001b[0m\u001b[1;33m\u001b[0m\u001b[0m\n\u001b[1;32m--> 166\u001b[1;33m                     \u001b[0mlayer\u001b[0m\u001b[1;33m(\u001b[0m\u001b[0mx\u001b[0m\u001b[1;33m)\u001b[0m\u001b[1;33m\u001b[0m\u001b[1;33m\u001b[0m\u001b[0m\n\u001b[0m\u001b[0;32m    167\u001b[0m                     \u001b[0mset_inputs\u001b[0m \u001b[1;33m=\u001b[0m \u001b[1;32mTrue\u001b[0m\u001b[1;33m\u001b[0m\u001b[1;33m\u001b[0m\u001b[0m\n\u001b[0;32m    168\u001b[0m             \u001b[1;32melse\u001b[0m\u001b[1;33m:\u001b[0m\u001b[1;33m\u001b[0m\u001b[1;33m\u001b[0m\u001b[0m\n",
      "\u001b[1;32mD:\\Programas\\Python\\Python37-64\\lib\\site-packages\\keras\\backend\\tensorflow_backend.py\u001b[0m in \u001b[0;36msymbolic_fn_wrapper\u001b[1;34m(*args, **kwargs)\u001b[0m\n\u001b[0;32m     73\u001b[0m         \u001b[1;32mif\u001b[0m \u001b[0m_SYMBOLIC_SCOPE\u001b[0m\u001b[1;33m.\u001b[0m\u001b[0mvalue\u001b[0m\u001b[1;33m:\u001b[0m\u001b[1;33m\u001b[0m\u001b[1;33m\u001b[0m\u001b[0m\n\u001b[0;32m     74\u001b[0m             \u001b[1;32mwith\u001b[0m \u001b[0mget_graph\u001b[0m\u001b[1;33m(\u001b[0m\u001b[1;33m)\u001b[0m\u001b[1;33m.\u001b[0m\u001b[0mas_default\u001b[0m\u001b[1;33m(\u001b[0m\u001b[1;33m)\u001b[0m\u001b[1;33m:\u001b[0m\u001b[1;33m\u001b[0m\u001b[1;33m\u001b[0m\u001b[0m\n\u001b[1;32m---> 75\u001b[1;33m                 \u001b[1;32mreturn\u001b[0m \u001b[0mfunc\u001b[0m\u001b[1;33m(\u001b[0m\u001b[1;33m*\u001b[0m\u001b[0margs\u001b[0m\u001b[1;33m,\u001b[0m \u001b[1;33m**\u001b[0m\u001b[0mkwargs\u001b[0m\u001b[1;33m)\u001b[0m\u001b[1;33m\u001b[0m\u001b[1;33m\u001b[0m\u001b[0m\n\u001b[0m\u001b[0;32m     76\u001b[0m         \u001b[1;32melse\u001b[0m\u001b[1;33m:\u001b[0m\u001b[1;33m\u001b[0m\u001b[1;33m\u001b[0m\u001b[0m\n\u001b[0;32m     77\u001b[0m             \u001b[1;32mreturn\u001b[0m \u001b[0mfunc\u001b[0m\u001b[1;33m(\u001b[0m\u001b[1;33m*\u001b[0m\u001b[0margs\u001b[0m\u001b[1;33m,\u001b[0m \u001b[1;33m**\u001b[0m\u001b[0mkwargs\u001b[0m\u001b[1;33m)\u001b[0m\u001b[1;33m\u001b[0m\u001b[1;33m\u001b[0m\u001b[0m\n",
      "\u001b[1;32mD:\\Programas\\Python\\Python37-64\\lib\\site-packages\\keras\\engine\\base_layer.py\u001b[0m in \u001b[0;36m__call__\u001b[1;34m(self, inputs, **kwargs)\u001b[0m\n\u001b[0;32m    461\u001b[0m                                          \u001b[1;34m'You can build it manually via: '\u001b[0m\u001b[1;33m\u001b[0m\u001b[1;33m\u001b[0m\u001b[0m\n\u001b[0;32m    462\u001b[0m                                          '`layer.build(batch_input_shape)`')\n\u001b[1;32m--> 463\u001b[1;33m                 \u001b[0mself\u001b[0m\u001b[1;33m.\u001b[0m\u001b[0mbuild\u001b[0m\u001b[1;33m(\u001b[0m\u001b[0munpack_singleton\u001b[0m\u001b[1;33m(\u001b[0m\u001b[0minput_shapes\u001b[0m\u001b[1;33m)\u001b[0m\u001b[1;33m)\u001b[0m\u001b[1;33m\u001b[0m\u001b[1;33m\u001b[0m\u001b[0m\n\u001b[0m\u001b[0;32m    464\u001b[0m                 \u001b[0mself\u001b[0m\u001b[1;33m.\u001b[0m\u001b[0mbuilt\u001b[0m \u001b[1;33m=\u001b[0m \u001b[1;32mTrue\u001b[0m\u001b[1;33m\u001b[0m\u001b[1;33m\u001b[0m\u001b[0m\n\u001b[0;32m    465\u001b[0m \u001b[1;33m\u001b[0m\u001b[0m\n",
      "\u001b[1;32mD:\\Programas\\Python\\Python37-64\\lib\\site-packages\\keras\\layers\\convolutional.py\u001b[0m in \u001b[0;36mbuild\u001b[1;34m(self, input_shape)\u001b[0m\n\u001b[0;32m    139\u001b[0m                                       \u001b[0mname\u001b[0m\u001b[1;33m=\u001b[0m\u001b[1;34m'kernel'\u001b[0m\u001b[1;33m,\u001b[0m\u001b[1;33m\u001b[0m\u001b[1;33m\u001b[0m\u001b[0m\n\u001b[0;32m    140\u001b[0m                                       \u001b[0mregularizer\u001b[0m\u001b[1;33m=\u001b[0m\u001b[0mself\u001b[0m\u001b[1;33m.\u001b[0m\u001b[0mkernel_regularizer\u001b[0m\u001b[1;33m,\u001b[0m\u001b[1;33m\u001b[0m\u001b[1;33m\u001b[0m\u001b[0m\n\u001b[1;32m--> 141\u001b[1;33m                                       constraint=self.kernel_constraint)\n\u001b[0m\u001b[0;32m    142\u001b[0m         \u001b[1;32mif\u001b[0m \u001b[0mself\u001b[0m\u001b[1;33m.\u001b[0m\u001b[0muse_bias\u001b[0m\u001b[1;33m:\u001b[0m\u001b[1;33m\u001b[0m\u001b[1;33m\u001b[0m\u001b[0m\n\u001b[0;32m    143\u001b[0m             self.bias = self.add_weight(shape=(self.filters,),\n",
      "\u001b[1;32mD:\\Programas\\Python\\Python37-64\\lib\\site-packages\\keras\\engine\\base_layer.py\u001b[0m in \u001b[0;36madd_weight\u001b[1;34m(self, name, shape, dtype, initializer, regularizer, trainable, constraint)\u001b[0m\n\u001b[0;32m    277\u001b[0m         \u001b[1;32mif\u001b[0m \u001b[0mdtype\u001b[0m \u001b[1;32mis\u001b[0m \u001b[1;32mNone\u001b[0m\u001b[1;33m:\u001b[0m\u001b[1;33m\u001b[0m\u001b[1;33m\u001b[0m\u001b[0m\n\u001b[0;32m    278\u001b[0m             \u001b[0mdtype\u001b[0m \u001b[1;33m=\u001b[0m \u001b[0mself\u001b[0m\u001b[1;33m.\u001b[0m\u001b[0mdtype\u001b[0m\u001b[1;33m\u001b[0m\u001b[1;33m\u001b[0m\u001b[0m\n\u001b[1;32m--> 279\u001b[1;33m         weight = K.variable(initializer(shape, dtype=dtype),\n\u001b[0m\u001b[0;32m    280\u001b[0m                             \u001b[0mdtype\u001b[0m\u001b[1;33m=\u001b[0m\u001b[0mdtype\u001b[0m\u001b[1;33m,\u001b[0m\u001b[1;33m\u001b[0m\u001b[1;33m\u001b[0m\u001b[0m\n\u001b[0;32m    281\u001b[0m                             \u001b[0mname\u001b[0m\u001b[1;33m=\u001b[0m\u001b[0mname\u001b[0m\u001b[1;33m,\u001b[0m\u001b[1;33m\u001b[0m\u001b[1;33m\u001b[0m\u001b[0m\n",
      "\u001b[1;32mD:\\Programas\\Python\\Python37-64\\lib\\site-packages\\keras\\initializers.py\u001b[0m in \u001b[0;36m__call__\u001b[1;34m(self, shape, dtype)\u001b[0m\n\u001b[0;32m    225\u001b[0m             \u001b[0mlimit\u001b[0m \u001b[1;33m=\u001b[0m \u001b[0mnp\u001b[0m\u001b[1;33m.\u001b[0m\u001b[0msqrt\u001b[0m\u001b[1;33m(\u001b[0m\u001b[1;36m3.\u001b[0m \u001b[1;33m*\u001b[0m \u001b[0mscale\u001b[0m\u001b[1;33m)\u001b[0m\u001b[1;33m\u001b[0m\u001b[1;33m\u001b[0m\u001b[0m\n\u001b[0;32m    226\u001b[0m             x = K.random_uniform(shape, -limit, limit,\n\u001b[1;32m--> 227\u001b[1;33m                                  dtype=dtype, seed=self.seed)\n\u001b[0m\u001b[0;32m    228\u001b[0m         \u001b[1;32mif\u001b[0m \u001b[0mself\u001b[0m\u001b[1;33m.\u001b[0m\u001b[0mseed\u001b[0m \u001b[1;32mis\u001b[0m \u001b[1;32mnot\u001b[0m \u001b[1;32mNone\u001b[0m\u001b[1;33m:\u001b[0m\u001b[1;33m\u001b[0m\u001b[1;33m\u001b[0m\u001b[0m\n\u001b[0;32m    229\u001b[0m             \u001b[0mself\u001b[0m\u001b[1;33m.\u001b[0m\u001b[0mseed\u001b[0m \u001b[1;33m+=\u001b[0m \u001b[1;36m1\u001b[0m\u001b[1;33m\u001b[0m\u001b[1;33m\u001b[0m\u001b[0m\n",
      "\u001b[1;32mD:\\Programas\\Python\\Python37-64\\lib\\site-packages\\keras\\backend\\tensorflow_backend.py\u001b[0m in \u001b[0;36mrandom_uniform\u001b[1;34m(shape, minval, maxval, dtype, seed)\u001b[0m\n\u001b[0;32m   4355\u001b[0m     \u001b[1;32mwith\u001b[0m \u001b[0mtf_ops\u001b[0m\u001b[1;33m.\u001b[0m\u001b[0minit_scope\u001b[0m\u001b[1;33m(\u001b[0m\u001b[1;33m)\u001b[0m\u001b[1;33m:\u001b[0m\u001b[1;33m\u001b[0m\u001b[1;33m\u001b[0m\u001b[0m\n\u001b[0;32m   4356\u001b[0m         return tf_keras_backend.random_uniform(\n\u001b[1;32m-> 4357\u001b[1;33m             shape, minval=minval, maxval=maxval, dtype=dtype, seed=seed)\n\u001b[0m\u001b[0;32m   4358\u001b[0m \u001b[1;33m\u001b[0m\u001b[0m\n\u001b[0;32m   4359\u001b[0m \u001b[1;33m\u001b[0m\u001b[0m\n",
      "\u001b[1;32mD:\\Programas\\Python\\Python37-64\\lib\\site-packages\\tensorflow_core\\python\\keras\\backend.py\u001b[0m in \u001b[0;36mrandom_uniform\u001b[1;34m(shape, minval, maxval, dtype, seed)\u001b[0m\n\u001b[0;32m   5624\u001b[0m     \u001b[0mseed\u001b[0m \u001b[1;33m=\u001b[0m \u001b[0mnp\u001b[0m\u001b[1;33m.\u001b[0m\u001b[0mrandom\u001b[0m\u001b[1;33m.\u001b[0m\u001b[0mrandint\u001b[0m\u001b[1;33m(\u001b[0m\u001b[1;36m10e6\u001b[0m\u001b[1;33m)\u001b[0m\u001b[1;33m\u001b[0m\u001b[1;33m\u001b[0m\u001b[0m\n\u001b[0;32m   5625\u001b[0m   return random_ops.random_uniform(\n\u001b[1;32m-> 5626\u001b[1;33m       shape, minval=minval, maxval=maxval, dtype=dtype, seed=seed)\n\u001b[0m\u001b[0;32m   5627\u001b[0m \u001b[1;33m\u001b[0m\u001b[0m\n\u001b[0;32m   5628\u001b[0m \u001b[1;33m\u001b[0m\u001b[0m\n",
      "\u001b[1;32mD:\\Programas\\Python\\Python37-64\\lib\\site-packages\\tensorflow_core\\python\\ops\\random_ops.py\u001b[0m in \u001b[0;36mrandom_uniform\u001b[1;34m(shape, minval, maxval, dtype, seed, name)\u001b[0m\n\u001b[0;32m    262\u001b[0m     \u001b[0mmaxval\u001b[0m \u001b[1;33m=\u001b[0m \u001b[1;36m1\u001b[0m\u001b[1;33m\u001b[0m\u001b[1;33m\u001b[0m\u001b[0m\n\u001b[0;32m    263\u001b[0m   \u001b[1;32mwith\u001b[0m \u001b[0mops\u001b[0m\u001b[1;33m.\u001b[0m\u001b[0mname_scope\u001b[0m\u001b[1;33m(\u001b[0m\u001b[0mname\u001b[0m\u001b[1;33m,\u001b[0m \u001b[1;34m\"random_uniform\"\u001b[0m\u001b[1;33m,\u001b[0m \u001b[1;33m[\u001b[0m\u001b[0mshape\u001b[0m\u001b[1;33m,\u001b[0m \u001b[0mminval\u001b[0m\u001b[1;33m,\u001b[0m \u001b[0mmaxval\u001b[0m\u001b[1;33m]\u001b[0m\u001b[1;33m)\u001b[0m \u001b[1;32mas\u001b[0m \u001b[0mname\u001b[0m\u001b[1;33m:\u001b[0m\u001b[1;33m\u001b[0m\u001b[1;33m\u001b[0m\u001b[0m\n\u001b[1;32m--> 264\u001b[1;33m     \u001b[0mshape\u001b[0m \u001b[1;33m=\u001b[0m \u001b[0mtensor_util\u001b[0m\u001b[1;33m.\u001b[0m\u001b[0mshape_tensor\u001b[0m\u001b[1;33m(\u001b[0m\u001b[0mshape\u001b[0m\u001b[1;33m)\u001b[0m\u001b[1;33m\u001b[0m\u001b[1;33m\u001b[0m\u001b[0m\n\u001b[0m\u001b[0;32m    265\u001b[0m     \u001b[0mminval\u001b[0m \u001b[1;33m=\u001b[0m \u001b[0mops\u001b[0m\u001b[1;33m.\u001b[0m\u001b[0mconvert_to_tensor\u001b[0m\u001b[1;33m(\u001b[0m\u001b[0mminval\u001b[0m\u001b[1;33m,\u001b[0m \u001b[0mdtype\u001b[0m\u001b[1;33m=\u001b[0m\u001b[0mdtype\u001b[0m\u001b[1;33m,\u001b[0m \u001b[0mname\u001b[0m\u001b[1;33m=\u001b[0m\u001b[1;34m\"min\"\u001b[0m\u001b[1;33m)\u001b[0m\u001b[1;33m\u001b[0m\u001b[1;33m\u001b[0m\u001b[0m\n\u001b[0;32m    266\u001b[0m     \u001b[0mmaxval\u001b[0m \u001b[1;33m=\u001b[0m \u001b[0mops\u001b[0m\u001b[1;33m.\u001b[0m\u001b[0mconvert_to_tensor\u001b[0m\u001b[1;33m(\u001b[0m\u001b[0mmaxval\u001b[0m\u001b[1;33m,\u001b[0m \u001b[0mdtype\u001b[0m\u001b[1;33m=\u001b[0m\u001b[0mdtype\u001b[0m\u001b[1;33m,\u001b[0m \u001b[0mname\u001b[0m\u001b[1;33m=\u001b[0m\u001b[1;34m\"max\"\u001b[0m\u001b[1;33m)\u001b[0m\u001b[1;33m\u001b[0m\u001b[1;33m\u001b[0m\u001b[0m\n",
      "\u001b[1;32mD:\\Programas\\Python\\Python37-64\\lib\\site-packages\\tensorflow_core\\python\\framework\\tensor_util.py\u001b[0m in \u001b[0;36mshape_tensor\u001b[1;34m(shape)\u001b[0m\n\u001b[0;32m    992\u001b[0m       \u001b[1;31m# not convertible to Tensors becasue of mixed content.\u001b[0m\u001b[1;33m\u001b[0m\u001b[1;33m\u001b[0m\u001b[1;33m\u001b[0m\u001b[0m\n\u001b[0;32m    993\u001b[0m       \u001b[0mshape\u001b[0m \u001b[1;33m=\u001b[0m \u001b[0mtuple\u001b[0m\u001b[1;33m(\u001b[0m\u001b[0mmap\u001b[0m\u001b[1;33m(\u001b[0m\u001b[0mtensor_shape\u001b[0m\u001b[1;33m.\u001b[0m\u001b[0mdimension_value\u001b[0m\u001b[1;33m,\u001b[0m \u001b[0mshape\u001b[0m\u001b[1;33m)\u001b[0m\u001b[1;33m)\u001b[0m\u001b[1;33m\u001b[0m\u001b[1;33m\u001b[0m\u001b[0m\n\u001b[1;32m--> 994\u001b[1;33m   \u001b[1;32mreturn\u001b[0m \u001b[0mops\u001b[0m\u001b[1;33m.\u001b[0m\u001b[0mconvert_to_tensor\u001b[0m\u001b[1;33m(\u001b[0m\u001b[0mshape\u001b[0m\u001b[1;33m,\u001b[0m \u001b[0mdtype\u001b[0m\u001b[1;33m=\u001b[0m\u001b[0mdtype\u001b[0m\u001b[1;33m,\u001b[0m \u001b[0mname\u001b[0m\u001b[1;33m=\u001b[0m\u001b[1;34m\"shape\"\u001b[0m\u001b[1;33m)\u001b[0m\u001b[1;33m\u001b[0m\u001b[1;33m\u001b[0m\u001b[0m\n\u001b[0m\u001b[0;32m    995\u001b[0m \u001b[1;33m\u001b[0m\u001b[0m\n\u001b[0;32m    996\u001b[0m \u001b[1;33m\u001b[0m\u001b[0m\n",
      "\u001b[1;32mD:\\Programas\\Python\\Python37-64\\lib\\site-packages\\tensorflow_core\\python\\framework\\ops.py\u001b[0m in \u001b[0;36mconvert_to_tensor\u001b[1;34m(value, dtype, name, as_ref, preferred_dtype, dtype_hint, ctx, accepted_result_types)\u001b[0m\n\u001b[0;32m   1312\u001b[0m \u001b[1;33m\u001b[0m\u001b[0m\n\u001b[0;32m   1313\u001b[0m     \u001b[1;32mif\u001b[0m \u001b[0mret\u001b[0m \u001b[1;32mis\u001b[0m \u001b[1;32mNone\u001b[0m\u001b[1;33m:\u001b[0m\u001b[1;33m\u001b[0m\u001b[1;33m\u001b[0m\u001b[0m\n\u001b[1;32m-> 1314\u001b[1;33m       \u001b[0mret\u001b[0m \u001b[1;33m=\u001b[0m \u001b[0mconversion_func\u001b[0m\u001b[1;33m(\u001b[0m\u001b[0mvalue\u001b[0m\u001b[1;33m,\u001b[0m \u001b[0mdtype\u001b[0m\u001b[1;33m=\u001b[0m\u001b[0mdtype\u001b[0m\u001b[1;33m,\u001b[0m \u001b[0mname\u001b[0m\u001b[1;33m=\u001b[0m\u001b[0mname\u001b[0m\u001b[1;33m,\u001b[0m \u001b[0mas_ref\u001b[0m\u001b[1;33m=\u001b[0m\u001b[0mas_ref\u001b[0m\u001b[1;33m)\u001b[0m\u001b[1;33m\u001b[0m\u001b[1;33m\u001b[0m\u001b[0m\n\u001b[0m\u001b[0;32m   1315\u001b[0m \u001b[1;33m\u001b[0m\u001b[0m\n\u001b[0;32m   1316\u001b[0m     \u001b[1;32mif\u001b[0m \u001b[0mret\u001b[0m \u001b[1;32mis\u001b[0m \u001b[0mNotImplemented\u001b[0m\u001b[1;33m:\u001b[0m\u001b[1;33m\u001b[0m\u001b[1;33m\u001b[0m\u001b[0m\n",
      "\u001b[1;32mD:\\Programas\\Python\\Python37-64\\lib\\site-packages\\tensorflow_core\\python\\framework\\constant_op.py\u001b[0m in \u001b[0;36m_constant_tensor_conversion_function\u001b[1;34m(v, dtype, name, as_ref)\u001b[0m\n\u001b[0;32m    315\u001b[0m                                          as_ref=False):\n\u001b[0;32m    316\u001b[0m   \u001b[0m_\u001b[0m \u001b[1;33m=\u001b[0m \u001b[0mas_ref\u001b[0m\u001b[1;33m\u001b[0m\u001b[1;33m\u001b[0m\u001b[0m\n\u001b[1;32m--> 317\u001b[1;33m   \u001b[1;32mreturn\u001b[0m \u001b[0mconstant\u001b[0m\u001b[1;33m(\u001b[0m\u001b[0mv\u001b[0m\u001b[1;33m,\u001b[0m \u001b[0mdtype\u001b[0m\u001b[1;33m=\u001b[0m\u001b[0mdtype\u001b[0m\u001b[1;33m,\u001b[0m \u001b[0mname\u001b[0m\u001b[1;33m=\u001b[0m\u001b[0mname\u001b[0m\u001b[1;33m)\u001b[0m\u001b[1;33m\u001b[0m\u001b[1;33m\u001b[0m\u001b[0m\n\u001b[0m\u001b[0;32m    318\u001b[0m \u001b[1;33m\u001b[0m\u001b[0m\n\u001b[0;32m    319\u001b[0m \u001b[1;33m\u001b[0m\u001b[0m\n",
      "\u001b[1;32mD:\\Programas\\Python\\Python37-64\\lib\\site-packages\\tensorflow_core\\python\\framework\\constant_op.py\u001b[0m in \u001b[0;36mconstant\u001b[1;34m(value, dtype, shape, name)\u001b[0m\n\u001b[0;32m    256\u001b[0m   \"\"\"\n\u001b[0;32m    257\u001b[0m   return _constant_impl(value, dtype, shape, name, verify_shape=False,\n\u001b[1;32m--> 258\u001b[1;33m                         allow_broadcast=True)\n\u001b[0m\u001b[0;32m    259\u001b[0m \u001b[1;33m\u001b[0m\u001b[0m\n\u001b[0;32m    260\u001b[0m \u001b[1;33m\u001b[0m\u001b[0m\n",
      "\u001b[1;32mD:\\Programas\\Python\\Python37-64\\lib\\site-packages\\tensorflow_core\\python\\framework\\constant_op.py\u001b[0m in \u001b[0;36m_constant_impl\u001b[1;34m(value, dtype, shape, name, verify_shape, allow_broadcast)\u001b[0m\n\u001b[0;32m    264\u001b[0m   \u001b[0mctx\u001b[0m \u001b[1;33m=\u001b[0m \u001b[0mcontext\u001b[0m\u001b[1;33m.\u001b[0m\u001b[0mcontext\u001b[0m\u001b[1;33m(\u001b[0m\u001b[1;33m)\u001b[0m\u001b[1;33m\u001b[0m\u001b[1;33m\u001b[0m\u001b[0m\n\u001b[0;32m    265\u001b[0m   \u001b[1;32mif\u001b[0m \u001b[0mctx\u001b[0m\u001b[1;33m.\u001b[0m\u001b[0mexecuting_eagerly\u001b[0m\u001b[1;33m(\u001b[0m\u001b[1;33m)\u001b[0m\u001b[1;33m:\u001b[0m\u001b[1;33m\u001b[0m\u001b[1;33m\u001b[0m\u001b[0m\n\u001b[1;32m--> 266\u001b[1;33m     \u001b[0mt\u001b[0m \u001b[1;33m=\u001b[0m \u001b[0mconvert_to_eager_tensor\u001b[0m\u001b[1;33m(\u001b[0m\u001b[0mvalue\u001b[0m\u001b[1;33m,\u001b[0m \u001b[0mctx\u001b[0m\u001b[1;33m,\u001b[0m \u001b[0mdtype\u001b[0m\u001b[1;33m)\u001b[0m\u001b[1;33m\u001b[0m\u001b[1;33m\u001b[0m\u001b[0m\n\u001b[0m\u001b[0;32m    267\u001b[0m     \u001b[1;32mif\u001b[0m \u001b[0mshape\u001b[0m \u001b[1;32mis\u001b[0m \u001b[1;32mNone\u001b[0m\u001b[1;33m:\u001b[0m\u001b[1;33m\u001b[0m\u001b[1;33m\u001b[0m\u001b[0m\n\u001b[0;32m    268\u001b[0m       \u001b[1;32mreturn\u001b[0m \u001b[0mt\u001b[0m\u001b[1;33m\u001b[0m\u001b[1;33m\u001b[0m\u001b[0m\n",
      "\u001b[1;32mD:\\Programas\\Python\\Python37-64\\lib\\site-packages\\tensorflow_core\\python\\framework\\constant_op.py\u001b[0m in \u001b[0;36mconvert_to_eager_tensor\u001b[1;34m(value, ctx, dtype)\u001b[0m\n\u001b[0;32m     93\u001b[0m     \u001b[1;32mexcept\u001b[0m \u001b[0mAttributeError\u001b[0m\u001b[1;33m:\u001b[0m\u001b[1;33m\u001b[0m\u001b[1;33m\u001b[0m\u001b[0m\n\u001b[0;32m     94\u001b[0m       \u001b[0mdtype\u001b[0m \u001b[1;33m=\u001b[0m \u001b[0mdtypes\u001b[0m\u001b[1;33m.\u001b[0m\u001b[0mas_dtype\u001b[0m\u001b[1;33m(\u001b[0m\u001b[0mdtype\u001b[0m\u001b[1;33m)\u001b[0m\u001b[1;33m.\u001b[0m\u001b[0mas_datatype_enum\u001b[0m\u001b[1;33m\u001b[0m\u001b[1;33m\u001b[0m\u001b[0m\n\u001b[1;32m---> 95\u001b[1;33m   \u001b[0mctx\u001b[0m\u001b[1;33m.\u001b[0m\u001b[0mensure_initialized\u001b[0m\u001b[1;33m(\u001b[0m\u001b[1;33m)\u001b[0m\u001b[1;33m\u001b[0m\u001b[1;33m\u001b[0m\u001b[0m\n\u001b[0m\u001b[0;32m     96\u001b[0m   \u001b[1;32mreturn\u001b[0m \u001b[0mops\u001b[0m\u001b[1;33m.\u001b[0m\u001b[0mEagerTensor\u001b[0m\u001b[1;33m(\u001b[0m\u001b[0mvalue\u001b[0m\u001b[1;33m,\u001b[0m \u001b[0mctx\u001b[0m\u001b[1;33m.\u001b[0m\u001b[0mdevice_name\u001b[0m\u001b[1;33m,\u001b[0m \u001b[0mdtype\u001b[0m\u001b[1;33m)\u001b[0m\u001b[1;33m\u001b[0m\u001b[1;33m\u001b[0m\u001b[0m\n\u001b[0;32m     97\u001b[0m \u001b[1;33m\u001b[0m\u001b[0m\n",
      "\u001b[1;32mD:\\Programas\\Python\\Python37-64\\lib\\site-packages\\tensorflow_core\\python\\eager\\context.py\u001b[0m in \u001b[0;36mensure_initialized\u001b[1;34m(self)\u001b[0m\n\u001b[0;32m    507\u001b[0m           pywrap_tensorflow.TFE_ContextOptionsSetLazyRemoteInputsCopy(\n\u001b[0;32m    508\u001b[0m               opts, True)\n\u001b[1;32m--> 509\u001b[1;33m         \u001b[0mcontext_handle\u001b[0m \u001b[1;33m=\u001b[0m \u001b[0mpywrap_tensorflow\u001b[0m\u001b[1;33m.\u001b[0m\u001b[0mTFE_NewContext\u001b[0m\u001b[1;33m(\u001b[0m\u001b[0mopts\u001b[0m\u001b[1;33m)\u001b[0m\u001b[1;33m\u001b[0m\u001b[1;33m\u001b[0m\u001b[0m\n\u001b[0m\u001b[0;32m    510\u001b[0m       \u001b[1;32mfinally\u001b[0m\u001b[1;33m:\u001b[0m\u001b[1;33m\u001b[0m\u001b[1;33m\u001b[0m\u001b[0m\n\u001b[0;32m    511\u001b[0m         \u001b[0mpywrap_tensorflow\u001b[0m\u001b[1;33m.\u001b[0m\u001b[0mTFE_DeleteContextOptions\u001b[0m\u001b[1;33m(\u001b[0m\u001b[0mopts\u001b[0m\u001b[1;33m)\u001b[0m\u001b[1;33m\u001b[0m\u001b[1;33m\u001b[0m\u001b[0m\n",
      "\u001b[1;31mKeyboardInterrupt\u001b[0m: "
     ]
    }
   ],
   "source": [
    "#Model\n",
    "from keras.models import Sequential\n",
    "from keras.layers import Dense, Conv2D, Flatten, MaxPooling2D, AveragePooling2D, BatchNormalization, Dropout\n",
    "model = Sequential()\n",
    "model.add(Conv2D(3, kernel_size=7 ,padding='same', strides=2, activation='relu', input_shape=(224,224,3)))\n",
    "model.add(MaxPooling2D(pool_size=(2, 2), strides=2, padding='same', data_format=None))\n",
    "#model.add(BatchNormalization())\n",
    "#model.add(Dropout(0.25))\n",
    "\n",
    "model.add(Conv2D(3, kernel_size=3,padding='same', strides=2, activation='relu'))\n",
    "model.add(MaxPooling2D(pool_size=(2, 2), strides=2, padding='same', data_format=None))\n",
    "#model.add(BatchNormalization())\n",
    "#model.add(Dropout(0.25))\n",
    "\n",
    "\n",
    "from keras import regularizers  \n",
    "model.add(Flatten())\n",
    "#model.add(Dropout(0.25))\n",
    "model.add(Dense(450, activation='relu',kernel_regularizer=regularizers.l2(0.01)))\n",
    "# model.add(Dropout(0.25))\n",
    "model.add(Dense(200, activation='relu',kernel_regularizer=regularizers.l2(0.01)))\n",
    "#model.add(Dropout(0.25))\n",
    "model.add(Dense(100, activation='relu',kernel_regularizer=regularizers.l2(0.01)))\n",
    "#model.add(Dropout(0.25))\n",
    "model.add(Dense(30, activation='relu',kernel_regularizer=regularizers.l2(0.01)))\n",
    "model.add(Dense(2, activation='softmax')) "
   ]
  },
  {
   "cell_type": "markdown",
   "metadata": {},
   "source": [
    "Compilamos con optimizer=adam y loss=categorical_crossentropy. Despues entrenamos el modelo."
   ]
  },
  {
   "cell_type": "code",
   "execution_count": null,
   "metadata": {},
   "outputs": [],
   "source": [
    "model.compile(loss='categorical_crossentropy', optimizer='adam', metrics=['accuracy'])\n",
    "\n",
    "model.fit(X_train, Y_train, validation_data=(X_test, Y_test), batch_size=10, epochs=500)\n"
   ]
  },
  {
   "cell_type": "markdown",
   "metadata": {},
   "source": [
    "Por último, evaluamos dicho modelo con los datos de test."
   ]
  },
  {
   "cell_type": "code",
   "execution_count": null,
   "metadata": {},
   "outputs": [],
   "source": [
    "test_loss, test_acc = model.evaluate(X_test, Y_test, batch_size=10)\n",
    "print('Test Acc: ', test_acc)\n",
    "print(':)')"
   ]
  },
  {
   "cell_type": "markdown",
   "metadata": {},
   "source": [
    "## Otro modelo"
   ]
  },
  {
   "cell_type": "code",
   "execution_count": null,
   "metadata": {},
   "outputs": [],
   "source": [
    "from keras.applications.resnet50 import ResNet50\n",
    "model = ResNet50(include_top=True,\n",
    "                 weights= None,\n",
    "                 input_tensor=None,\n",
    "                 input_shape=[224,224,3],\n",
    "                 pooling='avg',\n",
    "                 classes=2)\n",
    "\n",
    "model.compile(#optimizer = Adam(lr) ,\n",
    "              optimizer='adam',\n",
    "              loss = \"binary_crossentropy\", \n",
    "              metrics=[\"accuracy\"])\n",
    "\n",
    "model.fit(X_train, Y_train, #validation_split=0.2,\n",
    "                    epochs= 5, batch_size= 16, #verbose=2, \n",
    "                    #callbacks=[learning_rate_reduction]\n",
    "                   )"
   ]
  },
  {
   "cell_type": "code",
   "execution_count": null,
   "metadata": {},
   "outputs": [],
   "source": [
    "test_loss, test_acc = model.evaluate(X_test, Y_test, batch_size=16)\n",
    "print('Test Acc: ', test_acc)"
   ]
  },
  {
   "cell_type": "markdown",
   "metadata": {},
   "source": [
    "## Otro modelo"
   ]
  },
  {
   "cell_type": "code",
   "execution_count": 26,
   "metadata": {},
   "outputs": [],
   "source": [
    "from keras.layers import Dense, Conv2D, Flatten, MaxPooling2D, AveragePooling2D, BatchNormalization, Dropout\n",
    "model = Sequential()\n",
    "model.add(Conv2D(128, kernel_size=7, activation='relu', input_shape=(224,224,3)))\n",
    "model.add(MaxPooling2D(pool_size=(2, 2), strides=2, padding='same', data_format=None))\n",
    "model.add(BatchNormalization())\n",
    "\n",
    "model.add(Conv2D(128, kernel_size=5, activation='relu'))\n",
    "model.add(MaxPooling2D(pool_size=(2, 2), strides=2, padding='same', data_format=None))\n",
    "model.add(BatchNormalization())\n",
    "\n",
    "model.add(Conv2D(64, kernel_size=3, activation='relu'))\n",
    "model.add(MaxPooling2D(pool_size=(2, 2), strides=2, padding='same', data_format=None))\n",
    "model.add(BatchNormalization())\n",
    "    \n",
    "model.add(Flatten())\n",
    "model.add(Dropout(0.5))\n",
    "model.add(Dense(30, activation='relu'))\n",
    "model.add(Dense(2, activation='softmax'))        "
   ]
  },
  {
   "cell_type": "code",
   "execution_count": 23,
   "metadata": {},
   "outputs": [
    {
     "name": "stdout",
     "output_type": "stream",
     "text": [
      "Epoch 1/3\n",
      "2637/2637 [==============================] - 811s 308ms/step - loss: 1.3937 - accuracy: 0.6716\n",
      "Epoch 2/3\n",
      "2637/2637 [==============================] - 858s 325ms/step - loss: 0.7556 - accuracy: 0.7110\n",
      "Epoch 3/3\n",
      "2637/2637 [==============================] - 1250s 474ms/step - loss: 0.8008 - accuracy: 0.7725\n"
     ]
    },
    {
     "data": {
      "text/plain": [
       "<keras.callbacks.callbacks.History at 0x10e75e8c848>"
      ]
     },
     "execution_count": 23,
     "metadata": {},
     "output_type": "execute_result"
    }
   ],
   "source": [
    "model.compile(loss='categorical_crossentropy', optimizer='adam', metrics=['accuracy'])\n",
    "\n",
    "model.fit(X_train, Y_train, batch_size=64, epochs=3)"
   ]
  },
  {
   "cell_type": "code",
   "execution_count": 25,
   "metadata": {},
   "outputs": [
    {
     "name": "stdout",
     "output_type": "stream",
     "text": [
      "660/660 [==============================] - 72s 109ms/step\n",
      "Test Acc:  0.5515151619911194\n"
     ]
    }
   ],
   "source": [
    "test_loss, test_acc = model.evaluate(X_test, Y_test, batch_size=16)\n",
    "print('Test Acc: ', test_acc)"
   ]
  },
  {
   "cell_type": "markdown",
   "metadata": {},
   "source": [
    "## Otro modelo"
   ]
  },
  {
   "cell_type": "code",
   "execution_count": 11,
   "metadata": {},
   "outputs": [],
   "source": [
    "from keras.layers import Dense, Conv2D, Flatten, MaxPooling2D, AveragePooling2D, BatchNormalization, Dropout\n",
    "model = Sequential()\n",
    "model.add(Conv2D(128, kernel_size=7, activation='relu', input_shape=(224,224,3)))\n",
    "model.add(MaxPooling2D(pool_size=(2, 2), strides=2, padding='same', data_format=None))\n",
    "model.add(BatchNormalization())\n",
    "#model.add(Dropout(0.25))\n",
    "\n",
    "model.add(Conv2D(128, kernel_size=5, activation='relu'))\n",
    "model.add(MaxPooling2D(pool_size=(2, 2), strides=2, padding='same', data_format=None))\n",
    "model.add(BatchNormalization())\n",
    "#model.add(Dropout(0.25))\n",
    "\n",
    "model.add(Conv2D(64, kernel_size=3, activation='relu'))\n",
    "model.add(MaxPooling2D(pool_size=(2, 2), strides=2, padding='same', data_format=None))\n",
    "model.add(BatchNormalization())\n",
    "#model.add(Dropout(0.25))\n",
    "    \n",
    "model.add(Flatten())\n",
    "model.add(Dropout(0.25))\n",
    "model.add(Dense(250, activation='relu'))\n",
    "model.add(Dropout(0.25))\n",
    "model.add(Dense(125, activation='relu'))\n",
    "model.add(Dropout(0.25))\n",
    "model.add(Dense(30, activation='relu'))\n",
    "model.add(Dense(2, activation='softmax'))      "
   ]
  },
  {
   "cell_type": "code",
   "execution_count": 12,
   "metadata": {},
   "outputs": [
    {
     "name": "stdout",
     "output_type": "stream",
     "text": [
      "Epoch 1/30\n",
      "2637/2637 [==============================] - 115s 44ms/step - loss: 1.8634 - accuracy: 0.6640\n",
      "Epoch 2/30\n",
      "2637/2637 [==============================] - 115s 44ms/step - loss: 0.6778 - accuracy: 0.7114\n",
      "Epoch 3/30\n",
      "2637/2637 [==============================] - 115s 44ms/step - loss: 0.5162 - accuracy: 0.7509\n",
      "Epoch 4/30\n",
      "2637/2637 [==============================] - 115s 44ms/step - loss: 0.4895 - accuracy: 0.7740\n",
      "Epoch 5/30\n",
      "2637/2637 [==============================] - 115s 44ms/step - loss: 0.4443 - accuracy: 0.7865\n",
      "Epoch 6/30\n",
      "2637/2637 [==============================] - 115s 44ms/step - loss: 0.4303 - accuracy: 0.7838\n",
      "Epoch 7/30\n",
      "2637/2637 [==============================] - 115s 44ms/step - loss: 0.4135 - accuracy: 0.7899\n",
      "Epoch 8/30\n",
      "2637/2637 [==============================] - 116s 44ms/step - loss: 0.4023 - accuracy: 0.7998\n",
      "Epoch 9/30\n",
      "2637/2637 [==============================] - 3077s 1s/step - loss: 0.3819 - accuracy: 0.8062\n",
      "Epoch 10/30\n",
      "2637/2637 [==============================] - 112s 43ms/step - loss: 0.3843 - accuracy: 0.8032\n",
      "Epoch 11/30\n",
      "2637/2637 [==============================] - 112s 43ms/step - loss: 0.3597 - accuracy: 0.8221\n",
      "Epoch 12/30\n",
      "2637/2637 [==============================] - 114s 43ms/step - loss: 0.3735 - accuracy: 0.8195\n",
      "Epoch 13/30\n",
      "2637/2637 [==============================] - 114s 43ms/step - loss: 0.3928 - accuracy: 0.8142\n",
      "Epoch 14/30\n",
      "2637/2637 [==============================] - 114s 43ms/step - loss: 0.3619 - accuracy: 0.8203\n",
      "Epoch 15/30\n",
      "2637/2637 [==============================] - 114s 43ms/step - loss: 0.3612 - accuracy: 0.8286\n",
      "Epoch 16/30\n",
      "2637/2637 [==============================] - 114s 43ms/step - loss: 0.3376 - accuracy: 0.8449\n",
      "Epoch 17/30\n",
      "2637/2637 [==============================] - 114s 43ms/step - loss: 0.3253 - accuracy: 0.8339\n",
      "Epoch 18/30\n",
      "2637/2637 [==============================] - 114s 43ms/step - loss: 0.3156 - accuracy: 0.8517\n",
      "Epoch 19/30\n",
      "2637/2637 [==============================] - 114s 43ms/step - loss: 0.3086 - accuracy: 0.8487\n",
      "Epoch 20/30\n",
      "2637/2637 [==============================] - 114s 43ms/step - loss: 0.3340 - accuracy: 0.8335\n",
      "Epoch 21/30\n",
      "2637/2637 [==============================] - 114s 43ms/step - loss: 0.3174 - accuracy: 0.8510\n",
      "Epoch 22/30\n",
      "2637/2637 [==============================] - 114s 43ms/step - loss: 0.2926 - accuracy: 0.8502\n",
      "Epoch 23/30\n",
      "2637/2637 [==============================] - 114s 43ms/step - loss: 0.3000 - accuracy: 0.8631\n",
      "Epoch 24/30\n",
      "2637/2637 [==============================] - 114s 43ms/step - loss: 0.3105 - accuracy: 0.8479\n",
      "Epoch 25/30\n",
      "2637/2637 [==============================] - 114s 43ms/step - loss: 0.3112 - accuracy: 0.8612\n",
      "Epoch 26/30\n",
      "2637/2637 [==============================] - 114s 43ms/step - loss: 0.2784 - accuracy: 0.8688\n",
      "Epoch 27/30\n",
      "2637/2637 [==============================] - 114s 43ms/step - loss: 0.2583 - accuracy: 0.8714\n",
      "Epoch 28/30\n",
      "2637/2637 [==============================] - 114s 43ms/step - loss: 0.2333 - accuracy: 0.8855\n",
      "Epoch 29/30\n",
      "2637/2637 [==============================] - 114s 43ms/step - loss: 0.2388 - accuracy: 0.8915\n",
      "Epoch 30/30\n",
      "2637/2637 [==============================] - 114s 43ms/step - loss: 0.2364 - accuracy: 0.8927\n"
     ]
    },
    {
     "data": {
      "text/plain": [
       "<keras.callbacks.callbacks.History at 0x1df0da52608>"
      ]
     },
     "execution_count": 12,
     "metadata": {},
     "output_type": "execute_result"
    }
   ],
   "source": [
    "model.compile(loss='categorical_crossentropy', optimizer='adam', metrics=['accuracy'])\n",
    "\n",
    "model.fit(X_train, Y_train, batch_size=16, epochs=30)"
   ]
  },
  {
   "cell_type": "code",
   "execution_count": 13,
   "metadata": {},
   "outputs": [
    {
     "name": "stdout",
     "output_type": "stream",
     "text": [
      "660/660 [==============================] - 9s 14ms/step\n",
      "Test Acc:  0.831818163394928\n"
     ]
    }
   ],
   "source": [
    "test_loss, test_acc = model.evaluate(X_test, Y_test, batch_size=16)\n",
    "print('Test Acc: ', test_acc)"
   ]
  },
  {
   "cell_type": "code",
   "execution_count": 14,
   "metadata": {},
   "outputs": [],
   "source": [
    "from keras.layers import Dense, Conv2D, Flatten, MaxPooling2D, AveragePooling2D, BatchNormalization, Dropout\n",
    "model = Sequential()\n",
    "model.add(Conv2D(128, kernel_size=7, activation='relu', input_shape=(224,224,3)))\n",
    "model.add(MaxPooling2D(pool_size=(2, 2), strides=2, padding='same', data_format=None))\n",
    "model.add(BatchNormalization())\n",
    "#model.add(Dropout(0.25))\n",
    "\n",
    "model.add(Conv2D(128, kernel_size=5, activation='relu'))\n",
    "model.add(MaxPooling2D(pool_size=(2, 2), strides=2, padding='same', data_format=None))\n",
    "model.add(BatchNormalization())\n",
    "#model.add(Dropout(0.25))\n",
    "\n",
    "model.add(Conv2D(64, kernel_size=3, activation='relu'))\n",
    "model.add(MaxPooling2D(pool_size=(2, 2), strides=2, padding='same', data_format=None))\n",
    "model.add(BatchNormalization())\n",
    "#model.add(Dropout(0.25))\n",
    "    \n",
    "model.add(Flatten())\n",
    "model.add(Dropout(0.25))\n",
    "model.add(Dense(250, activation='relu'))\n",
    "model.add(Dropout(0.25))\n",
    "model.add(Dense(125, activation='relu'))\n",
    "model.add(Dropout(0.25))\n",
    "model.add(Dense(30, activation='relu'))\n",
    "model.add(Dense(2, activation='softmax')) "
   ]
  },
  {
   "cell_type": "code",
   "execution_count": 15,
   "metadata": {},
   "outputs": [
    {
     "name": "stdout",
     "output_type": "stream",
     "text": [
      "Epoch 1/40\n",
      "2637/2637 [==============================] - 113s 43ms/step - loss: 2.5502 - accuracy: 0.6799\n",
      "Epoch 2/40\n",
      "2637/2637 [==============================] - 112s 43ms/step - loss: 1.0952 - accuracy: 0.7019\n",
      "Epoch 3/40\n",
      "2637/2637 [==============================] - 114s 43ms/step - loss: 0.6500 - accuracy: 0.7254\n",
      "Epoch 4/40\n",
      "2637/2637 [==============================] - 114s 43ms/step - loss: 0.4625 - accuracy: 0.7774\n",
      "Epoch 5/40\n",
      "2637/2637 [==============================] - 114s 43ms/step - loss: 0.4488 - accuracy: 0.7842\n",
      "Epoch 6/40\n",
      "2637/2637 [==============================] - 114s 43ms/step - loss: 0.3900 - accuracy: 0.8062\n",
      "Epoch 7/40\n",
      "2637/2637 [==============================] - 114s 43ms/step - loss: 0.3923 - accuracy: 0.7986\n",
      "Epoch 8/40\n",
      "2637/2637 [==============================] - 114s 43ms/step - loss: 0.3743 - accuracy: 0.8074\n",
      "Epoch 9/40\n",
      "2637/2637 [==============================] - 114s 43ms/step - loss: 0.3692 - accuracy: 0.8142\n",
      "Epoch 10/40\n",
      "2637/2637 [==============================] - 114s 43ms/step - loss: 0.3732 - accuracy: 0.8214\n",
      "Epoch 11/40\n",
      "2637/2637 [==============================] - 114s 43ms/step - loss: 0.3684 - accuracy: 0.8180\n",
      "Epoch 12/40\n",
      "2637/2637 [==============================] - 114s 43ms/step - loss: 0.3606 - accuracy: 0.8229\n",
      "Epoch 13/40\n",
      "2637/2637 [==============================] - 114s 43ms/step - loss: 0.3411 - accuracy: 0.8312\n",
      "Epoch 14/40\n",
      "2637/2637 [==============================] - 114s 43ms/step - loss: 0.3486 - accuracy: 0.8267\n",
      "Epoch 15/40\n",
      "2637/2637 [==============================] - 115s 43ms/step - loss: 0.3320 - accuracy: 0.8438\n",
      "Epoch 16/40\n",
      "2637/2637 [==============================] - 114s 43ms/step - loss: 0.3211 - accuracy: 0.8483\n",
      "Epoch 17/40\n",
      "2637/2637 [==============================] - 115s 43ms/step - loss: 0.3237 - accuracy: 0.8495\n",
      "Epoch 18/40\n",
      "2637/2637 [==============================] - 115s 43ms/step - loss: 0.2953 - accuracy: 0.8510\n",
      "Epoch 19/40\n",
      "2637/2637 [==============================] - 115s 43ms/step - loss: 0.2931 - accuracy: 0.8604\n",
      "Epoch 20/40\n",
      "2637/2637 [==============================] - 115s 43ms/step - loss: 0.2874 - accuracy: 0.8635\n",
      "Epoch 21/40\n",
      "2637/2637 [==============================] - 115s 44ms/step - loss: 0.2798 - accuracy: 0.8673\n",
      "Epoch 22/40\n",
      "2637/2637 [==============================] - 115s 43ms/step - loss: 0.2666 - accuracy: 0.8741\n",
      "Epoch 23/40\n",
      "2637/2637 [==============================] - 114s 43ms/step - loss: 0.2693 - accuracy: 0.8733\n",
      "Epoch 24/40\n",
      "2637/2637 [==============================] - 114s 43ms/step - loss: 0.2549 - accuracy: 0.8787\n",
      "Epoch 25/40\n",
      "2637/2637 [==============================] - 115s 43ms/step - loss: 0.2357 - accuracy: 0.8885\n",
      "Epoch 26/40\n",
      "2637/2637 [==============================] - 114s 43ms/step - loss: 0.2476 - accuracy: 0.8965\n",
      "Epoch 27/40\n",
      "2637/2637 [==============================] - 115s 43ms/step - loss: 0.2119 - accuracy: 0.9052\n",
      "Epoch 28/40\n",
      "2637/2637 [==============================] - 115s 43ms/step - loss: 0.2005 - accuracy: 0.9139\n",
      "Epoch 29/40\n",
      "2637/2637 [==============================] - 115s 43ms/step - loss: 0.1991 - accuracy: 0.9135\n",
      "Epoch 30/40\n",
      "2637/2637 [==============================] - 114s 43ms/step - loss: 0.1819 - accuracy: 0.9226\n",
      "Epoch 31/40\n",
      "2637/2637 [==============================] - 114s 43ms/step - loss: 0.1944 - accuracy: 0.9132\n",
      "Epoch 32/40\n",
      "2637/2637 [==============================] - 114s 43ms/step - loss: 0.1493 - accuracy: 0.9348\n",
      "Epoch 33/40\n",
      "2637/2637 [==============================] - 114s 43ms/step - loss: 0.1660 - accuracy: 0.9333\n",
      "Epoch 34/40\n",
      "2637/2637 [==============================] - 115s 43ms/step - loss: 0.1703 - accuracy: 0.9363\n",
      "Epoch 35/40\n",
      "2637/2637 [==============================] - 114s 43ms/step - loss: 0.1356 - accuracy: 0.9454\n",
      "Epoch 36/40\n",
      "2637/2637 [==============================] - 115s 43ms/step - loss: 0.1256 - accuracy: 0.9511\n",
      "Epoch 37/40\n",
      "2637/2637 [==============================] - 114s 43ms/step - loss: 0.1143 - accuracy: 0.9515\n",
      "Epoch 38/40\n",
      "2637/2637 [==============================] - 115s 43ms/step - loss: 0.1090 - accuracy: 0.9613\n",
      "Epoch 39/40\n",
      "2637/2637 [==============================] - 115s 43ms/step - loss: 0.0844 - accuracy: 0.9685\n",
      "Epoch 40/40\n",
      "2637/2637 [==============================] - 115s 43ms/step - loss: 0.1079 - accuracy: 0.9613\n"
     ]
    },
    {
     "data": {
      "text/plain": [
       "<keras.callbacks.callbacks.History at 0x1df0dcceac8>"
      ]
     },
     "execution_count": 15,
     "metadata": {},
     "output_type": "execute_result"
    }
   ],
   "source": [
    "model.compile(loss='categorical_crossentropy', optimizer='adam', metrics=['accuracy'])\n",
    "\n",
    "model.fit(X_train, Y_train, batch_size=16, epochs=40)"
   ]
  },
  {
   "cell_type": "code",
   "execution_count": 16,
   "metadata": {},
   "outputs": [
    {
     "name": "stdout",
     "output_type": "stream",
     "text": [
      "660/660 [==============================] - 9s 14ms/step\n",
      "Test Acc:  0.7878788113594055\n"
     ]
    }
   ],
   "source": [
    "test_loss, test_acc = model.evaluate(X_test, Y_test, batch_size=16)\n",
    "print('Test Acc: ', test_acc)"
   ]
  },
  {
   "cell_type": "markdown",
   "metadata": {},
   "source": [
    "## El mismo pero 5 epochs"
   ]
  },
  {
   "cell_type": "code",
   "execution_count": 13,
   "metadata": {},
   "outputs": [],
   "source": [
    "from keras.layers import Dense, Conv2D, Flatten, MaxPooling2D, AveragePooling2D, BatchNormalization, Dropout\n",
    "model = Sequential()\n",
    "model.add(Conv2D(128, kernel_size=7, activation='relu', input_shape=(224,224,3)))\n",
    "model.add(MaxPooling2D(pool_size=(2, 2), strides=2, padding='same', data_format=None))\n",
    "model.add(BatchNormalization())\n",
    "#model.add(Dropout(0.25))\n",
    "\n",
    "model.add(Conv2D(128, kernel_size=5, activation='relu'))\n",
    "model.add(MaxPooling2D(pool_size=(2, 2), strides=2, padding='same', data_format=None))\n",
    "model.add(BatchNormalization())\n",
    "#model.add(Dropout(0.25))\n",
    "\n",
    "model.add(Conv2D(64, kernel_size=3, activation='relu'))\n",
    "model.add(MaxPooling2D(pool_size=(2, 2), strides=2, padding='same', data_format=None))\n",
    "model.add(BatchNormalization())\n",
    "#model.add(Dropout(0.25))\n",
    "    \n",
    "model.add(Flatten())\n",
    "model.add(Dropout(0.25))\n",
    "model.add(Dense(250, activation='relu'))\n",
    "model.add(Dropout(0.25))\n",
    "model.add(Dense(125, activation='relu'))\n",
    "model.add(Dropout(0.25))\n",
    "model.add(Dense(30, activation='relu'))\n",
    "model.add(Dense(2, activation='softmax'))   "
   ]
  },
  {
   "cell_type": "code",
   "execution_count": 14,
   "metadata": {},
   "outputs": [
    {
     "name": "stdout",
     "output_type": "stream",
     "text": [
      "Epoch 1/5\n",
      "2637/2637 [==============================] - 735s 279ms/step - loss: 3.1937 - accuracy: 0.6447\n",
      "Epoch 2/5\n",
      "2637/2637 [==============================] - 734s 278ms/step - loss: 0.7880 - accuracy: 0.7270\n",
      "Epoch 3/5\n",
      "2637/2637 [==============================] - 734s 278ms/step - loss: 0.5560 - accuracy: 0.7497\n",
      "Epoch 4/5\n",
      "2637/2637 [==============================] - 735s 279ms/step - loss: 0.4681 - accuracy: 0.7812\n",
      "Epoch 5/5\n",
      "2637/2637 [==============================] - 731s 277ms/step - loss: 0.4642 - accuracy: 0.7740\n"
     ]
    },
    {
     "data": {
      "text/plain": [
       "<keras.callbacks.callbacks.History at 0x2222d409688>"
      ]
     },
     "execution_count": 14,
     "metadata": {},
     "output_type": "execute_result"
    }
   ],
   "source": [
    "model.compile(loss='categorical_crossentropy', optimizer='adam', metrics=['accuracy'])\n",
    "\n",
    "model.fit(X_train, Y_train, batch_size=16, epochs=5)"
   ]
  },
  {
   "cell_type": "code",
   "execution_count": 15,
   "metadata": {},
   "outputs": [
    {
     "name": "stdout",
     "output_type": "stream",
     "text": [
      "660/660 [==============================] - 55s 84ms/step\n",
      "Test Acc:  0.7863636612892151\n"
     ]
    }
   ],
   "source": [
    "test_loss, test_acc = model.evaluate(X_test, Y_test, batch_size=16)\n",
    "print('Test Acc: ', test_acc)"
   ]
  },
  {
   "cell_type": "markdown",
   "metadata": {},
   "source": [
    "## Por dios que sea el bueno"
   ]
  },
  {
   "cell_type": "code",
   "execution_count": 37,
   "metadata": {},
   "outputs": [],
   "source": [
    "from keras.layers import Dense, Conv2D, Flatten, MaxPooling2D, AveragePooling2D, BatchNormalization, Dropout\n",
    "model = Sequential()\n",
    "model.add(Conv2D(128, kernel_size=7, activation='relu', input_shape=(224,224,3)))\n",
    "model.add(MaxPooling2D(pool_size=(2, 2), strides=2, padding='same', data_format=None))\n",
    "model.add(BatchNormalization())\n",
    "#model.add(Dropout(0.25))\n",
    "\n",
    "model.add(Conv2D(128, kernel_size=5, activation='relu'))\n",
    "model.add(MaxPooling2D(pool_size=(2, 2), strides=2, padding='same', data_format=None))\n",
    "model.add(BatchNormalization())\n",
    "#model.add(Dropout(0.25))\n",
    "\n",
    "model.add(Conv2D(64, kernel_size=3, activation='relu'))\n",
    "model.add(MaxPooling2D(pool_size=(2, 2), strides=2, padding='same', data_format=None))\n",
    "model.add(BatchNormalization())\n",
    "#model.add(Dropout(0.25))\n",
    "    \n",
    "model.add(Flatten())\n",
    "model.add(Dropout(0.25))\n",
    "model.add(Dense(250, activation='relu'))\n",
    "model.add(Dropout(0.25))\n",
    "model.add(Dense(125, activation='relu'))\n",
    "model.add(Dropout(0.25))\n",
    "model.add(Dense(30, activation='relu'))\n",
    "model.add(Dense(2, activation='softmax')) "
   ]
  },
  {
   "cell_type": "code",
   "execution_count": 38,
   "metadata": {},
   "outputs": [
    {
     "name": "stdout",
     "output_type": "stream",
     "text": [
      "Epoch 1/8\n",
      "2637/2637 [==============================] - 116s 44ms/step - loss: 2.0556 - accuracy: 0.6712\n",
      "Epoch 2/8\n",
      "2637/2637 [==============================] - 119s 45ms/step - loss: 0.8020 - accuracy: 0.6997\n",
      "Epoch 3/8\n",
      "2637/2637 [==============================] - 118s 45ms/step - loss: 0.5314 - accuracy: 0.7539\n",
      "Epoch 4/8\n",
      "2637/2637 [==============================] - 116s 44ms/step - loss: 0.4765 - accuracy: 0.7717\n",
      "Epoch 5/8\n",
      "2637/2637 [==============================] - 116s 44ms/step - loss: 0.4432 - accuracy: 0.7785\n",
      "Epoch 6/8\n",
      "2637/2637 [==============================] - 115s 44ms/step - loss: 0.4277 - accuracy: 0.7945\n",
      "Epoch 7/8\n",
      "2637/2637 [==============================] - 178s 68ms/step - loss: 0.4096 - accuracy: 0.8013\n",
      "Epoch 8/8\n",
      "2637/2637 [==============================] - 326s 124ms/step - loss: 0.3988 - accuracy: 0.8032\n"
     ]
    },
    {
     "data": {
      "text/plain": [
       "<keras.callbacks.callbacks.History at 0x1de3a428208>"
      ]
     },
     "execution_count": 38,
     "metadata": {},
     "output_type": "execute_result"
    }
   ],
   "source": [
    "model.compile(loss='categorical_crossentropy', optimizer='adam', metrics=['accuracy'])\n",
    "\n",
    "model.fit(X_train, Y_train, batch_size=16, epochs=8)"
   ]
  },
  {
   "cell_type": "code",
   "execution_count": 39,
   "metadata": {},
   "outputs": [
    {
     "name": "stdout",
     "output_type": "stream",
     "text": [
      "660/660 [==============================] - 11s 16ms/step\n",
      "Test Acc:  0.8439394235610962\n"
     ]
    }
   ],
   "source": [
    "test_loss, test_acc = model.evaluate(X_test, Y_test, batch_size=16)\n",
    "print('Test Acc: ', test_acc)"
   ]
  },
  {
   "cell_type": "markdown",
   "metadata": {},
   "source": [
    "## Más capas"
   ]
  },
  {
   "cell_type": "code",
   "execution_count": 15,
   "metadata": {},
   "outputs": [],
   "source": [
    "from keras.layers import Dense, Conv2D, Flatten, MaxPooling2D, AveragePooling2D, BatchNormalization, Dropout\n",
    "model = Sequential()\n",
    "model.add(Conv2D(128, kernel_size=7, activation='relu', input_shape=(224,224,3)))\n",
    "model.add(MaxPooling2D(pool_size=(2, 2), strides=2, padding='same', data_format=None))\n",
    "model.add(BatchNormalization())\n",
    "#model.add(Dropout(0.25))\n",
    "\n",
    "model.add(Conv2D(128, kernel_size=5, activation='relu'))\n",
    "model.add(MaxPooling2D(pool_size=(2, 2), strides=2, padding='same', data_format=None))\n",
    "model.add(BatchNormalization())\n",
    "#model.add(Dropout(0.25))\n",
    "\n",
    "model.add(Conv2D(64, kernel_size=3, activation='relu'))\n",
    "model.add(MaxPooling2D(pool_size=(2, 2), strides=2, padding='same', data_format=None))\n",
    "model.add(BatchNormalization())\n",
    "#model.add(Dropout(0.25))\n",
    "    \n",
    "model.add(Flatten())\n",
    "#model.add(Dropout(0.25))\n",
    "model.add(Dense(450, activation='relu'))\n",
    "#model.add(Dropout(0.25))\n",
    "model.add(Dense(250, activation='relu'))\n",
    "model.add(Dropout(0.25))\n",
    "model.add(Dense(125, activation='relu'))\n",
    "model.add(Dropout(0.25))\n",
    "model.add(Dense(30, activation='relu'))\n",
    "model.add(Dense(2, activation='softmax')) "
   ]
  },
  {
   "cell_type": "code",
   "execution_count": 16,
   "metadata": {},
   "outputs": [
    {
     "name": "stdout",
     "output_type": "stream",
     "text": [
      "Epoch 1/5\n",
      "2637/2637 [==============================] - 785s 298ms/step - loss: 1.9183 - accuracy: 0.6469\n",
      "Epoch 2/5\n",
      "2637/2637 [==============================] - 776s 294ms/step - loss: 0.5752 - accuracy: 0.7345\n",
      "Epoch 3/5\n",
      "2637/2637 [==============================] - 769s 292ms/step - loss: 0.4700 - accuracy: 0.7660\n",
      "Epoch 4/5\n",
      "2637/2637 [==============================] - 774s 294ms/step - loss: 0.4556 - accuracy: 0.7763\n",
      "Epoch 5/5\n",
      "2637/2637 [==============================] - 768s 291ms/step - loss: 0.4141 - accuracy: 0.8043\n"
     ]
    },
    {
     "data": {
      "text/plain": [
       "<keras.callbacks.callbacks.History at 0x19aa024a508>"
      ]
     },
     "execution_count": 16,
     "metadata": {},
     "output_type": "execute_result"
    }
   ],
   "source": [
    "model.compile(loss='categorical_crossentropy', optimizer='adam', metrics=['accuracy'])\n",
    "\n",
    "model.fit(X_train, Y_train, batch_size=16, epochs=5)"
   ]
  },
  {
   "cell_type": "code",
   "execution_count": 17,
   "metadata": {},
   "outputs": [
    {
     "name": "stdout",
     "output_type": "stream",
     "text": [
      "660/660 [==============================] - 56s 85ms/step\n",
      "Test Acc:  0.8257575631141663\n"
     ]
    }
   ],
   "source": [
    "test_loss, test_acc = model.evaluate(X_test, Y_test, batch_size=16)\n",
    "print('Test Acc: ', test_acc)"
   ]
  },
  {
   "cell_type": "markdown",
   "metadata": {},
   "source": [
    "## Más capas, 10 epochs"
   ]
  },
  {
   "cell_type": "code",
   "execution_count": 18,
   "metadata": {},
   "outputs": [],
   "source": [
    "from keras.layers import Dense, Conv2D, Flatten, MaxPooling2D, AveragePooling2D, BatchNormalization, Dropout\n",
    "model = Sequential()\n",
    "model.add(Conv2D(128, kernel_size=7, activation='relu', input_shape=(224,224,3)))\n",
    "model.add(MaxPooling2D(pool_size=(2, 2), strides=2, padding='same', data_format=None))\n",
    "model.add(BatchNormalization())\n",
    "#model.add(Dropout(0.25))\n",
    "\n",
    "model.add(Conv2D(128, kernel_size=5, activation='relu'))\n",
    "model.add(MaxPooling2D(pool_size=(2, 2), strides=2, padding='same', data_format=None))\n",
    "model.add(BatchNormalization())\n",
    "#model.add(Dropout(0.25))\n",
    "\n",
    "model.add(Conv2D(64, kernel_size=3, activation='relu'))\n",
    "model.add(MaxPooling2D(pool_size=(2, 2), strides=2, padding='same', data_format=None))\n",
    "model.add(BatchNormalization())\n",
    "#model.add(Dropout(0.25))\n",
    "    \n",
    "model.add(Flatten())\n",
    "#model.add(Dropout(0.25))\n",
    "model.add(Dense(450, activation='relu'))\n",
    "#model.add(Dropout(0.25))\n",
    "model.add(Dense(250, activation='relu'))\n",
    "model.add(Dropout(0.25))\n",
    "model.add(Dense(125, activation='relu'))\n",
    "model.add(Dropout(0.25))\n",
    "model.add(Dense(30, activation='relu'))\n",
    "model.add(Dense(2, activation='softmax')) "
   ]
  },
  {
   "cell_type": "code",
   "execution_count": 19,
   "metadata": {},
   "outputs": [
    {
     "name": "stdout",
     "output_type": "stream",
     "text": [
      "Epoch 1/10\n",
      "2637/2637 [==============================] - 755s 286ms/step - loss: 2.3214 - accuracy: 0.6606\n",
      "Epoch 2/10\n",
      "2637/2637 [==============================] - 750s 284ms/step - loss: 0.7202 - accuracy: 0.7190\n",
      "Epoch 3/10\n",
      "2637/2637 [==============================] - 750s 284ms/step - loss: 0.5970 - accuracy: 0.7262\n",
      "Epoch 4/10\n",
      "2637/2637 [==============================] - 749s 284ms/step - loss: 0.5151 - accuracy: 0.7501\n",
      "Epoch 5/10\n",
      "2637/2637 [==============================] - 748s 284ms/step - loss: 0.4743 - accuracy: 0.7679\n",
      "Epoch 6/10\n",
      "2637/2637 [==============================] - 751s 285ms/step - loss: 0.4640 - accuracy: 0.7801\n",
      "Epoch 7/10\n",
      "2637/2637 [==============================] - 747s 283ms/step - loss: 0.3988 - accuracy: 0.8157\n",
      "Epoch 8/10\n",
      "2637/2637 [==============================] - 748s 284ms/step - loss: 0.3863 - accuracy: 0.8074\n",
      "Epoch 9/10\n",
      "2637/2637 [==============================] - 750s 284ms/step - loss: 0.3738 - accuracy: 0.8233\n",
      "Epoch 10/10\n",
      "2637/2637 [==============================] - 13797s 5s/step - loss: 0.3590 - accuracy: 0.8221\n"
     ]
    },
    {
     "data": {
      "text/plain": [
       "<keras.callbacks.callbacks.History at 0x19aa6ff7748>"
      ]
     },
     "execution_count": 19,
     "metadata": {},
     "output_type": "execute_result"
    }
   ],
   "source": [
    "model.compile(loss='categorical_crossentropy', optimizer='adam', metrics=['accuracy'])\n",
    "\n",
    "model.fit(X_train, Y_train, batch_size=16, epochs=10)"
   ]
  },
  {
   "cell_type": "code",
   "execution_count": 20,
   "metadata": {},
   "outputs": [
    {
     "name": "stdout",
     "output_type": "stream",
     "text": [
      "660/660 [==============================] - 56s 85ms/step\n",
      "Test Acc:  0.8075757622718811\n"
     ]
    }
   ],
   "source": [
    "test_loss, test_acc = model.evaluate(X_test, Y_test, batch_size=16)\n",
    "print('Test Acc: ', test_acc)"
   ]
  },
  {
   "cell_type": "code",
   "execution_count": 21,
   "metadata": {},
   "outputs": [
    {
     "name": "stdout",
     "output_type": "stream",
     "text": [
      "Epoch 1/20\n",
      "2637/2637 [==============================] - 771s 292ms/step - loss: 0.5042 - accuracy: 0.7649\n",
      "Epoch 2/20\n",
      "2637/2637 [==============================] - 752s 285ms/step - loss: 0.6695 - accuracy: 0.7235\n",
      "Epoch 3/20\n",
      "2637/2637 [==============================] - 752s 285ms/step - loss: 0.4353 - accuracy: 0.7861\n",
      "Epoch 4/20\n",
      "2637/2637 [==============================] - 760s 288ms/step - loss: 0.4507 - accuracy: 0.7907\n",
      "Epoch 5/20\n",
      "2637/2637 [==============================] - 750s 284ms/step - loss: 0.4159 - accuracy: 0.8062\n",
      "Epoch 6/20\n",
      "2637/2637 [==============================] - 751s 285ms/step - loss: 0.4279 - accuracy: 0.7964\n",
      "Epoch 7/20\n",
      "2637/2637 [==============================] - 750s 285ms/step - loss: 0.3629 - accuracy: 0.8165\n",
      "Epoch 8/20\n",
      "2637/2637 [==============================] - 750s 284ms/step - loss: 0.3677 - accuracy: 0.8294\n",
      "Epoch 9/20\n",
      "2637/2637 [==============================] - 751s 285ms/step - loss: 0.3574 - accuracy: 0.8278\n",
      "Epoch 10/20\n",
      "2637/2637 [==============================] - 751s 285ms/step - loss: 0.3269 - accuracy: 0.8426\n",
      "Epoch 11/20\n",
      "2637/2637 [==============================] - 753s 286ms/step - loss: 0.3374 - accuracy: 0.8331\n",
      "Epoch 12/20\n",
      "2637/2637 [==============================] - 749s 284ms/step - loss: 0.3410 - accuracy: 0.8453\n",
      "Epoch 13/20\n",
      "2637/2637 [==============================] - 752s 285ms/step - loss: 0.2945 - accuracy: 0.8468\n",
      "Epoch 14/20\n",
      "2637/2637 [==============================] - 749s 284ms/step - loss: 0.2730 - accuracy: 0.8688\n",
      "Epoch 15/20\n",
      "2637/2637 [==============================] - 750s 285ms/step - loss: 0.2691 - accuracy: 0.8764\n",
      "Epoch 16/20\n",
      "2637/2637 [==============================] - 751s 285ms/step - loss: 0.2271 - accuracy: 0.8934\n",
      "Epoch 17/20\n",
      "2637/2637 [==============================] - 750s 284ms/step - loss: 0.2334 - accuracy: 0.8972\n",
      "Epoch 18/20\n",
      "2637/2637 [==============================] - 749s 284ms/step - loss: 0.2633 - accuracy: 0.8908\n",
      "Epoch 19/20\n",
      "2637/2637 [==============================] - 753s 285ms/step - loss: 0.3297 - accuracy: 0.8536\n",
      "Epoch 20/20\n",
      "2637/2637 [==============================] - 755s 286ms/step - loss: 0.2198 - accuracy: 0.9018\n"
     ]
    },
    {
     "data": {
      "text/plain": [
       "<keras.callbacks.callbacks.History at 0x19aa0544b88>"
      ]
     },
     "execution_count": 21,
     "metadata": {},
     "output_type": "execute_result"
    }
   ],
   "source": [
    "model.compile(loss='categorical_crossentropy', optimizer='adam', metrics=['accuracy'])\n",
    "\n",
    "model.fit(X_train, Y_train, batch_size=16, epochs=20)"
   ]
  },
  {
   "cell_type": "code",
   "execution_count": 22,
   "metadata": {},
   "outputs": [
    {
     "name": "stdout",
     "output_type": "stream",
     "text": [
      "660/660 [==============================] - 57s 87ms/step\n",
      "Test Acc:  0.7378787994384766\n"
     ]
    }
   ],
   "source": [
    "test_loss, test_acc = model.evaluate(X_test, Y_test, batch_size=16)\n",
    "print('Test Acc: ', test_acc)"
   ]
  },
  {
   "cell_type": "code",
   "execution_count": 23,
   "metadata": {},
   "outputs": [],
   "source": [
    "from keras.layers import Dense, Conv2D, Flatten, MaxPooling2D, AveragePooling2D, BatchNormalization, Dropout\n",
    "model = Sequential()\n",
    "model.add(Conv2D(128, kernel_size=7, activation='relu', input_shape=(224,224,3)))\n",
    "model.add(MaxPooling2D(pool_size=(2, 2), strides=2, padding='same', data_format=None))\n",
    "model.add(BatchNormalization())\n",
    "#model.add(Dropout(0.25))\n",
    "\n",
    "model.add(Conv2D(128, kernel_size=5, activation='relu'))\n",
    "model.add(MaxPooling2D(pool_size=(2, 2), strides=2, padding='same', data_format=None))\n",
    "model.add(BatchNormalization())\n",
    "#model.add(Dropout(0.25))\n",
    "\n",
    "model.add(Conv2D(64, kernel_size=3, activation='relu'))\n",
    "model.add(MaxPooling2D(pool_size=(2, 2), strides=2, padding='same', data_format=None))\n",
    "model.add(BatchNormalization())\n",
    "#model.add(Dropout(0.25))\n",
    "    \n",
    "model.add(Flatten())\n",
    "#model.add(Dropout(0.25))\n",
    "model.add(Dense(450, activation='relu'))\n",
    "model.add(Dropout(0.25))\n",
    "model.add(Dense(250, activation='relu'))\n",
    "model.add(Dropout(0.25))\n",
    "model.add(Dense(125, activation='relu'))\n",
    "model.add(Dropout(0.25))\n",
    "model.add(Dense(30, activation='relu'))\n",
    "model.add(Dense(2, activation='softmax')) "
   ]
  },
  {
   "cell_type": "code",
   "execution_count": 24,
   "metadata": {},
   "outputs": [
    {
     "name": "stdout",
     "output_type": "stream",
     "text": [
      "Epoch 1/20\n",
      "2637/2637 [==============================] - 766s 290ms/step - loss: 1.6544 - accuracy: 0.6401\n",
      "Epoch 2/20\n",
      "2637/2637 [==============================] - 755s 286ms/step - loss: 0.6532 - accuracy: 0.7167\n",
      "Epoch 3/20\n",
      "2637/2637 [==============================] - 756s 287ms/step - loss: 0.5255 - accuracy: 0.7429\n",
      "Epoch 4/20\n",
      "2637/2637 [==============================] - 753s 285ms/step - loss: 0.5014 - accuracy: 0.7732\n",
      "Epoch 5/20\n",
      "2637/2637 [==============================] - 753s 286ms/step - loss: 0.4745 - accuracy: 0.7588\n",
      "Epoch 6/20\n",
      "2637/2637 [==============================] - 757s 287ms/step - loss: 0.4290 - accuracy: 0.7819\n",
      "Epoch 7/20\n",
      "2637/2637 [==============================] - 756s 287ms/step - loss: 0.4118 - accuracy: 0.7914\n",
      "Epoch 8/20\n",
      "2637/2637 [==============================] - 756s 287ms/step - loss: 0.3929 - accuracy: 0.8039\n",
      "Epoch 9/20\n",
      "2637/2637 [==============================] - 758s 288ms/step - loss: 0.3848 - accuracy: 0.8104\n",
      "Epoch 10/20\n",
      "2637/2637 [==============================] - 754s 286ms/step - loss: 0.3762 - accuracy: 0.8165\n",
      "Epoch 11/20\n",
      "2637/2637 [==============================] - 754s 286ms/step - loss: 0.3481 - accuracy: 0.8271\n",
      "Epoch 12/20\n",
      "2637/2637 [==============================] - 757s 287ms/step - loss: 0.3938 - accuracy: 0.7983\n",
      "Epoch 13/20\n",
      "2637/2637 [==============================] - 755s 286ms/step - loss: 0.3656 - accuracy: 0.8225\n",
      "Epoch 14/20\n",
      "2637/2637 [==============================] - 755s 286ms/step - loss: 0.3445 - accuracy: 0.8362\n",
      "Epoch 15/20\n",
      "2637/2637 [==============================] - 754s 286ms/step - loss: 0.3136 - accuracy: 0.8453\n",
      "Epoch 16/20\n",
      "2637/2637 [==============================] - 754s 286ms/step - loss: 0.3473 - accuracy: 0.8377\n",
      "Epoch 17/20\n",
      "2637/2637 [==============================] - 756s 287ms/step - loss: 0.3322 - accuracy: 0.8388\n",
      "Epoch 18/20\n",
      "2637/2637 [==============================] - 755s 286ms/step - loss: 0.3090 - accuracy: 0.8385\n",
      "Epoch 19/20\n",
      "2637/2637 [==============================] - 755s 286ms/step - loss: 0.3152 - accuracy: 0.8604\n",
      "Epoch 20/20\n",
      "2637/2637 [==============================] - 17421s 7s/step - loss: 0.3278 - accuracy: 0.8468\n"
     ]
    },
    {
     "data": {
      "text/plain": [
       "<keras.callbacks.callbacks.History at 0x19aa6fa7288>"
      ]
     },
     "execution_count": 24,
     "metadata": {},
     "output_type": "execute_result"
    }
   ],
   "source": [
    "model.compile(loss='categorical_crossentropy', optimizer='adam', metrics=['accuracy'])\n",
    "\n",
    "model.fit(X_train, Y_train, batch_size=16, epochs=20)"
   ]
  },
  {
   "cell_type": "code",
   "execution_count": 25,
   "metadata": {},
   "outputs": [
    {
     "name": "stdout",
     "output_type": "stream",
     "text": [
      "660/660 [==============================] - 56s 85ms/step\n",
      "Test Acc:  0.789393961429596\n"
     ]
    }
   ],
   "source": [
    "test_loss, test_acc = model.evaluate(X_test, Y_test, batch_size=16)\n",
    "print('Test Acc: ', test_acc)"
   ]
  },
  {
   "cell_type": "markdown",
   "metadata": {},
   "source": [
    "## Enésimo intento"
   ]
  },
  {
   "cell_type": "code",
   "execution_count": 8,
   "metadata": {},
   "outputs": [],
   "source": [
    "from keras.layers import Dense, Conv2D, Flatten, MaxPooling2D, AveragePooling2D, BatchNormalization, Dropout\n",
    "model = Sequential()\n",
    "model.add(Conv2D(128, kernel_size=7, activation='relu', input_shape=(224,224,3)))\n",
    "model.add(MaxPooling2D(pool_size=(2, 2), strides=2, padding='same', data_format=None))\n",
    "model.add(BatchNormalization())\n",
    "#model.add(Dropout(0.25))\n",
    "\n",
    "model.add(Conv2D(128, kernel_size=5, activation='relu'))\n",
    "model.add(MaxPooling2D(pool_size=(2, 2), strides=2, padding='same', data_format=None))\n",
    "model.add(BatchNormalization())\n",
    "#model.add(Dropout(0.25))\n",
    "\n",
    "model.add(Conv2D(64, kernel_size=3, activation='relu'))\n",
    "model.add(MaxPooling2D(pool_size=(2, 2), strides=2, padding='same', data_format=None))\n",
    "model.add(BatchNormalization())\n",
    "#model.add(Dropout(0.25))\n",
    "    \n",
    "model.add(Flatten())\n",
    "model.add(Dropout(0.25))\n",
    "model.add(Dense(450, activation='relu'))\n",
    "model.add(Dropout(0.25))\n",
    "model.add(Dense(250, activation='relu'))\n",
    "model.add(Dropout(0.25))\n",
    "model.add(Dense(125, activation='relu'))\n",
    "model.add(Dropout(0.25))\n",
    "model.add(Dense(30, activation='relu'))\n",
    "model.add(Dense(2, activation='softmax')) "
   ]
  },
  {
   "cell_type": "code",
   "execution_count": 9,
   "metadata": {},
   "outputs": [
    {
     "name": "stdout",
     "output_type": "stream",
     "text": [
      "Epoch 1/20\n",
      "2637/2637 [==============================] - 127s 48ms/step - loss: 2.0363 - accuracy: 0.6644\n",
      "Epoch 2/20\n",
      "2637/2637 [==============================] - 123s 46ms/step - loss: 0.7226 - accuracy: 0.7080\n",
      "Epoch 3/20\n",
      "2637/2637 [==============================] - 124s 47ms/step - loss: 0.5746 - accuracy: 0.7345\n",
      "Epoch 4/20\n",
      "2637/2637 [==============================] - 122s 46ms/step - loss: 0.5075 - accuracy: 0.7539\n",
      "Epoch 5/20\n",
      "2637/2637 [==============================] - 125s 47ms/step - loss: 0.4624 - accuracy: 0.7763\n",
      "Epoch 6/20\n",
      "2637/2637 [==============================] - 127s 48ms/step - loss: 0.4183 - accuracy: 0.7922\n",
      "Epoch 7/20\n",
      "2637/2637 [==============================] - 136s 52ms/step - loss: 0.3936 - accuracy: 0.8039\n",
      "Epoch 8/20\n",
      "2637/2637 [==============================] - 229s 87ms/step - loss: 0.4140 - accuracy: 0.7960\n",
      "Epoch 9/20\n",
      "2637/2637 [==============================] - 217s 82ms/step - loss: 0.3852 - accuracy: 0.8096\n",
      "Epoch 10/20\n",
      "2637/2637 [==============================] - 220s 83ms/step - loss: 0.3744 - accuracy: 0.8142\n",
      "Epoch 11/20\n",
      "2637/2637 [==============================] - 237s 90ms/step - loss: 0.3540 - accuracy: 0.8278\n",
      "Epoch 12/20\n",
      "2637/2637 [==============================] - 235s 89ms/step - loss: 0.3743 - accuracy: 0.8294\n",
      "Epoch 13/20\n",
      "2637/2637 [==============================] - 243s 92ms/step - loss: 0.3761 - accuracy: 0.8168\n",
      "Epoch 14/20\n",
      "2637/2637 [==============================] - 247s 94ms/step - loss: 0.3374 - accuracy: 0.8366\n",
      "Epoch 15/20\n",
      "2637/2637 [==============================] - 250s 95ms/step - loss: 0.3403 - accuracy: 0.8381\n",
      "Epoch 16/20\n",
      "2637/2637 [==============================] - 203s 77ms/step - loss: 0.3205 - accuracy: 0.8521\n",
      "Epoch 17/20\n",
      "2637/2637 [==============================] - 121s 46ms/step - loss: 0.3193 - accuracy: 0.8331\n",
      "Epoch 18/20\n",
      "2637/2637 [==============================] - 121s 46ms/step - loss: 0.3151 - accuracy: 0.8468\n",
      "Epoch 19/20\n",
      "2637/2637 [==============================] - 122s 46ms/step - loss: 0.3044 - accuracy: 0.8551\n",
      "Epoch 20/20\n",
      "2637/2637 [==============================] - 121s 46ms/step - loss: 0.2874 - accuracy: 0.8646\n"
     ]
    },
    {
     "data": {
      "text/plain": [
       "<keras.callbacks.callbacks.History at 0x1f90665fe08>"
      ]
     },
     "execution_count": 9,
     "metadata": {},
     "output_type": "execute_result"
    }
   ],
   "source": [
    "model.compile(loss='categorical_crossentropy', optimizer='adam', metrics=['accuracy'])\n",
    "\n",
    "model.fit(X_train, Y_train, batch_size=16, epochs=20)"
   ]
  },
  {
   "cell_type": "code",
   "execution_count": 10,
   "metadata": {},
   "outputs": [
    {
     "name": "stdout",
     "output_type": "stream",
     "text": [
      "660/660 [==============================] - 12s 19ms/step\n",
      "Test Acc:  0.6984848380088806\n"
     ]
    }
   ],
   "source": [
    "test_loss, test_acc = model.evaluate(X_test, Y_test, batch_size=16)\n",
    "print('Test Acc: ', test_acc)"
   ]
  },
  {
   "cell_type": "code",
   "execution_count": 11,
   "metadata": {},
   "outputs": [],
   "source": [
    "from keras.layers import Dense, Conv2D, Flatten, MaxPooling2D, AveragePooling2D, BatchNormalization, Dropout\n",
    "model = Sequential()\n",
    "model.add(Conv2D(128, kernel_size=7, activation='relu', input_shape=(224,224,3)))\n",
    "model.add(MaxPooling2D(pool_size=(2, 2), strides=2, padding='same', data_format=None))\n",
    "model.add(BatchNormalization())\n",
    "model.add(Dropout(0.25))\n",
    "\n",
    "model.add(Conv2D(128, kernel_size=5, activation='relu'))\n",
    "model.add(MaxPooling2D(pool_size=(2, 2), strides=2, padding='same', data_format=None))\n",
    "model.add(BatchNormalization())\n",
    "model.add(Dropout(0.25))\n",
    "\n",
    "model.add(Conv2D(64, kernel_size=3, activation='relu'))\n",
    "model.add(MaxPooling2D(pool_size=(2, 2), strides=2, padding='same', data_format=None))\n",
    "model.add(BatchNormalization())\n",
    "model.add(Dropout(0.25))\n",
    "    \n",
    "model.add(Flatten())\n",
    "model.add(Dropout(0.25))\n",
    "model.add(Dense(450, activation='relu'))\n",
    "model.add(Dropout(0.25))\n",
    "model.add(Dense(250, activation='relu'))\n",
    "model.add(Dropout(0.25))\n",
    "model.add(Dense(125, activation='relu'))\n",
    "model.add(Dropout(0.25))\n",
    "model.add(Dense(30, activation='relu'))\n",
    "model.add(Dense(2, activation='softmax')) "
   ]
  },
  {
   "cell_type": "code",
   "execution_count": 13,
   "metadata": {},
   "outputs": [
    {
     "name": "stdout",
     "output_type": "stream",
     "text": [
      "Epoch 1/20\n",
      "2637/2637 [==============================] - 133s 50ms/step - loss: 1.4008 - accuracy: 0.6621\n",
      "Epoch 2/20\n",
      "2637/2637 [==============================] - 132s 50ms/step - loss: 0.5898 - accuracy: 0.7122\n",
      "Epoch 3/20\n",
      "2637/2637 [==============================] - 133s 50ms/step - loss: 0.5453 - accuracy: 0.7588\n",
      "Epoch 4/20\n",
      "2637/2637 [==============================] - 133s 50ms/step - loss: 0.4834 - accuracy: 0.7634\n",
      "Epoch 5/20\n",
      "2637/2637 [==============================] - 133s 50ms/step - loss: 0.4370 - accuracy: 0.7835\n",
      "Epoch 6/20\n",
      "2637/2637 [==============================] - 132s 50ms/step - loss: 0.4760 - accuracy: 0.7755\n",
      "Epoch 7/20\n",
      "2637/2637 [==============================] - 132s 50ms/step - loss: 0.4514 - accuracy: 0.7789\n",
      "Epoch 8/20\n",
      "2637/2637 [==============================] - 132s 50ms/step - loss: 0.4097 - accuracy: 0.7880\n",
      "Epoch 9/20\n",
      "2637/2637 [==============================] - 132s 50ms/step - loss: 0.4004 - accuracy: 0.8005\n",
      "Epoch 10/20\n",
      "2637/2637 [==============================] - 133s 50ms/step - loss: 0.4024 - accuracy: 0.7998\n",
      "Epoch 11/20\n",
      "2637/2637 [==============================] - 133s 50ms/step - loss: 0.3679 - accuracy: 0.8096\n",
      "Epoch 12/20\n",
      "2637/2637 [==============================] - 132s 50ms/step - loss: 0.3402 - accuracy: 0.8199\n",
      "Epoch 13/20\n",
      "2637/2637 [==============================] - 132s 50ms/step - loss: 0.3604 - accuracy: 0.8256\n",
      "Epoch 14/20\n",
      "2637/2637 [==============================] - 133s 50ms/step - loss: 0.3468 - accuracy: 0.8282\n",
      "Epoch 15/20\n",
      "2637/2637 [==============================] - 132s 50ms/step - loss: 0.3529 - accuracy: 0.8282\n",
      "Epoch 16/20\n",
      "2637/2637 [==============================] - 132s 50ms/step - loss: 0.3569 - accuracy: 0.8214\n",
      "Epoch 17/20\n",
      "2637/2637 [==============================] - 132s 50ms/step - loss: 0.3512 - accuracy: 0.8259\n",
      "Epoch 18/20\n",
      "2637/2637 [==============================] - 132s 50ms/step - loss: 0.3249 - accuracy: 0.8426\n",
      "Epoch 19/20\n",
      "2637/2637 [==============================] - 132s 50ms/step - loss: 0.3231 - accuracy: 0.8282\n",
      "Epoch 20/20\n",
      "2637/2637 [==============================] - 132s 50ms/step - loss: 0.3379 - accuracy: 0.8343\n"
     ]
    },
    {
     "data": {
      "text/plain": [
       "<keras.callbacks.callbacks.History at 0x1f936ea1188>"
      ]
     },
     "execution_count": 13,
     "metadata": {},
     "output_type": "execute_result"
    }
   ],
   "source": [
    "model.compile(loss='categorical_crossentropy', optimizer='adam', metrics=['accuracy'])\n",
    "\n",
    "model.fit(X_train, Y_train, batch_size=16, epochs=20)"
   ]
  },
  {
   "cell_type": "code",
   "execution_count": 14,
   "metadata": {},
   "outputs": [
    {
     "name": "stdout",
     "output_type": "stream",
     "text": [
      "660/660 [==============================] - 9s 14ms/step\n",
      "Test Acc:  0.821212112903595\n"
     ]
    }
   ],
   "source": [
    "test_loss, test_acc = model.evaluate(X_test, Y_test, batch_size=16)\n",
    "print('Test Acc: ', test_acc)"
   ]
  },
  {
   "cell_type": "code",
   "execution_count": 8,
   "metadata": {},
   "outputs": [
    {
     "name": "stdout",
     "output_type": "stream",
     "text": [
      "Epoch 1/40\n",
      "2637/2637 [==============================] - 155s 59ms/step - loss: 1.6733 - accuracy: 0.6519\n",
      "Epoch 2/40\n",
      "2637/2637 [==============================] - 210s 80ms/step - loss: 0.6318 - accuracy: 0.7232\n",
      "Epoch 3/40\n",
      "2637/2637 [==============================] - 131s 50ms/step - loss: 0.5358 - accuracy: 0.7452\n",
      "Epoch 4/40\n",
      "2637/2637 [==============================] - 132s 50ms/step - loss: 0.4953 - accuracy: 0.7527\n",
      "Epoch 5/40\n",
      "2637/2637 [==============================] - 133s 51ms/step - loss: 0.4397 - accuracy: 0.7770\n",
      "Epoch 6/40\n",
      "2637/2637 [==============================] - 131s 50ms/step - loss: 0.4353 - accuracy: 0.7804\n",
      "Epoch 7/40\n",
      "2637/2637 [==============================] - 131s 50ms/step - loss: 0.4086 - accuracy: 0.7986\n",
      "Epoch 8/40\n",
      "2637/2637 [==============================] - 131s 50ms/step - loss: 0.3895 - accuracy: 0.8043\n",
      "Epoch 9/40\n",
      "2637/2637 [==============================] - 131s 50ms/step - loss: 0.3909 - accuracy: 0.8187\n",
      "Epoch 10/40\n",
      "2637/2637 [==============================] - 131s 50ms/step - loss: 0.3789 - accuracy: 0.8184\n",
      "Epoch 11/40\n",
      "2637/2637 [==============================] - 131s 50ms/step - loss: 0.3634 - accuracy: 0.8149\n",
      "Epoch 12/40\n",
      "2637/2637 [==============================] - 131s 50ms/step - loss: 0.3553 - accuracy: 0.8316\n",
      "Epoch 13/40\n",
      "2637/2637 [==============================] - 131s 50ms/step - loss: 0.3401 - accuracy: 0.8312\n",
      "Epoch 14/40\n",
      "2637/2637 [==============================] - 131s 50ms/step - loss: 0.3430 - accuracy: 0.8278\n",
      "Epoch 15/40\n",
      "2637/2637 [==============================] - 131s 50ms/step - loss: 0.3344 - accuracy: 0.8377\n",
      "Epoch 16/40\n",
      "2637/2637 [==============================] - 131s 50ms/step - loss: 0.3287 - accuracy: 0.8445\n",
      "Epoch 17/40\n",
      "2637/2637 [==============================] - 131s 50ms/step - loss: 0.3350 - accuracy: 0.8464\n",
      "Epoch 18/40\n",
      "2637/2637 [==============================] - 131s 50ms/step - loss: 0.3310 - accuracy: 0.8381\n",
      "Epoch 19/40\n",
      "2637/2637 [==============================] - 131s 50ms/step - loss: 0.3111 - accuracy: 0.8495\n",
      "Epoch 20/40\n",
      "2637/2637 [==============================] - 131s 50ms/step - loss: 0.2989 - accuracy: 0.8570\n",
      "Epoch 21/40\n",
      "2637/2637 [==============================] - 131s 50ms/step - loss: 0.2969 - accuracy: 0.8631\n",
      "Epoch 22/40\n",
      "2637/2637 [==============================] - 131s 50ms/step - loss: 0.3007 - accuracy: 0.8623\n",
      "Epoch 23/40\n",
      "2637/2637 [==============================] - 131s 50ms/step - loss: 0.2899 - accuracy: 0.8578\n",
      "Epoch 24/40\n",
      "2637/2637 [==============================] - 131s 50ms/step - loss: 0.2826 - accuracy: 0.8680\n",
      "Epoch 25/40\n",
      "2637/2637 [==============================] - 131s 50ms/step - loss: 0.2730 - accuracy: 0.8726\n",
      "Epoch 26/40\n",
      "2637/2637 [==============================] - 131s 50ms/step - loss: 0.2665 - accuracy: 0.8752\n",
      "Epoch 27/40\n",
      "2637/2637 [==============================] - 131s 50ms/step - loss: 0.2582 - accuracy: 0.8813\n",
      "Epoch 28/40\n",
      "2637/2637 [==============================] - 131s 50ms/step - loss: 0.2638 - accuracy: 0.8862\n",
      "Epoch 29/40\n",
      "2637/2637 [==============================] - 131s 50ms/step - loss: 0.2326 - accuracy: 0.8934\n",
      "Epoch 30/40\n",
      "2637/2637 [==============================] - 131s 50ms/step - loss: 0.2105 - accuracy: 0.9097\n",
      "Epoch 31/40\n",
      "2637/2637 [==============================] - 131s 50ms/step - loss: 0.2273 - accuracy: 0.8969\n",
      "Epoch 32/40\n",
      "2637/2637 [==============================] - 131s 50ms/step - loss: 0.2281 - accuracy: 0.9025\n",
      "Epoch 33/40\n",
      "2637/2637 [==============================] - 131s 50ms/step - loss: 0.2036 - accuracy: 0.9075\n",
      "Epoch 34/40\n",
      "2637/2637 [==============================] - 131s 50ms/step - loss: 0.2027 - accuracy: 0.9124\n",
      "Epoch 35/40\n",
      "2637/2637 [==============================] - 131s 50ms/step - loss: 0.1777 - accuracy: 0.9181\n",
      "Epoch 36/40\n",
      "2637/2637 [==============================] - 131s 50ms/step - loss: 0.2270 - accuracy: 0.9086\n",
      "Epoch 37/40\n",
      "2637/2637 [==============================] - 131s 50ms/step - loss: 0.2364 - accuracy: 0.9067\n",
      "Epoch 38/40\n",
      "2637/2637 [==============================] - 131s 50ms/step - loss: 0.1957 - accuracy: 0.9192\n",
      "Epoch 39/40\n",
      "2637/2637 [==============================] - 131s 50ms/step - loss: 0.1805 - accuracy: 0.9204\n",
      "Epoch 40/40\n",
      "2637/2637 [==============================] - 131s 50ms/step - loss: 0.1490 - accuracy: 0.9405\n",
      "660/660 [==============================] - 10s 16ms/step\n",
      "Test Acc:  0.8151515126228333\n"
     ]
    }
   ],
   "source": [
    "#el mismo, con 40 epochs\n",
    "from keras.layers import Dense, Conv2D, Flatten, MaxPooling2D, AveragePooling2D, BatchNormalization, Dropout\n",
    "model = Sequential()\n",
    "model.add(Conv2D(128, kernel_size=7, activation='relu', input_shape=(224,224,3)))\n",
    "model.add(MaxPooling2D(pool_size=(2, 2), strides=2, padding='same', data_format=None))\n",
    "model.add(BatchNormalization())\n",
    "model.add(Dropout(0.25))\n",
    "\n",
    "model.add(Conv2D(128, kernel_size=5, activation='relu'))\n",
    "model.add(MaxPooling2D(pool_size=(2, 2), strides=2, padding='same', data_format=None))\n",
    "model.add(BatchNormalization())\n",
    "model.add(Dropout(0.25))\n",
    "\n",
    "model.add(Conv2D(64, kernel_size=3, activation='relu'))\n",
    "model.add(MaxPooling2D(pool_size=(2, 2), strides=2, padding='same', data_format=None))\n",
    "model.add(BatchNormalization())\n",
    "model.add(Dropout(0.25))\n",
    "    \n",
    "model.add(Flatten())\n",
    "model.add(Dropout(0.25))\n",
    "model.add(Dense(450, activation='relu'))\n",
    "model.add(Dropout(0.25))\n",
    "model.add(Dense(250, activation='relu'))\n",
    "model.add(Dropout(0.25))\n",
    "model.add(Dense(125, activation='relu'))\n",
    "model.add(Dropout(0.25))\n",
    "model.add(Dense(30, activation='relu'))\n",
    "model.add(Dense(2, activation='softmax')) \n",
    "model.compile(loss='categorical_crossentropy', optimizer='adam', metrics=['accuracy'])\n",
    "\n",
    "model.fit(X_train, Y_train, batch_size=16, epochs=40)\n",
    "test_loss, test_acc = model.evaluate(X_test, Y_test, batch_size=16)\n",
    "print('Test Acc: ', test_acc)"
   ]
  },
  {
   "cell_type": "markdown",
   "metadata": {},
   "source": [
    "## Ahora con regularización"
   ]
  },
  {
   "cell_type": "code",
   "execution_count": 10,
   "metadata": {},
   "outputs": [],
   "source": [
    "from keras.layers import Dense, Conv2D, Flatten, MaxPooling2D, AveragePooling2D, BatchNormalization, Dropout\n",
    "from keras import regularizers\n",
    "model = Sequential()\n",
    "model.add(Conv2D(128, kernel_size=7, activation='relu', input_shape=(224,224,3)))\n",
    "model.add(MaxPooling2D(pool_size=(2, 2), strides=2, padding='same', data_format=None))\n",
    "model.add(BatchNormalization())\n",
    "model.add(Dropout(0.25))\n",
    "\n",
    "model.add(Conv2D(128, kernel_size=5, activation='relu'))\n",
    "model.add(MaxPooling2D(pool_size=(2, 2), strides=2, padding='same', data_format=None))\n",
    "model.add(BatchNormalization())\n",
    "model.add(Dropout(0.25))\n",
    "\n",
    "model.add(Conv2D(64, kernel_size=3, activation='relu'))\n",
    "model.add(MaxPooling2D(pool_size=(2, 2), strides=2, padding='same', data_format=None))\n",
    "model.add(BatchNormalization())\n",
    "model.add(Dropout(0.25))\n",
    "    \n",
    "model.add(Flatten())\n",
    "model.add(Dropout(0.25))\n",
    "model.add(Dense(450, activation='relu', kernel_regularizer=regularizers.l2(0.01), bias_regularizer=regularizers.l2(0.01)))\n",
    "model.add(Dropout(0.25))\n",
    "model.add(Dense(250, activation='relu', kernel_regularizer=regularizers.l2(0.01), bias_regularizer=regularizers.l2(0.01)))\n",
    "model.add(Dropout(0.25))\n",
    "model.add(Dense(125, activation='relu', kernel_regularizer=regularizers.l2(0.01), bias_regularizer=regularizers.l2(0.01)))\n",
    "model.add(Dropout(0.25))\n",
    "model.add(Dense(30, activation='relu', kernel_regularizer=regularizers.l2(0.01), bias_regularizer=regularizers.l2(0.01)))\n",
    "model.add(Dense(2, activation='softmax')) "
   ]
  },
  {
   "cell_type": "code",
   "execution_count": 11,
   "metadata": {},
   "outputs": [
    {
     "name": "stdout",
     "output_type": "stream",
     "text": [
      "Epoch 1/40\n",
      "2637/2637 [==============================] - 135s 51ms/step - loss: 13.8785 - accuracy: 0.6469\n",
      "Epoch 2/40\n",
      "2637/2637 [==============================] - 135s 51ms/step - loss: 5.1810 - accuracy: 0.7603\n",
      "Epoch 3/40\n",
      "2637/2637 [==============================] - 136s 51ms/step - loss: 3.3128 - accuracy: 0.7835\n",
      "Epoch 4/40\n",
      "2637/2637 [==============================] - 135s 51ms/step - loss: 2.5566 - accuracy: 0.7789\n",
      "Epoch 5/40\n",
      "2637/2637 [==============================] - 135s 51ms/step - loss: 2.0030 - accuracy: 0.7785\n",
      "Epoch 6/40\n",
      "2637/2637 [==============================] - 135s 51ms/step - loss: 1.6255 - accuracy: 0.7766\n",
      "Epoch 7/40\n",
      "2637/2637 [==============================] - 135s 51ms/step - loss: 1.3115 - accuracy: 0.7819\n",
      "Epoch 8/40\n",
      "2637/2637 [==============================] - 135s 51ms/step - loss: 1.1171 - accuracy: 0.7876\n",
      "Epoch 9/40\n",
      "2637/2637 [==============================] - 135s 51ms/step - loss: 0.9770 - accuracy: 0.7903\n",
      "Epoch 10/40\n",
      "2637/2637 [==============================] - 135s 51ms/step - loss: 0.8505 - accuracy: 0.7911\n",
      "Epoch 11/40\n",
      "2637/2637 [==============================] - 136s 51ms/step - loss: 0.7875 - accuracy: 0.7869\n",
      "Epoch 12/40\n",
      "2637/2637 [==============================] - 135s 51ms/step - loss: 0.7473 - accuracy: 0.7926\n",
      "Epoch 13/40\n",
      "2637/2637 [==============================] - 135s 51ms/step - loss: 0.6794 - accuracy: 0.7922\n",
      "Epoch 14/40\n",
      "2637/2637 [==============================] - 135s 51ms/step - loss: 0.6596 - accuracy: 0.7937\n",
      "Epoch 15/40\n",
      "2637/2637 [==============================] - 135s 51ms/step - loss: 0.6633 - accuracy: 0.7835\n",
      "Epoch 16/40\n",
      "2637/2637 [==============================] - 135s 51ms/step - loss: 0.6326 - accuracy: 0.7937\n",
      "Epoch 17/40\n",
      "2637/2637 [==============================] - 136s 51ms/step - loss: 0.6196 - accuracy: 0.7952\n",
      "Epoch 18/40\n",
      "2637/2637 [==============================] - 136s 51ms/step - loss: 0.6436 - accuracy: 0.7937\n",
      "Epoch 19/40\n",
      "2637/2637 [==============================] - 135s 51ms/step - loss: 0.6280 - accuracy: 0.8161\n",
      "Epoch 20/40\n",
      "2637/2637 [==============================] - 135s 51ms/step - loss: 0.6778 - accuracy: 0.7888\n",
      "Epoch 21/40\n",
      "2637/2637 [==============================] - 135s 51ms/step - loss: 0.6601 - accuracy: 0.7986\n",
      "Epoch 22/40\n",
      "2637/2637 [==============================] - 136s 51ms/step - loss: 0.6621 - accuracy: 0.8077\n",
      "Epoch 23/40\n",
      "2637/2637 [==============================] - 135s 51ms/step - loss: 0.6704 - accuracy: 0.8081\n",
      "Epoch 24/40\n",
      "2637/2637 [==============================] - 135s 51ms/step - loss: 0.6949 - accuracy: 0.7933\n",
      "Epoch 25/40\n",
      "2637/2637 [==============================] - 135s 51ms/step - loss: 0.6543 - accuracy: 0.7960\n",
      "Epoch 26/40\n",
      "2637/2637 [==============================] - 135s 51ms/step - loss: 0.6592 - accuracy: 0.8055\n",
      "Epoch 27/40\n",
      "2637/2637 [==============================] - 135s 51ms/step - loss: 0.6880 - accuracy: 0.8077\n",
      "Epoch 28/40\n",
      "2637/2637 [==============================] - 136s 52ms/step - loss: 0.7282 - accuracy: 0.8009\n",
      "Epoch 29/40\n",
      "2637/2637 [==============================] - 137s 52ms/step - loss: 0.7473 - accuracy: 0.8089\n",
      "Epoch 30/40\n",
      "2637/2637 [==============================] - 135s 51ms/step - loss: 0.7315 - accuracy: 0.8039\n",
      "Epoch 31/40\n",
      "2637/2637 [==============================] - 137s 52ms/step - loss: 0.7277 - accuracy: 0.8168\n",
      "Epoch 32/40\n",
      "2637/2637 [==============================] - 139s 53ms/step - loss: 0.7209 - accuracy: 0.8096\n",
      "Epoch 33/40\n",
      "2637/2637 [==============================] - 145s 55ms/step - loss: 0.8013 - accuracy: 0.8111\n",
      "Epoch 34/40\n",
      "2637/2637 [==============================] - 141s 53ms/step - loss: 0.7357 - accuracy: 0.8093\n",
      "Epoch 35/40\n",
      "2637/2637 [==============================] - 234s 89ms/step - loss: 0.7675 - accuracy: 0.8165\n",
      "Epoch 36/40\n",
      "2637/2637 [==============================] - 238s 90ms/step - loss: 0.7855 - accuracy: 0.8210\n",
      "Epoch 37/40\n",
      "2637/2637 [==============================] - 255s 97ms/step - loss: 0.7761 - accuracy: 0.8248\n",
      "Epoch 38/40\n",
      "2637/2637 [==============================] - 264s 100ms/step - loss: 0.7904 - accuracy: 0.8093\n",
      "Epoch 39/40\n",
      "2637/2637 [==============================] - 282s 107ms/step - loss: 0.7746 - accuracy: 0.8134\n",
      "Epoch 40/40\n",
      "2637/2637 [==============================] - 298s 113ms/step - loss: 0.7739 - accuracy: 0.8161\n"
     ]
    },
    {
     "data": {
      "text/plain": [
       "<keras.callbacks.callbacks.History at 0x273b3641f08>"
      ]
     },
     "execution_count": 11,
     "metadata": {},
     "output_type": "execute_result"
    }
   ],
   "source": [
    "model.compile(loss='categorical_crossentropy', optimizer='adam', metrics=['accuracy'])\n",
    "model.fit(X_train, Y_train, batch_size=16, epochs=40)"
   ]
  },
  {
   "cell_type": "code",
   "execution_count": 12,
   "metadata": {},
   "outputs": [
    {
     "name": "stdout",
     "output_type": "stream",
     "text": [
      "660/660 [==============================] - 21s 33ms/step\n",
      "Test Acc:  0.789393961429596\n"
     ]
    }
   ],
   "source": [
    "test_loss, test_acc = model.evaluate(X_test, Y_test, batch_size=16)\n",
    "print('Test Acc: ', test_acc)"
   ]
  },
  {
   "cell_type": "markdown",
   "metadata": {},
   "source": [
    "## Nuevo enfoque"
   ]
  },
  {
   "cell_type": "code",
   "execution_count": 22,
   "metadata": {},
   "outputs": [],
   "source": [
    "from keras.layers import Dense, Conv2D, Flatten, MaxPooling2D, AveragePooling2D, BatchNormalization, Dropout\n",
    "from keras import regularizers\n",
    "model = Sequential()\n",
    "model.add(Conv2D(128, kernel_size=7, activation='relu', input_shape=(224,224,3)))\n",
    "model.add(MaxPooling2D(pool_size=(2, 2), strides=2, padding='same', data_format=None))\n",
    "model.add(BatchNormalization())\n",
    "model.add(Dropout(0.25))\n",
    "\n",
    "model.add(Conv2D(128, kernel_size=5, activation='relu'))\n",
    "model.add(MaxPooling2D(pool_size=(2, 2), strides=2, padding='same', data_format=None))\n",
    "model.add(BatchNormalization())\n",
    "model.add(Dropout(0.25))\n",
    "\n",
    "model.add(Conv2D(64, kernel_size=3, activation='relu'))\n",
    "model.add(MaxPooling2D(pool_size=(2, 2), strides=2, padding='same', data_format=None))\n",
    "model.add(BatchNormalization())\n",
    "model.add(Dropout(0.25))\n",
    "    \n",
    "model.add(Flatten())\n",
    "model.add(Dropout(0.50))\n",
    "model.add(Dense(450, activation='relu', kernel_regularizer=regularizers.l2(0.01), bias_regularizer=regularizers.l2(0.01)))\n",
    "model.add(Dropout(0.50))\n",
    "model.add(Dense(450, activation='relu'))\n",
    "model.add(Dropout(0.25))\n",
    "model.add(Dense(250, activation='relu'))\n",
    "model.add(Dropout(0.25))\n",
    "model.add(Dense(125, activation='relu'))\n",
    "model.add(Dropout(0.25))\n",
    "model.add(Dense(30, activation='relu'))\n",
    "model.add(Dense(2, activation='softmax')) "
   ]
  },
  {
   "cell_type": "code",
   "execution_count": 23,
   "metadata": {},
   "outputs": [
    {
     "name": "stdout",
     "output_type": "stream",
     "text": [
      "Epoch 1/30\n",
      "2637/2637 [==============================] - 161s 61ms/step - loss: 10.1517 - accuracy: 0.6416\n",
      "Epoch 2/30\n",
      "2637/2637 [==============================] - 161s 61ms/step - loss: 2.8305 - accuracy: 0.7296\n",
      "Epoch 3/30\n",
      "2637/2637 [==============================] - 143s 54ms/step - loss: 1.1710 - accuracy: 0.7641\n",
      "Epoch 4/30\n",
      "2637/2637 [==============================] - 143s 54ms/step - loss: 1.1571 - accuracy: 0.7622\n",
      "Epoch 5/30\n",
      "2637/2637 [==============================] - 234s 89ms/step - loss: 1.0566 - accuracy: 0.7721\n",
      "Epoch 6/30\n",
      "2637/2637 [==============================] - 255s 97ms/step - loss: 1.1460 - accuracy: 0.7740\n",
      "Epoch 7/30\n",
      "2637/2637 [==============================] - 252s 96ms/step - loss: 0.9602 - accuracy: 0.7945\n",
      "Epoch 8/30\n",
      "2637/2637 [==============================] - 262s 99ms/step - loss: 1.1534 - accuracy: 0.7759\n",
      "Epoch 9/30\n",
      "2637/2637 [==============================] - 251s 95ms/step - loss: 1.1099 - accuracy: 0.7770\n",
      "Epoch 10/30\n",
      "2637/2637 [==============================] - 235s 89ms/step - loss: 0.9848 - accuracy: 0.7952\n",
      "Epoch 11/30\n",
      "2637/2637 [==============================] - 142s 54ms/step - loss: 1.0077 - accuracy: 0.8047\n",
      "Epoch 12/30\n",
      "2637/2637 [==============================] - 145s 55ms/step - loss: 1.1115 - accuracy: 0.7971\n",
      "Epoch 13/30\n",
      "2637/2637 [==============================] - 140s 53ms/step - loss: 1.1157 - accuracy: 0.7990\n",
      "Epoch 14/30\n",
      "2637/2637 [==============================] - 201s 76ms/step - loss: 1.0899 - accuracy: 0.7823\n",
      "Epoch 15/30\n",
      "2637/2637 [==============================] - 253s 96ms/step - loss: 1.0503 - accuracy: 0.8051\n",
      "Epoch 16/30\n",
      "2637/2637 [==============================] - 256s 97ms/step - loss: 1.1355 - accuracy: 0.7986\n",
      "Epoch 17/30\n",
      "2637/2637 [==============================] - 191s 73ms/step - loss: 1.0850 - accuracy: 0.7801\n",
      "Epoch 18/30\n",
      "2637/2637 [==============================] - 242s 92ms/step - loss: 1.1553 - accuracy: 0.7812\n",
      "Epoch 19/30\n",
      "2637/2637 [==============================] - 247s 94ms/step - loss: 1.1934 - accuracy: 0.8020\n",
      "Epoch 20/30\n",
      "2637/2637 [==============================] - 268s 102ms/step - loss: 1.1524 - accuracy: 0.7960\n",
      "Epoch 21/30\n",
      "2637/2637 [==============================] - 222s 84ms/step - loss: 1.0469 - accuracy: 0.8085\n",
      "Epoch 22/30\n",
      "2637/2637 [==============================] - 158s 60ms/step - loss: 1.1152 - accuracy: 0.8017\n",
      "Epoch 23/30\n",
      "2637/2637 [==============================] - 156s 59ms/step - loss: 1.1030 - accuracy: 0.8130\n",
      "Epoch 24/30\n",
      "2637/2637 [==============================] - 156s 59ms/step - loss: 1.1170 - accuracy: 0.7971\n",
      "Epoch 25/30\n",
      "2637/2637 [==============================] - 156s 59ms/step - loss: 1.2786 - accuracy: 0.8055\n",
      "Epoch 26/30\n",
      "2637/2637 [==============================] - 156s 59ms/step - loss: 1.1846 - accuracy: 0.7975\n",
      "Epoch 27/30\n",
      "2637/2637 [==============================] - 156s 59ms/step - loss: 1.0653 - accuracy: 0.7979\n",
      "Epoch 28/30\n",
      "2637/2637 [==============================] - 164s 62ms/step - loss: 1.1825 - accuracy: 0.8093\n",
      "Epoch 29/30\n",
      "2637/2637 [==============================] - 136s 51ms/step - loss: 1.2132 - accuracy: 0.8093\n",
      "Epoch 30/30\n",
      "2637/2637 [==============================] - 136s 52ms/step - loss: 1.0977 - accuracy: 0.8020\n"
     ]
    },
    {
     "data": {
      "text/plain": [
       "<keras.callbacks.callbacks.History at 0x1df1603bb08>"
      ]
     },
     "execution_count": 23,
     "metadata": {},
     "output_type": "execute_result"
    }
   ],
   "source": [
    "model.compile(loss='categorical_crossentropy', optimizer='adam', metrics=['accuracy'])\n",
    "model.fit(X_train, Y_train, batch_size=16, epochs=30)"
   ]
  },
  {
   "cell_type": "code",
   "execution_count": 24,
   "metadata": {},
   "outputs": [
    {
     "name": "stdout",
     "output_type": "stream",
     "text": [
      "330/330 [==============================] - 7s 22ms/step\n",
      "Test Acc:  0.760606050491333\n"
     ]
    }
   ],
   "source": [
    "test_loss, test_acc = model.evaluate(X_test[0:330], Y_test[0:330], batch_size=16)\n",
    "print('Test Acc: ', test_acc)"
   ]
  },
  {
   "cell_type": "code",
   "execution_count": null,
   "metadata": {},
   "outputs": [],
   "source": []
  }
 ],
 "metadata": {
  "kernelspec": {
   "display_name": "Python 3.7.6 64-bit",
   "language": "python",
   "name": "python37664bitafcaf6bb83bd42b38a1a3d733de9b838"
  },
  "language_info": {
   "codemirror_mode": {
    "name": "ipython",
    "version": 3
   },
   "file_extension": ".py",
   "mimetype": "text/x-python",
   "name": "python",
   "nbconvert_exporter": "python",
   "pygments_lexer": "ipython3",
   "version": "3.7.6"
  }
 },
 "nbformat": 4,
 "nbformat_minor": 2
}
