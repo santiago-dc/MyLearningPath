{
 "cells": [
  {
   "cell_type": "markdown",
   "metadata": {},
   "source": [
    "# Handwritten numbers Recognition"
   ]
  },
  {
   "cell_type": "code",
   "execution_count": 1,
   "metadata": {},
   "outputs": [],
   "source": [
    "import pandas as pd\n",
    "import numpy as np\n",
    "import tensorflow as tf\n",
    "from tensorflow import keras "
   ]
  },
  {
   "cell_type": "markdown",
   "metadata": {},
   "source": [
    "## Load Data"
   ]
  },
  {
   "cell_type": "markdown",
   "metadata": {},
   "source": [
    "Extraer datos. Las imágenes son de 28*28 píxeles, por lo tanto el csv tiene 784 columnas más 1 indicando la salida"
   ]
  },
  {
   "cell_type": "code",
   "execution_count": 2,
   "metadata": {},
   "outputs": [],
   "source": [
    "def extract():\n",
    "    df_train = pd.read_csv('data/mnist_train.csv', delimiter = ',').to_numpy()\n",
    "    df_test = pd.read_csv('data/mnist_test.csv', delimiter = ',').to_numpy()\n",
    "    df = pd.DataFrame(np.concatenate((df_train,df_test)))\n",
    "    return df"
   ]
  },
  {
   "cell_type": "markdown",
   "metadata": {},
   "source": [
    "Transformar output a array de 10 y separar de las inputs"
   ]
  },
  {
   "cell_type": "code",
   "execution_count": 3,
   "metadata": {},
   "outputs": [],
   "source": [
    "def transform(df): \n",
    "    y_raw = df.iloc[:, 0].to_numpy()\n",
    "    x = df.drop(df.columns[0], axis='columns').to_numpy()\n",
    "    y = []\n",
    "    for i in range(0,y_raw.shape[0]):\n",
    "        row=np.zeros(10)\n",
    "        row[y_raw[i]]=1\n",
    "        y.append(row)\n",
    "    y=np.array(y)\n",
    "    y.reshape(y.shape[0],10)\n",
    "    return x, y"
   ]
  },
  {
   "cell_type": "markdown",
   "metadata": {},
   "source": [
    "Creamos los dataset de entrenamiento y test"
   ]
  },
  {
   "cell_type": "code",
   "execution_count": 5,
   "metadata": {},
   "outputs": [],
   "source": [
    "df = extract()\n",
    "x_train,y_train = transform(df.iloc[0:60000])\n",
    "#x_val,y_val = transform(df.iloc[50000:60000])\n",
    "x_test,y_test = transform(df.iloc[60000:70000])"
   ]
  },
  {
   "cell_type": "code",
   "execution_count": 6,
   "metadata": {},
   "outputs": [],
   "source": [
    "x_train = x_train.reshape(60000,28,28,1)\n",
    "x_test = x_test.reshape(9998,28,28,1)"
   ]
  },
  {
   "cell_type": "markdown",
   "metadata": {},
   "source": [
    "## Creación de la Red Neuronal"
   ]
  },
  {
   "cell_type": "markdown",
   "metadata": {},
   "source": [
    "En la red neuronal vamoas a implementar una arquitectura de (784,512,256,128,10), con funciones de activación ReLu en todas las capas menos en la última, en la cual utilizaremos la funcion softmax (https://www.quora.com/Why-is-it-better-to-use-Softmax-function-than-sigmoid-function).<br> Para cada capa se utilizará la funcion Dense, la cual tiene los siguientes parámetros por defecto:\n",
    "- activation=None,\n",
    "- use_bias=True,\n",
    "- kernel_initializer='glorot_uniform',\n",
    "- bias_initializer='zeros',\n",
    "- kernel_regularizer=None,\n",
    "- bias_regularizer=None,\n",
    "- activity_regularizer=None,\n",
    "- kernel_constraint=None,\n",
    "- bias_constraint=None\n",
    "\n",
    "\n"
   ]
  },
  {
   "cell_type": "code",
   "execution_count": 7,
   "metadata": {},
   "outputs": [
    {
     "name": "stderr",
     "output_type": "stream",
     "text": [
      "Using TensorFlow backend.\n"
     ]
    }
   ],
   "source": [
    "from keras.models import Sequential\n",
    "from keras.layers import Dense, Conv2D, Flatten, MaxPooling2D\n",
    "# next weight/high size = (n+2p-f)/s +1 \n",
    "# n = current weight/high\n",
    "# p = pad\n",
    "# s = stride\n",
    "# f = filter dim"
   ]
  },
  {
   "cell_type": "markdown",
   "metadata": {},
   "source": [
    "## Sin pooling"
   ]
  },
  {
   "cell_type": "markdown",
   "metadata": {},
   "source": [
    "Instanciamos el modelo, 2 capas convolucionales de 64 y 32"
   ]
  },
  {
   "cell_type": "code",
   "execution_count": 11,
   "metadata": {},
   "outputs": [],
   "source": [
    "model = Sequential()\n",
    "#add model layers\n",
    "model.add(Conv2D(64, kernel_size=3, activation='relu', input_shape=(28,28,1)))#capa de 64 filtros de 3x3. dims 64*28*28*1\n",
    "model.add(Conv2D(32, kernel_size=3, activation='relu'))#capa de 32 filtros de 3x3. dims 32*28*28*1\n",
    "model.add(Flatten())# pasa los resultados de matriz a vector\n",
    "model.add(Dense(10, activation='softmax'))#dicho vector se conecta a una capa para generar la salida"
   ]
  },
  {
   "cell_type": "markdown",
   "metadata": {},
   "source": [
    "Entrenamiento, 3 epochs"
   ]
  },
  {
   "cell_type": "code",
   "execution_count": 12,
   "metadata": {},
   "outputs": [
    {
     "name": "stdout",
     "output_type": "stream",
     "text": [
      "Train on 60000 samples, validate on 9998 samples\n",
      "Epoch 1/3\n",
      "60000/60000 [==============================] - 94s 2ms/step - loss: 0.4955 - accuracy: 0.9309 - val_loss: 0.0682 - val_accuracy: 0.9782\n",
      "Epoch 2/3\n",
      "60000/60000 [==============================] - 94s 2ms/step - loss: 0.0543 - accuracy: 0.9832 - val_loss: 0.0645 - val_accuracy: 0.9785\n",
      "Epoch 3/3\n",
      "60000/60000 [==============================] - 93s 2ms/step - loss: 0.0355 - accuracy: 0.9882 - val_loss: 0.0708 - val_accuracy: 0.9813\n"
     ]
    },
    {
     "data": {
      "text/plain": [
       "<keras.callbacks.callbacks.History at 0x1e92fe0ae08>"
      ]
     },
     "execution_count": 12,
     "metadata": {},
     "output_type": "execute_result"
    }
   ],
   "source": [
    "model.compile(loss='categorical_crossentropy', optimizer='adam', metrics=['accuracy'])#learning_rate=0.001\n",
    "model.fit(x_train, y_train,validation_data=(x_test, y_test), batch_size=200, epochs=3)"
   ]
  },
  {
   "cell_type": "code",
   "execution_count": 13,
   "metadata": {},
   "outputs": [
    {
     "name": "stdout",
     "output_type": "stream",
     "text": [
      "9998/9998 [==============================] - 4s 354us/step\n",
      "Test Acc:  0.9812962412834167\n"
     ]
    }
   ],
   "source": [
    "test_loss, test_acc = model.evaluate(x_test, y_test)\n",
    "print('Test Acc: ', test_acc)"
   ]
  },
  {
   "cell_type": "markdown",
   "metadata": {},
   "source": [
    "### Con Maxpooling"
   ]
  },
  {
   "cell_type": "markdown",
   "metadata": {},
   "source": [
    "Añadimos una capa maxpool: 2*2, stride=1, padding = valid"
   ]
  },
  {
   "cell_type": "code",
   "execution_count": 8,
   "metadata": {},
   "outputs": [],
   "source": [
    "model = Sequential()\n",
    "\n",
    "#add model layers\n",
    "model.add(Conv2D(64, kernel_size=3, activation='relu', input_shape=(28,28,1)))#capa de 64 filtros de 3x3. dims 64*28*28*1\n",
    "model.add(MaxPooling2D(pool_size=(2, 2), strides=None, padding='valid', data_format=None))\n",
    "model.add(Conv2D(32, kernel_size=3, activation='relu'))#capa de 32 filtros de 3x3. dims 32*28*28*1\n",
    "model.add(Flatten())# pasa los resultados de matriz a vector\n",
    "model.add(Dense(10, activation='softmax'))#dicho vector se conecta a una capa para generar la salida"
   ]
  },
  {
   "cell_type": "markdown",
   "metadata": {},
   "source": [
    "Vamos a crear y entrenar el modelo, 3 epochs serán suficientes, el tiempo de entrenamiento se reduce un 50% aproximdamente."
   ]
  },
  {
   "cell_type": "code",
   "execution_count": 9,
   "metadata": {},
   "outputs": [
    {
     "name": "stdout",
     "output_type": "stream",
     "text": [
      "Train on 60000 samples, validate on 9998 samples\n",
      "Epoch 1/3\n",
      "60000/60000 [==============================] - 47s 790us/step - loss: 0.5260 - accuracy: 0.9200 - val_loss: 0.0753 - val_accuracy: 0.9765\n",
      "Epoch 2/3\n",
      "60000/60000 [==============================] - 47s 776us/step - loss: 0.0642 - accuracy: 0.9803 - val_loss: 0.0714 - val_accuracy: 0.9770\n",
      "Epoch 3/3\n",
      "60000/60000 [==============================] - 45s 754us/step - loss: 0.0456 - accuracy: 0.9859 - val_loss: 0.0596 - val_accuracy: 0.9835\n"
     ]
    },
    {
     "data": {
      "text/plain": [
       "<keras.callbacks.callbacks.History at 0x1e9302ebec8>"
      ]
     },
     "execution_count": 9,
     "metadata": {},
     "output_type": "execute_result"
    }
   ],
   "source": [
    "model.compile(loss='categorical_crossentropy', optimizer='adam', metrics=['accuracy'])#learning_rate=0.001\n",
    "model.fit(x_train, y_train,validation_data=(x_test, y_test), batch_size=200, epochs=3)#sin pool: 3min ish, acc:0.982096"
   ]
  },
  {
   "cell_type": "markdown",
   "metadata": {},
   "source": [
    "Evaluamos el modelo, los resultados mejoran."
   ]
  },
  {
   "cell_type": "code",
   "execution_count": 10,
   "metadata": {},
   "outputs": [
    {
     "name": "stdout",
     "output_type": "stream",
     "text": [
      "9998/9998 [==============================] - 2s 204us/step\n",
      "Test Acc:  0.9834967255592346\n"
     ]
    }
   ],
   "source": [
    "tes_loss, test_acc = model.evaluate(x_test, y_test)\n",
    "print('Test Acc: ', test_acc)"
   ]
  },
  {
   "cell_type": "markdown",
   "metadata": {},
   "source": [
    "### Max Pooling 2"
   ]
  },
  {
   "cell_type": "code",
   "execution_count": 30,
   "metadata": {},
   "outputs": [],
   "source": [
    "model = Sequential()\n",
    "\n",
    "#add model layers\n",
    "model.add(Conv2D(64, kernel_size=3, activation='relu', input_shape=(28,28,1)))#capa de 64 filtros de 3x3. dims 64*28*28*1\n",
    "model.add(MaxPooling2D(pool_size=(2, 2), strides=2, padding='valid', data_format=None))\n",
    "model.add(Conv2D(32, kernel_size=3, activation='relu'))#capa de 32 filtros de 3x3. dims 32*28*28*1\n",
    "model.add(Flatten())# pasa los resultados de matriz a vector\n",
    "model.add(Dense(10, activation='softmax'))#dicho vector se conecta a una capa para generar la salida"
   ]
  },
  {
   "cell_type": "markdown",
   "metadata": {},
   "source": [
    "Esta vez con stride = 2"
   ]
  },
  {
   "cell_type": "code",
   "execution_count": 15,
   "metadata": {},
   "outputs": [
    {
     "name": "stdout",
     "output_type": "stream",
     "text": [
      "Train on 60000 samples, validate on 9998 samples\n",
      "Epoch 1/3\n",
      "60000/60000 [==============================] - 44s 728us/step - loss: 0.6904 - accuracy: 0.9187 - val_loss: 0.0835 - val_accuracy: 0.9741\n",
      "Epoch 2/3\n",
      "60000/60000 [==============================] - 44s 733us/step - loss: 0.0726 - accuracy: 0.9779 - val_loss: 0.0731 - val_accuracy: 0.9765\n",
      "Epoch 3/3\n",
      "60000/60000 [==============================] - 44s 737us/step - loss: 0.0501 - accuracy: 0.9845 - val_loss: 0.0631 - val_accuracy: 0.9807\n"
     ]
    },
    {
     "data": {
      "text/plain": [
       "<keras.callbacks.callbacks.History at 0x1e93014cd48>"
      ]
     },
     "execution_count": 15,
     "metadata": {},
     "output_type": "execute_result"
    }
   ],
   "source": [
    "model.compile(loss='categorical_crossentropy', optimizer='adam', metrics=['accuracy'])#learning_rate=0.001\n",
    "model.fit(x_train, y_train,validation_data=(x_test, y_test), batch_size=200, epochs=3)"
   ]
  },
  {
   "cell_type": "markdown",
   "metadata": {},
   "source": [
    "Mejoran los timepos, baja un poco el rendimiento"
   ]
  },
  {
   "cell_type": "code",
   "execution_count": 16,
   "metadata": {},
   "outputs": [
    {
     "name": "stdout",
     "output_type": "stream",
     "text": [
      "9998/9998 [==============================] - 2s 201us/step\n",
      "Test Acc:  0.9806961417198181\n"
     ]
    }
   ],
   "source": [
    "test_loss, test_acc = model.evaluate(x_test, y_test)\n",
    "print('Test Acc: ', test_acc)"
   ]
  },
  {
   "cell_type": "markdown",
   "metadata": {},
   "source": [
    "### Common Structure"
   ]
  },
  {
   "cell_type": "markdown",
   "metadata": {},
   "source": [
    "Usando padding=same"
   ]
  },
  {
   "cell_type": "code",
   "execution_count": 24,
   "metadata": {},
   "outputs": [],
   "source": [
    "model = Sequential()\n",
    "\n",
    "#add model layers\n",
    "model.add(Conv2D(64, kernel_size=3, activation='relu', input_shape=(28,28,1)))#capa de 64 filtros de 3x3. dims 64*28*28*1\n",
    "model.add(MaxPooling2D(pool_size=(2, 2), strides=2, padding='same', data_format=None))\n",
    "model.add(Conv2D(32, kernel_size=3, activation='relu'))#capa de 32 filtros de 3x3. dims 32*28*28*1\n",
    "model.add(MaxPooling2D(pool_size=(2, 2), strides=2, padding='same', data_format=None))\n",
    "model.add(Flatten())# pasa los resultados de matriz a vector\n",
    "model.add(Dense(50, activation='relu'))\n",
    "model.add(Dense(10, activation='softmax'))#dicho vector se conecta a una capa para generar la salida"
   ]
  },
  {
   "cell_type": "code",
   "execution_count": 25,
   "metadata": {},
   "outputs": [
    {
     "name": "stdout",
     "output_type": "stream",
     "text": [
      "Train on 60000 samples, validate on 9998 samples\n",
      "Epoch 1/3\n",
      "60000/60000 [==============================] - 44s 735us/step - loss: 0.6783 - accuracy: 0.8887 - val_loss: 0.1031 - val_accuracy: 0.9687\n",
      "Epoch 2/3\n",
      "60000/60000 [==============================] - 45s 757us/step - loss: 0.0831 - accuracy: 0.9749 - val_loss: 0.0764 - val_accuracy: 0.9764\n",
      "Epoch 3/3\n",
      "60000/60000 [==============================] - 46s 763us/step - loss: 0.0557 - accuracy: 0.9833 - val_loss: 0.0589 - val_accuracy: 0.9833\n"
     ]
    },
    {
     "data": {
      "text/plain": [
       "<keras.callbacks.callbacks.History at 0x1e931205488>"
      ]
     },
     "execution_count": 25,
     "metadata": {},
     "output_type": "execute_result"
    }
   ],
   "source": [
    "model.compile(loss='categorical_crossentropy', optimizer='adam', metrics=['accuracy'])#learning_rate=0.001\n",
    "model.fit(x_train, y_train,validation_data=(x_test, y_test), batch_size=200, epochs=3)"
   ]
  },
  {
   "cell_type": "code",
   "execution_count": 26,
   "metadata": {},
   "outputs": [
    {
     "name": "stdout",
     "output_type": "stream",
     "text": [
      "9998/9998 [==============================] - 2s 216us/step\n",
      "Test Acc:  0.9832966327667236\n"
     ]
    }
   ],
   "source": [
    "test_loss, test_acc = model.evaluate(x_test, y_test)\n",
    "print('Test Acc: ', test_acc)"
   ]
  },
  {
   "cell_type": "markdown",
   "metadata": {},
   "source": [
    "### Common Structure 2"
   ]
  },
  {
   "cell_type": "code",
   "execution_count": 31,
   "metadata": {},
   "outputs": [
    {
     "name": "stdout",
     "output_type": "stream",
     "text": [
      "Train on 60000 samples, validate on 9998 samples\n",
      "Epoch 1/3\n",
      "60000/60000 [==============================] - 46s 764us/step - loss: 0.6860 - accuracy: 0.8882 - val_loss: 0.1396 - val_accuracy: 0.9603\n",
      "Epoch 2/3\n",
      "60000/60000 [==============================] - 47s 778us/step - loss: 0.1014 - accuracy: 0.9705 - val_loss: 0.1159 - val_accuracy: 0.9666\n",
      "Epoch 3/3\n",
      "60000/60000 [==============================] - 45s 749us/step - loss: 0.0664 - accuracy: 0.9805 - val_loss: 0.0714 - val_accuracy: 0.9778\n",
      "9998/9998 [==============================] - 2s 210us/step\n",
      "Test Acc:  0.9777955412864685\n"
     ]
    }
   ],
   "source": [
    "model = Sequential()\n",
    "#add model layers\n",
    "model.add(Conv2D(64, kernel_size=3, activation='relu', input_shape=(28,28,1)))\n",
    "model.add(MaxPooling2D(pool_size=(2, 2), strides=2, padding='valid', data_format=None))\n",
    "model.add(Conv2D(32, kernel_size=3, activation='relu'))\n",
    "model.add(MaxPooling2D(pool_size=(2, 2), strides=2, padding='valid', data_format=None))\n",
    "model.add(Flatten())\n",
    "model.add(Dense(50, activation='relu'))\n",
    "model.add(Dense(10, activation='softmax'))\n",
    "#Compile and train\n",
    "model.compile(loss='categorical_crossentropy', optimizer='adam', metrics=['accuracy'])#learning_rate=0.001\n",
    "model.fit(x_train, y_train,validation_data=(x_test, y_test), batch_size=200, epochs=3)\n",
    "#Testing\n",
    "test_loss, test_acc = model.evaluate(x_test, y_test)\n",
    "print('Test Acc: ', test_acc)"
   ]
  },
  {
   "cell_type": "code",
   "execution_count": null,
   "metadata": {},
   "outputs": [],
   "source": []
  }
 ],
 "metadata": {
  "kernelspec": {
   "display_name": "Python 3",
   "language": "python",
   "name": "python3"
  },
  "language_info": {
   "codemirror_mode": {
    "name": "ipython",
    "version": 3
   },
   "file_extension": ".py",
   "mimetype": "text/x-python",
   "name": "python",
   "nbconvert_exporter": "python",
   "pygments_lexer": "ipython3",
   "version": "3.7.4"
  }
 },
 "nbformat": 4,
 "nbformat_minor": 2
}
