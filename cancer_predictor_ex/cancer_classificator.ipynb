{
 "cells": [
  {
   "cell_type": "markdown",
   "metadata": {},
   "source": [
    "# Clasificación de cancer con una red neuronal"
   ]
  },
  {
   "cell_type": "markdown",
   "metadata": {},
   "source": [
    "En este notebook se va a desarrollar la implementación de una red neuronal de 3 capas, con 9 entredas, 15 neuronas en la capa oculta y una neurona con funcion de salida sigmoide en la última capa. El objetivo es determinar, partiendo de un csv, la naturaleza de los tumores en funcion de sus características.\n",
    "Para el mejor entendimiento del ejercicio, el notebook se separa en dos secciones:\n",
    "- Preparación de los datos.\n",
    "- Instanciación de la red neuronal (desarrollada en NeuralNetwork.py) y uso con los parámetros más óptimos encontrados."
   ]
  },
  {
   "cell_type": "markdown",
   "metadata": {},
   "source": [
    "## Preparación de los datos"
   ]
  },
  {
   "cell_type": "markdown",
   "metadata": {},
   "source": [
    "### Imports"
   ]
  },
  {
   "cell_type": "code",
   "execution_count": 6,
   "metadata": {},
   "outputs": [],
   "source": [
    "import numpy as np\n",
    "import matplotlib.pyplot as plt\n",
    "import random\n",
    "from sklearn.metrics import mean_squared_error \n",
    "import pandas as pd\n",
    "from sklearn.preprocessing import MinMaxScaler\n",
    "from sklearn.metrics import confusion_matrix\n",
    "import itertools\n",
    "import seaborn as sns\n",
    "from NeuralNetwork import *"
   ]
  },
  {
   "cell_type": "markdown",
   "metadata": {},
   "source": [
    "### Load and format data"
   ]
  },
  {
   "cell_type": "markdown",
   "metadata": {},
   "source": [
    "El dataset viene con la salida defindia como 2 ó 4, la cambiamos a 0 ó 1 para poder trabajar. También se eliminan aquellas filas con algún valor nulo. <br> Las entradas de la red neuronal corresponderán a: \n",
    "- Clump Thickness\n",
    "- Uniformity of Cell Size\n",
    "- Uniformity of Cell Shape\n",
    "- Marginal Adhesion\n",
    "- Single Epithelial Cell Size\n",
    "- Bare Nuclei\n",
    "- Bland Chromatin\n",
    "- Normal Nucleoli \n",
    "- Mitoses"
   ]
  },
  {
   "cell_type": "code",
   "execution_count": 7,
   "metadata": {},
   "outputs": [
    {
     "data": {
      "text/html": [
       "<div>\n",
       "<style scoped>\n",
       "    .dataframe tbody tr th:only-of-type {\n",
       "        vertical-align: middle;\n",
       "    }\n",
       "\n",
       "    .dataframe tbody tr th {\n",
       "        vertical-align: top;\n",
       "    }\n",
       "\n",
       "    .dataframe thead th {\n",
       "        text-align: right;\n",
       "    }\n",
       "</style>\n",
       "<table border=\"1\" class=\"dataframe\">\n",
       "  <thead>\n",
       "    <tr style=\"text-align: right;\">\n",
       "      <th></th>\n",
       "      <th>0</th>\n",
       "      <th>1</th>\n",
       "      <th>2</th>\n",
       "      <th>3</th>\n",
       "      <th>4</th>\n",
       "      <th>5</th>\n",
       "      <th>6</th>\n",
       "      <th>7</th>\n",
       "      <th>8</th>\n",
       "      <th>9</th>\n",
       "      <th>10</th>\n",
       "    </tr>\n",
       "  </thead>\n",
       "  <tbody>\n",
       "    <tr>\n",
       "      <th>0</th>\n",
       "      <td>1000025.0</td>\n",
       "      <td>5.0</td>\n",
       "      <td>1.0</td>\n",
       "      <td>1.0</td>\n",
       "      <td>1.0</td>\n",
       "      <td>2.0</td>\n",
       "      <td>1.0</td>\n",
       "      <td>3.0</td>\n",
       "      <td>1.0</td>\n",
       "      <td>1.0</td>\n",
       "      <td>0.0</td>\n",
       "    </tr>\n",
       "    <tr>\n",
       "      <th>1</th>\n",
       "      <td>1002945.0</td>\n",
       "      <td>5.0</td>\n",
       "      <td>4.0</td>\n",
       "      <td>4.0</td>\n",
       "      <td>5.0</td>\n",
       "      <td>7.0</td>\n",
       "      <td>10.0</td>\n",
       "      <td>3.0</td>\n",
       "      <td>2.0</td>\n",
       "      <td>1.0</td>\n",
       "      <td>0.0</td>\n",
       "    </tr>\n",
       "    <tr>\n",
       "      <th>2</th>\n",
       "      <td>1015425.0</td>\n",
       "      <td>3.0</td>\n",
       "      <td>1.0</td>\n",
       "      <td>1.0</td>\n",
       "      <td>1.0</td>\n",
       "      <td>2.0</td>\n",
       "      <td>2.0</td>\n",
       "      <td>3.0</td>\n",
       "      <td>1.0</td>\n",
       "      <td>1.0</td>\n",
       "      <td>0.0</td>\n",
       "    </tr>\n",
       "    <tr>\n",
       "      <th>3</th>\n",
       "      <td>1016277.0</td>\n",
       "      <td>6.0</td>\n",
       "      <td>8.0</td>\n",
       "      <td>8.0</td>\n",
       "      <td>1.0</td>\n",
       "      <td>3.0</td>\n",
       "      <td>4.0</td>\n",
       "      <td>3.0</td>\n",
       "      <td>7.0</td>\n",
       "      <td>1.0</td>\n",
       "      <td>0.0</td>\n",
       "    </tr>\n",
       "    <tr>\n",
       "      <th>4</th>\n",
       "      <td>1017023.0</td>\n",
       "      <td>4.0</td>\n",
       "      <td>1.0</td>\n",
       "      <td>1.0</td>\n",
       "      <td>3.0</td>\n",
       "      <td>2.0</td>\n",
       "      <td>1.0</td>\n",
       "      <td>3.0</td>\n",
       "      <td>1.0</td>\n",
       "      <td>1.0</td>\n",
       "      <td>0.0</td>\n",
       "    </tr>\n",
       "  </tbody>\n",
       "</table>\n",
       "</div>"
      ],
      "text/plain": [
       "          0    1    2    3    4    5     6    7    8    9    10\n",
       "0  1000025.0  5.0  1.0  1.0  1.0  2.0   1.0  3.0  1.0  1.0  0.0\n",
       "1  1002945.0  5.0  4.0  4.0  5.0  7.0  10.0  3.0  2.0  1.0  0.0\n",
       "2  1015425.0  3.0  1.0  1.0  1.0  2.0   2.0  3.0  1.0  1.0  0.0\n",
       "3  1016277.0  6.0  8.0  8.0  1.0  3.0   4.0  3.0  7.0  1.0  0.0\n",
       "4  1017023.0  4.0  1.0  1.0  3.0  2.0   1.0  3.0  1.0  1.0  0.0"
      ]
     },
     "execution_count": 7,
     "metadata": {},
     "output_type": "execute_result"
    }
   ],
   "source": [
    "#load and format data\n",
    "df = pd.read_csv('wisconsin-cancer-dataset.csv',header=None)\n",
    "df.head(5)\n",
    "df.iloc[:,10].replace(2, 0,inplace=True)\n",
    "df.iloc[:,10].replace(4, 1,inplace=True)\n",
    "df = df[~df[6].isin(['?'])]\n",
    "df = df.astype(float)\n",
    "df.head(5)"
   ]
  },
  {
   "cell_type": "markdown",
   "metadata": {},
   "source": [
    "### Feature Normalization"
   ]
  },
  {
   "cell_type": "markdown",
   "metadata": {},
   "source": [
    "Se normaliza las características para acotarlas todas en un intervalo entre 0 y 1, con el objetivo de que ninguna de ellas condicione en exceso el ejercicio o pase desapercibida. Se muestran los valores de las características. Para el desarrollo del ejercicio solo nos interesan las características del 1 al 9."
   ]
  },
  {
   "cell_type": "code",
   "execution_count": 8,
   "metadata": {},
   "outputs": [
    {
     "data": {
      "text/plain": [
       "<matplotlib.axes._subplots.AxesSubplot at 0x1b0bef44648>"
      ]
     },
     "execution_count": 8,
     "metadata": {},
     "output_type": "execute_result"
    },
    {
     "data": {
      "image/png": "[encoded data removed]",
      "text/plain": [
       "<Figure size 432x288 with 1 Axes>"
      ]
     },
     "metadata": {
      "needs_background": "light"
     },
     "output_type": "display_data"
    },
    {
     "data": {
      "image/png": "[encoded data removed]",
      "text/plain": [
       "<Figure size 432x288 with 1 Axes>"
      ]
     },
     "metadata": {
      "needs_background": "light"
     },
     "output_type": "display_data"
    }
   ],
   "source": [
    "names = df.columns[0:10]\n",
    "scaler = MinMaxScaler() \n",
    "scaled_df = scaler.fit_transform(df.iloc[:,0:10]) \n",
    "scaled_df = pd.DataFrame(scaled_df, columns=names)\n",
    "scaled_df[10]= df[10]\n",
    "scaled_df.iloc[0:13,1:11].plot.bar();\n",
    "scaled_df.iloc[0:13,1:11].plot.hist(alpha=0.5)"
   ]
  },
  {
   "cell_type": "markdown",
   "metadata": {},
   "source": [
    "### Creation of train and validation sets"
   ]
  },
  {
   "cell_type": "markdown",
   "metadata": {},
   "source": [
    "Para la posterior evalucaión de la clasificación, creamos un set de entrenamiento y otro menor de validación."
   ]
  },
  {
   "cell_type": "code",
   "execution_count": 9,
   "metadata": {},
   "outputs": [],
   "source": [
    "x=scaled_df.iloc[0:500,1:10].values.transpose()\n",
    "y=df.iloc[0:500,10:].values.transpose()\n",
    "xval=scaled_df.iloc[501:683,1:10].values.transpose()\n",
    "yval=df.iloc[501:683,10:].values.transpose()"
   ]
  },
  {
   "cell_type": "markdown",
   "metadata": {},
   "source": [
    "## Netwotk Development"
   ]
  },
  {
   "cell_type": "markdown",
   "metadata": {},
   "source": [
    "### Declaring nn"
   ]
  },
  {
   "cell_type": "markdown",
   "metadata": {},
   "source": [
    "Declaramos la red neuronal con los valores de entrenamiento y un learning rate de 0.02. La red funciona con una arquitectura [9 - 15 - 1], la cual utiliza funciones de salida lineales en la capa intermedia y una sigmoidal en la de salida. Utiliza como función de error, en lugar del clásico MSE, el Cross-Entropy. \n",
    "El algortimo de aprendizaje utilizado es el descenso por gradiente, el cual implementa el algoritmo de backpropagation."
   ]
  },
  {
   "cell_type": "code",
   "execution_count": 10,
   "metadata": {},
   "outputs": [
    {
     "name": "stdout",
     "output_type": "stream",
     "text": [
      "Cost after iteration 0: 0.257234\n",
      "Cost after iteration 100: 0.214475\n",
      "Cost after iteration 200: 0.182112\n",
      "Cost after iteration 300: 0.157673\n",
      "Cost after iteration 400: 0.138460\n",
      "Cost after iteration 500: 0.122704\n",
      "Cost after iteration 600: 0.109399\n",
      "Cost after iteration 700: 0.097997\n",
      "Cost after iteration 800: 0.088188\n",
      "Cost after iteration 900: 0.079769\n",
      "Cost after iteration 1000: 0.072575\n",
      "Cost after iteration 1100: 0.066458\n",
      "Cost after iteration 1200: 0.061276\n",
      "Cost after iteration 1300: 0.056900\n",
      "Cost after iteration 1400: 0.053212\n",
      "Cost after iteration 1500: 0.050106\n",
      "Cost after iteration 1600: 0.047491\n",
      "Cost after iteration 1700: 0.045289\n",
      "Cost after iteration 1800: 0.043431\n",
      "Cost after iteration 1900: 0.041862\n",
      "Cost after iteration 2000: 0.040532\n",
      "Cost after iteration 2100: 0.039400\n",
      "Cost after iteration 2200: 0.038433\n",
      "Cost after iteration 2300: 0.037603\n",
      "Cost after iteration 2400: 0.036886\n",
      "Cost after iteration 2500: 0.036263\n",
      "Cost after iteration 2600: 0.035718\n",
      "Cost after iteration 2700: 0.035238\n",
      "Cost after iteration 2800: 0.034811\n",
      "Cost after iteration 2900: 0.034431\n",
      "Cost after iteration 3000: 0.034088\n",
      "Cost after iteration 3100: 0.033777\n",
      "Cost after iteration 3200: 0.033494\n",
      "Cost after iteration 3300: 0.033234\n",
      "Cost after iteration 3400: 0.032993\n",
      "Cost after iteration 3500: 0.032771\n",
      "Cost after iteration 3600: 0.032563\n",
      "Cost after iteration 3700: 0.032368\n",
      "Cost after iteration 3800: 0.032186\n",
      "Cost after iteration 3900: 0.032013\n",
      "Cost after iteration 4000: 0.031850\n",
      "Cost after iteration 4100: 0.031696\n",
      "Cost after iteration 4200: 0.031549\n",
      "Cost after iteration 4300: 0.031409\n",
      "Cost after iteration 4400: 0.031276\n",
      "Cost after iteration 4500: 0.031148\n",
      "Cost after iteration 4600: 0.031026\n",
      "Cost after iteration 4700: 0.030910\n",
      "Cost after iteration 4800: 0.030798\n",
      "Cost after iteration 4900: 0.030692\n",
      "Cost after iteration 5000: 0.030589\n",
      "Cost after iteration 5100: 0.030491\n",
      "Cost after iteration 5200: 0.030396\n",
      "Cost after iteration 5300: 0.030306\n",
      "Cost after iteration 5400: 0.030219\n",
      "Cost after iteration 5500: 0.030135\n",
      "Cost after iteration 5600: 0.030055\n",
      "Cost after iteration 5700: 0.029978\n",
      "Cost after iteration 5800: 0.029903\n",
      "Cost after iteration 5900: 0.029832\n",
      "Cost after iteration 6000: 0.029763\n",
      "Cost after iteration 6100: 0.029697\n",
      "Cost after iteration 6200: 0.029634\n",
      "Cost after iteration 6300: 0.029573\n",
      "Cost after iteration 6400: 0.029514\n",
      "Cost after iteration 6500: 0.029457\n",
      "Cost after iteration 6600: 0.029403\n",
      "Cost after iteration 6700: 0.029350\n",
      "Cost after iteration 6800: 0.029299\n",
      "Cost after iteration 6900: 0.029251\n",
      "Cost after iteration 7000: 0.029204\n",
      "Cost after iteration 7100: 0.029158\n",
      "Cost after iteration 7200: 0.029115\n",
      "Cost after iteration 7300: 0.029073\n",
      "Cost after iteration 7400: 0.029032\n",
      "Cost after iteration 7500: 0.028993\n",
      "Cost after iteration 7600: 0.028955\n",
      "Cost after iteration 7700: 0.028918\n",
      "Cost after iteration 7800: 0.028883\n",
      "Cost after iteration 7900: 0.028849\n",
      "Cost after iteration 8000: 0.028816\n",
      "Cost after iteration 8100: 0.028784\n",
      "Cost after iteration 8200: 0.028753\n",
      "Cost after iteration 8300: 0.028723\n",
      "Cost after iteration 8400: 0.028694\n",
      "Cost after iteration 8500: 0.028666\n",
      "Cost after iteration 8600: 0.028639\n",
      "Cost after iteration 8700: 0.028612\n",
      "Cost after iteration 8800: 0.028587\n",
      "Cost after iteration 8900: 0.028562\n",
      "Cost after iteration 9000: 0.028537\n",
      "Cost after iteration 9100: 0.028514\n",
      "Cost after iteration 9200: 0.028491\n",
      "Cost after iteration 9300: 0.028469\n",
      "Cost after iteration 9400: 0.028447\n",
      "Cost after iteration 9500: 0.028425\n",
      "Cost after iteration 9600: 0.028405\n",
      "Cost after iteration 9700: 0.028384\n",
      "Cost after iteration 9800: 0.028364\n",
      "Cost after iteration 9900: 0.028345\n",
      "Cost after iteration 10000: 0.028326\n",
      "Cost after iteration 10100: 0.028307\n",
      "Cost after iteration 10200: 0.028289\n",
      "Cost after iteration 10300: 0.028270\n",
      "Cost after iteration 10400: 0.028253\n",
      "Cost after iteration 10500: 0.028235\n",
      "Cost after iteration 10600: 0.028218\n",
      "Cost after iteration 10700: 0.028200\n",
      "Cost after iteration 10800: 0.028183\n",
      "Cost after iteration 10900: 0.028166\n",
      "Cost after iteration 11000: 0.028150\n",
      "Cost after iteration 11100: 0.028133\n",
      "Cost after iteration 11200: 0.028116\n",
      "Cost after iteration 11300: 0.028100\n",
      "Cost after iteration 11400: 0.028083\n",
      "Cost after iteration 11500: 0.028066\n",
      "Cost after iteration 11600: 0.028050\n",
      "Cost after iteration 11700: 0.028033\n",
      "Cost after iteration 11800: 0.028016\n",
      "Cost after iteration 11900: 0.027999\n",
      "Cost after iteration 12000: 0.027982\n",
      "Cost after iteration 12100: 0.027964\n",
      "Cost after iteration 12200: 0.027946\n",
      "Cost after iteration 12300: 0.027928\n",
      "Cost after iteration 12400: 0.027910\n",
      "Cost after iteration 12500: 0.027892\n",
      "Cost after iteration 12600: 0.027872\n",
      "Cost after iteration 12700: 0.027853\n",
      "Cost after iteration 12800: 0.027833\n",
      "Cost after iteration 12900: 0.027813\n",
      "Cost after iteration 13000: 0.027791\n",
      "Cost after iteration 13100: 0.027770\n",
      "Cost after iteration 13200: 0.027747\n",
      "Cost after iteration 13300: 0.027724\n",
      "Cost after iteration 13400: 0.027700\n",
      "Cost after iteration 13500: 0.027675\n",
      "Cost after iteration 13600: 0.027650\n",
      "Cost after iteration 13700: 0.027623\n",
      "Cost after iteration 13800: 0.027595\n",
      "Cost after iteration 13900: 0.027566\n",
      "Cost after iteration 14000: 0.027536\n",
      "Cost after iteration 14100: 0.027505\n",
      "Cost after iteration 14200: 0.027473\n",
      "Cost after iteration 14300: 0.027439\n",
      "Cost after iteration 14400: 0.027403\n",
      "Cost after iteration 14500: 0.027366\n",
      "Cost after iteration 14600: 0.027328\n",
      "Cost after iteration 14700: 0.027288\n",
      "Cost after iteration 14800: 0.027247\n",
      "Cost after iteration 14900: 0.027204\n",
      "Cost after iteration 15000: 0.027160\n",
      "Cost after iteration 15100: 0.027115\n",
      "Cost after iteration 15200: 0.027068\n",
      "Cost after iteration 15300: 0.027021\n",
      "Cost after iteration 15400: 0.026973\n",
      "Cost after iteration 15500: 0.026925\n",
      "Cost after iteration 15600: 0.026878\n",
      "Cost after iteration 15700: 0.026832\n",
      "Cost after iteration 15800: 0.026789\n",
      "Cost after iteration 15900: 0.026749\n",
      "Cost after iteration 16000: 0.026715\n",
      "Cost after iteration 16100: 0.026688\n",
      "Cost after iteration 16200: 0.026669\n",
      "Cost after iteration 16300: 0.026662\n",
      "Cost after iteration 16400: 0.026668\n",
      "Cost after iteration 16500: 0.026689\n",
      "Cost after iteration 16600: 0.026729\n",
      "Cost after iteration 16700: 0.026787\n",
      "Cost after iteration 16800: 0.026864\n",
      "Cost after iteration 16900: 0.026959\n",
      "Cost after iteration 17000: 0.027070\n",
      "Cost after iteration 17100: 0.027192\n",
      "Cost after iteration 17200: 0.027321\n",
      "Cost after iteration 17300: 0.027453\n",
      "Cost after iteration 17400: 0.027586\n",
      "Cost after iteration 17500: 0.027722\n",
      "Cost after iteration 17600: 0.027868\n",
      "Cost after iteration 17700: 0.028029\n",
      "Cost after iteration 17800: 0.028209\n",
      "Cost after iteration 17900: 0.028403\n",
      "Cost after iteration 18000: 0.028599\n",
      "Cost after iteration 18100: 0.028783\n",
      "Cost after iteration 18200: 0.028945\n",
      "Cost after iteration 18300: 0.029080\n",
      "Cost after iteration 18400: 0.029188\n",
      "Cost after iteration 18500: 0.029271\n",
      "Cost after iteration 18600: 0.029334\n",
      "Cost after iteration 18700: 0.029382\n",
      "Cost after iteration 18800: 0.029419\n",
      "Cost after iteration 18900: 0.029447\n",
      "Cost after iteration 19000: 0.029469\n",
      "Cost after iteration 19100: 0.029487\n",
      "Cost after iteration 19200: 0.029502\n",
      "Cost after iteration 19300: 0.029516\n",
      "Cost after iteration 19400: 0.029528\n",
      "Cost after iteration 19500: 0.029539\n",
      "Cost after iteration 19600: 0.029549\n",
      "Cost after iteration 19700: 0.029559\n",
      "Cost after iteration 19800: 0.029569\n",
      "Cost after iteration 19900: 0.029578\n",
      "Cost after iteration 20000: 0.029588\n",
      "Cost after iteration 20100: 0.029597\n",
      "Cost after iteration 20200: 0.029605\n",
      "Cost after iteration 20300: 0.029614\n",
      "Cost after iteration 20400: 0.029622\n",
      "Cost after iteration 20500: 0.029630\n",
      "Cost after iteration 20600: 0.029638\n",
      "Cost after iteration 20700: 0.029645\n",
      "Cost after iteration 20800: 0.029652\n",
      "Cost after iteration 20900: 0.029659\n",
      "Cost after iteration 21000: 0.029665\n",
      "Cost after iteration 21100: 0.029670\n",
      "Cost after iteration 21200: 0.029675\n",
      "Cost after iteration 21300: 0.029680\n",
      "Cost after iteration 21400: 0.029684\n",
      "Cost after iteration 21500: 0.029687\n",
      "Cost after iteration 21600: 0.029690\n",
      "Cost after iteration 21700: 0.029692\n",
      "Cost after iteration 21800: 0.029694\n",
      "Cost after iteration 21900: 0.029694\n",
      "Cost after iteration 22000: 0.029695\n",
      "Cost after iteration 22100: 0.029694\n",
      "Cost after iteration 22200: 0.029693\n",
      "Cost after iteration 22300: 0.029691\n",
      "Cost after iteration 22400: 0.029689\n",
      "Cost after iteration 22500: 0.029685\n",
      "Cost after iteration 22600: 0.029682\n",
      "Cost after iteration 22700: 0.029677\n",
      "Cost after iteration 22800: 0.029672\n",
      "Cost after iteration 22900: 0.029666\n",
      "Cost after iteration 23000: 0.029660\n"
     ]
    },
    {
     "name": "stdout",
     "output_type": "stream",
     "text": [
      "Cost after iteration 23100: 0.029653\n",
      "Cost after iteration 23200: 0.029645\n",
      "Cost after iteration 23300: 0.029637\n",
      "Cost after iteration 23400: 0.029628\n",
      "Cost after iteration 23500: 0.029618\n",
      "Cost after iteration 23600: 0.029608\n",
      "Cost after iteration 23700: 0.029598\n",
      "Cost after iteration 23800: 0.029586\n",
      "Cost after iteration 23900: 0.029575\n",
      "Cost after iteration 24000: 0.029563\n",
      "Cost after iteration 24100: 0.029550\n",
      "Cost after iteration 24200: 0.029537\n",
      "Cost after iteration 24300: 0.029523\n",
      "Cost after iteration 24400: 0.029510\n",
      "Cost after iteration 24500: 0.029495\n",
      "Cost after iteration 24600: 0.029481\n",
      "Cost after iteration 24700: 0.029465\n",
      "Cost after iteration 24800: 0.029450\n",
      "Cost after iteration 24900: 0.029434\n",
      "Cost after iteration 25000: 0.029418\n",
      "Cost after iteration 25100: 0.029402\n",
      "Cost after iteration 25200: 0.029386\n",
      "Cost after iteration 25300: 0.029369\n",
      "Cost after iteration 25400: 0.029352\n",
      "Cost after iteration 25500: 0.029335\n",
      "Cost after iteration 25600: 0.029317\n",
      "Cost after iteration 25700: 0.029300\n",
      "Cost after iteration 25800: 0.029282\n",
      "Cost after iteration 25900: 0.029265\n",
      "Cost after iteration 26000: 0.029247\n",
      "Cost after iteration 26100: 0.029229\n",
      "Cost after iteration 26200: 0.029211\n",
      "Cost after iteration 26300: 0.029193\n",
      "Cost after iteration 26400: 0.029175\n",
      "Cost after iteration 26500: 0.029157\n",
      "Cost after iteration 26600: 0.029139\n",
      "Cost after iteration 26700: 0.029120\n",
      "Cost after iteration 26800: 0.029102\n",
      "Cost after iteration 26900: 0.029084\n",
      "Cost after iteration 27000: 0.029066\n",
      "Cost after iteration 27100: 0.029049\n",
      "Cost after iteration 27200: 0.029031\n",
      "Cost after iteration 27300: 0.029013\n",
      "Cost after iteration 27400: 0.028995\n",
      "Cost after iteration 27500: 0.028978\n",
      "Cost after iteration 27600: 0.028961\n",
      "Cost after iteration 27700: 0.028943\n",
      "Cost after iteration 27800: 0.028926\n",
      "Cost after iteration 27900: 0.028909\n",
      "Cost after iteration 28000: 0.028892\n",
      "Cost after iteration 28100: 0.028876\n",
      "Cost after iteration 28200: 0.028859\n",
      "Cost after iteration 28300: 0.028843\n",
      "Cost after iteration 28400: 0.028827\n",
      "Cost after iteration 28500: 0.028811\n",
      "Cost after iteration 28600: 0.028795\n",
      "Cost after iteration 28700: 0.028779\n",
      "Cost after iteration 28800: 0.028764\n",
      "Cost after iteration 28900: 0.028749\n",
      "Cost after iteration 29000: 0.028734\n",
      "Cost after iteration 29100: 0.028719\n",
      "Cost after iteration 29200: 0.028704\n",
      "Cost after iteration 29300: 0.028690\n",
      "Cost after iteration 29400: 0.028675\n",
      "Cost after iteration 29500: 0.028661\n",
      "Cost after iteration 29600: 0.028648\n",
      "Cost after iteration 29700: 0.028634\n",
      "Cost after iteration 29800: 0.028620\n",
      "Cost after iteration 29900: 0.028607\n",
      "Cost after iteration 30000: 0.028594\n",
      "Cost after iteration 30100: 0.028581\n",
      "Cost after iteration 30200: 0.028569\n",
      "Cost after iteration 30300: 0.028556\n",
      "Cost after iteration 30400: 0.028544\n",
      "Cost after iteration 30500: 0.028532\n",
      "Cost after iteration 30600: 0.028520\n",
      "Cost after iteration 30700: 0.028508\n",
      "Cost after iteration 30800: 0.028497\n",
      "Cost after iteration 30900: 0.028486\n",
      "Cost after iteration 31000: 0.028475\n",
      "Cost after iteration 31100: 0.028464\n",
      "Cost after iteration 31200: 0.028453\n",
      "Cost after iteration 31300: 0.028442\n",
      "Cost after iteration 31400: 0.028432\n",
      "Cost after iteration 31500: 0.028422\n",
      "Cost after iteration 31600: 0.028412\n",
      "Cost after iteration 31700: 0.028402\n",
      "Cost after iteration 31800: 0.028392\n",
      "Cost after iteration 31900: 0.028383\n",
      "Cost after iteration 32000: 0.028374\n",
      "Cost after iteration 32100: 0.028364\n",
      "Cost after iteration 32200: 0.028355\n",
      "Cost after iteration 32300: 0.028346\n",
      "Cost after iteration 32400: 0.028338\n",
      "Cost after iteration 32500: 0.028329\n",
      "Cost after iteration 32600: 0.028321\n",
      "Cost after iteration 32700: 0.028313\n",
      "Cost after iteration 32800: 0.028305\n",
      "Cost after iteration 32900: 0.028297\n",
      "Cost after iteration 33000: 0.028289\n",
      "Cost after iteration 33100: 0.028281\n",
      "Cost after iteration 33200: 0.028274\n",
      "Cost after iteration 33300: 0.028266\n",
      "Cost after iteration 33400: 0.028259\n",
      "Cost after iteration 33500: 0.028252\n",
      "Cost after iteration 33600: 0.028245\n",
      "Cost after iteration 33700: 0.028238\n",
      "Cost after iteration 33800: 0.028231\n",
      "Cost after iteration 33900: 0.028225\n",
      "Cost after iteration 34000: 0.028218\n",
      "Cost after iteration 34100: 0.028212\n",
      "Cost after iteration 34200: 0.028205\n",
      "Cost after iteration 34300: 0.028199\n",
      "Cost after iteration 34400: 0.028193\n",
      "Cost after iteration 34500: 0.028187\n",
      "Cost after iteration 34600: 0.028181\n",
      "Cost after iteration 34700: 0.028176\n",
      "Cost after iteration 34800: 0.028170\n",
      "Cost after iteration 34900: 0.028165\n",
      "Cost after iteration 35000: 0.028159\n",
      "Cost after iteration 35100: 0.028154\n",
      "Cost after iteration 35200: 0.028149\n",
      "Cost after iteration 35300: 0.028144\n",
      "Cost after iteration 35400: 0.028139\n",
      "Cost after iteration 35500: 0.028134\n",
      "Cost after iteration 35600: 0.028129\n",
      "Cost after iteration 35700: 0.028124\n",
      "Cost after iteration 35800: 0.028120\n",
      "Cost after iteration 35900: 0.028115\n",
      "Cost after iteration 36000: 0.028110\n",
      "Cost after iteration 36100: 0.028106\n",
      "Cost after iteration 36200: 0.028102\n",
      "Cost after iteration 36300: 0.028098\n",
      "Cost after iteration 36400: 0.028093\n",
      "Cost after iteration 36500: 0.028089\n",
      "Cost after iteration 36600: 0.028085\n",
      "Cost after iteration 36700: 0.028081\n",
      "Cost after iteration 36800: 0.028078\n",
      "Cost after iteration 36900: 0.028074\n",
      "Cost after iteration 37000: 0.028070\n",
      "Cost after iteration 37100: 0.028067\n",
      "Cost after iteration 37200: 0.028063\n",
      "Cost after iteration 37300: 0.028059\n",
      "Cost after iteration 37400: 0.028056\n",
      "Cost after iteration 37500: 0.028053\n",
      "Cost after iteration 37600: 0.028049\n",
      "Cost after iteration 37700: 0.028046\n",
      "Cost after iteration 37800: 0.028043\n",
      "Cost after iteration 37900: 0.028040\n",
      "Cost after iteration 38000: 0.028037\n",
      "Cost after iteration 38100: 0.028034\n",
      "Cost after iteration 38200: 0.028031\n",
      "Cost after iteration 38300: 0.028028\n",
      "Cost after iteration 38400: 0.028025\n",
      "Cost after iteration 38500: 0.028023\n",
      "Cost after iteration 38600: 0.028020\n",
      "Cost after iteration 38700: 0.028017\n",
      "Cost after iteration 38800: 0.028015\n",
      "Cost after iteration 38900: 0.028012\n",
      "Cost after iteration 39000: 0.028010\n",
      "Cost after iteration 39100: 0.028007\n",
      "Cost after iteration 39200: 0.028005\n",
      "Cost after iteration 39300: 0.028002\n",
      "Cost after iteration 39400: 0.028000\n",
      "Cost after iteration 39500: 0.027998\n",
      "Cost after iteration 39600: 0.027996\n",
      "Cost after iteration 39700: 0.027993\n",
      "Cost after iteration 39800: 0.027991\n",
      "Cost after iteration 39900: 0.027989\n",
      "Cost after iteration 40000: 0.027987\n",
      "Cost after iteration 40100: 0.027985\n",
      "Cost after iteration 40200: 0.027983\n",
      "Cost after iteration 40300: 0.027981\n",
      "Cost after iteration 40400: 0.027979\n",
      "Cost after iteration 40500: 0.027978\n",
      "Cost after iteration 40600: 0.027976\n",
      "Cost after iteration 40700: 0.027974\n",
      "Cost after iteration 40800: 0.027972\n",
      "Cost after iteration 40900: 0.027971\n",
      "Cost after iteration 41000: 0.027969\n",
      "Cost after iteration 41100: 0.027967\n",
      "Cost after iteration 41200: 0.027966\n",
      "Cost after iteration 41300: 0.027964\n",
      "Cost after iteration 41400: 0.027963\n",
      "Cost after iteration 41500: 0.027961\n",
      "Cost after iteration 41600: 0.027960\n",
      "Cost after iteration 41700: 0.027958\n",
      "Cost after iteration 41800: 0.027957\n",
      "Cost after iteration 41900: 0.027956\n",
      "Cost after iteration 42000: 0.027954\n",
      "Cost after iteration 42100: 0.027953\n",
      "Cost after iteration 42200: 0.027952\n",
      "Cost after iteration 42300: 0.027950\n",
      "Cost after iteration 42400: 0.027949\n",
      "Cost after iteration 42500: 0.027948\n",
      "Cost after iteration 42600: 0.027947\n",
      "Cost after iteration 42700: 0.027946\n",
      "Cost after iteration 42800: 0.027944\n",
      "Cost after iteration 42900: 0.027943\n",
      "Cost after iteration 43000: 0.027942\n",
      "Cost after iteration 43100: 0.027941\n",
      "Cost after iteration 43200: 0.027940\n",
      "Cost after iteration 43300: 0.027939\n",
      "Cost after iteration 43400: 0.027938\n",
      "Cost after iteration 43500: 0.027937\n",
      "Cost after iteration 43600: 0.027936\n",
      "Cost after iteration 43700: 0.027935\n",
      "Cost after iteration 43800: 0.027934\n",
      "Cost after iteration 43900: 0.027933\n",
      "Cost after iteration 44000: 0.027933\n",
      "Cost after iteration 44100: 0.027932\n",
      "Cost after iteration 44200: 0.027931\n",
      "Cost after iteration 44300: 0.027930\n",
      "Cost after iteration 44400: 0.027929\n",
      "Cost after iteration 44500: 0.027928\n",
      "Cost after iteration 44600: 0.027928\n",
      "Cost after iteration 44700: 0.027927\n",
      "Cost after iteration 44800: 0.027926\n",
      "Cost after iteration 44900: 0.027925\n",
      "Cost after iteration 45000: 0.027925\n",
      "Cost after iteration 45100: 0.027924\n",
      "Cost after iteration 45200: 0.027923\n",
      "Cost after iteration 45300: 0.027923\n",
      "Cost after iteration 45400: 0.027922\n",
      "Cost after iteration 45500: 0.027921\n",
      "Cost after iteration 45600: 0.027921\n",
      "Cost after iteration 45700: 0.027920\n",
      "Cost after iteration 45800: 0.027919\n",
      "Cost after iteration 45900: 0.027919\n",
      "Cost after iteration 46000: 0.027918\n",
      "Cost after iteration 46100: 0.027918\n",
      "Cost after iteration 46200: 0.027917\n",
      "Cost after iteration 46300: 0.027917\n"
     ]
    },
    {
     "name": "stdout",
     "output_type": "stream",
     "text": [
      "Cost after iteration 46400: 0.027916\n",
      "Cost after iteration 46500: 0.027915\n",
      "Cost after iteration 46600: 0.027915\n",
      "Cost after iteration 46700: 0.027914\n",
      "Cost after iteration 46800: 0.027914\n",
      "Cost after iteration 46900: 0.027913\n",
      "Cost after iteration 47000: 0.027913\n",
      "Cost after iteration 47100: 0.027912\n",
      "Cost after iteration 47200: 0.027912\n",
      "Cost after iteration 47300: 0.027912\n",
      "Cost after iteration 47400: 0.027911\n",
      "Cost after iteration 47500: 0.027911\n",
      "Cost after iteration 47600: 0.027910\n",
      "Cost after iteration 47700: 0.027910\n",
      "Cost after iteration 47800: 0.027909\n",
      "Cost after iteration 47900: 0.027909\n",
      "Cost after iteration 48000: 0.027909\n",
      "Cost after iteration 48100: 0.027908\n",
      "Cost after iteration 48200: 0.027908\n",
      "Cost after iteration 48300: 0.027907\n",
      "Cost after iteration 48400: 0.027907\n",
      "Cost after iteration 48500: 0.027907\n",
      "Cost after iteration 48600: 0.027906\n",
      "Cost after iteration 48700: 0.027906\n",
      "Cost after iteration 48800: 0.027905\n",
      "Cost after iteration 48900: 0.027905\n",
      "Cost after iteration 49000: 0.027905\n",
      "Cost after iteration 49100: 0.027904\n",
      "Cost after iteration 49200: 0.027904\n",
      "Cost after iteration 49300: 0.027904\n",
      "Cost after iteration 49400: 0.027903\n",
      "Cost after iteration 49500: 0.027903\n",
      "Cost after iteration 49600: 0.027903\n",
      "Cost after iteration 49700: 0.027902\n",
      "Cost after iteration 49800: 0.027902\n",
      "Cost after iteration 49900: 0.027902\n"
     ]
    },
    {
     "data": {
      "image/png": "[encoded data removed]",
      "text/plain": [
       "<Figure size 432x288 with 1 Axes>"
      ]
     },
     "metadata": {
      "needs_background": "light"
     },
     "output_type": "display_data"
    }
   ],
   "source": [
    "nn = NeuronalNetwork(x,y,0.01)\n",
    "nn.gradient_descent(50000)"
   ]
  },
  {
   "cell_type": "markdown",
   "metadata": {},
   "source": [
    "### Predict and comparing training acurrancy vs validation acurrancy"
   ]
  },
  {
   "cell_type": "markdown",
   "metadata": {},
   "source": [
    "Comparamos el acierto desempeñado por nuestra red neuronal, tanto en el test de entrenamiento como en el de validación. Se prefiere un mejor resultado en el de validación que en el de entrenamiento, ya que esto es signo de que, a priori, no existe ningún tipo de problema de vias o de variance."
   ]
  },
  {
   "cell_type": "code",
   "execution_count": 11,
   "metadata": {},
   "outputs": [
    {
     "name": "stdout",
     "output_type": "stream",
     "text": [
      "Acc: 0.9240000000000003\n",
      "Acc: 0.9835164835164836\n"
     ]
    }
   ],
   "source": [
    "pred_train = nn.predict(x, y)\n",
    "pred_test = nn.predict(xval, yval)"
   ]
  },
  {
   "cell_type": "markdown",
   "metadata": {},
   "source": [
    "### Function to plot the performance of the nn (skewed classes)"
   ]
  },
  {
   "cell_type": "code",
   "execution_count": 12,
   "metadata": {},
   "outputs": [],
   "source": [
    "def plotCf(a,b,t):\n",
    "    cf =confusion_matrix(a,b)\n",
    "    plt.imshow(cf,cmap=plt.cm.Blues,interpolation='nearest')\n",
    "    plt.colorbar()\n",
    "    plt.title(t)\n",
    "    plt.xlabel('0         Predicted         1')\n",
    "    plt.ylabel('1          Actual            0')\n",
    "    tick_marks = np.arange(len(set(a))) # length of classes\n",
    "    class_labels = ['0','1']\n",
    "    plt.xticks(np.ndarray([0,1]))\n",
    "    plt.yticks(np.ndarray([0,1]))\n",
    "    for i,j in itertools.product(range(cf.shape[0]),range(cf.shape[1])):\n",
    "        plt.text(j,i,format(cf[i,j],'d'),horizontalalignment='center',color='white' if cf[i,j] > (cf.max()*0.7) else 'black')\n",
    "    plt.show();\n"
   ]
  },
  {
   "cell_type": "markdown",
   "metadata": {},
   "source": [
    "### Check how well it predict!"
   ]
  },
  {
   "cell_type": "markdown",
   "metadata": {},
   "source": [
    "Dado los buenos resultados obtenidos, se procede a hacer la predicción, tanto con los datos de entrenamiento como con los de validación. "
   ]
  },
  {
   "cell_type": "code",
   "execution_count": 13,
   "metadata": {},
   "outputs": [
    {
     "name": "stdout",
     "output_type": "stream",
     "text": [
      "Acc: 0.9240000000000003\n"
     ]
    },
    {
     "data": {
      "image/png": "[encoded data removed]",
      "text/plain": [
       "<Figure size 432x288 with 2 Axes>"
      ]
     },
     "metadata": {
      "needs_background": "light"
     },
     "output_type": "display_data"
    },
    {
     "name": "stdout",
     "output_type": "stream",
     "text": [
      "Acc: 0.9835164835164836\n"
     ]
    },
    {
     "data": {
      "image/png": "[encoded data removed]",
      "text/plain": [
       "<Figure size 432x288 with 2 Axes>"
      ]
     },
     "metadata": {
      "needs_background": "light"
     },
     "output_type": "display_data"
    }
   ],
   "source": [
    "nn.threshold=0.90#0.85\n",
    "nn.X,nn.Y=x, y \n",
    "target=np.around(np.squeeze(y), decimals=0).astype(np.int)\n",
    "predicted=np.around(np.squeeze(nn.predict(x,y)), decimals=0).astype(np.int)\n",
    "plotCf(target,predicted,'Cf Training Set')\n",
    "\n",
    "nn.X,nn.Y=xval, yval \n",
    "target=np.around(np.squeeze(yval), decimals=0).astype(np.int)\n",
    "predicted=np.around(np.squeeze(nn.predict(xval,yval)), decimals=0).astype(np.int)\n",
    "plotCf(target,predicted,'Cf Validation Set')"
   ]
  },
  {
   "cell_type": "code",
   "execution_count": null,
   "metadata": {},
   "outputs": [],
   "source": []
  },
  {
   "cell_type": "code",
   "execution_count": null,
   "metadata": {},
   "outputs": [],
   "source": []
  }
 ],
 "metadata": {
  "kernelspec": {
   "display_name": "Python 3",
   "language": "python",
   "name": "python3"
  },
  "language_info": {
   "codemirror_mode": {
    "name": "ipython",
    "version": 3
   },
   "file_extension": ".py",
   "mimetype": "text/x-python",
   "name": "python",
   "nbconvert_exporter": "python",
   "pygments_lexer": "ipython3",
   "version": "3.7.6"
  }
 },
 "nbformat": 4,
 "nbformat_minor": 2
}