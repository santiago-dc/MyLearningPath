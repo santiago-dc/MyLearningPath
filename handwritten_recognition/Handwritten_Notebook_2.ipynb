{
 "cells": [
  {
   "cell_type": "markdown",
   "metadata": {},
   "source": [
    "# Handwritten numbers Recognition"
   ]
  },
  {
   "cell_type": "code",
   "execution_count": 1,
   "metadata": {},
   "outputs": [],
   "source": [
    "import pandas as pd\n",
    "import numpy as np\n",
    "import tensorflow as tf\n",
    "from tensorflow import keras "
   ]
  },
  {
   "cell_type": "markdown",
   "metadata": {},
   "source": [
    "## Load Data"
   ]
  },
  {
   "cell_type": "markdown",
   "metadata": {},
   "source": [
    "Extraer datos. Las imágenes son de 28*28 píxeles, por lo tanto el csv tiene 784 columnas más 1 indicando la salida"
   ]
  },
  {
   "cell_type": "code",
   "execution_count": 2,
   "metadata": {},
   "outputs": [],
   "source": [
    "def extract():\n",
    "    df_train = pd.read_csv('data/mnist_train.csv', delimiter = ',').to_numpy()\n",
    "    df_test = pd.read_csv('data/mnist_test.csv', delimiter = ',').to_numpy()\n",
    "    df = pd.DataFrame(np.concatenate((df_train,df_test)))\n",
    "    return df"
   ]
  },
  {
   "cell_type": "markdown",
   "metadata": {},
   "source": [
    "Transformar output a array de 10 y separar de las inputs"
   ]
  },
  {
   "cell_type": "code",
   "execution_count": 3,
   "metadata": {},
   "outputs": [],
   "source": [
    "def transform(df): \n",
    "    y_raw = df.iloc[:, 0].to_numpy()\n",
    "    x = df.drop(df.columns[0], axis='columns').to_numpy()\n",
    "    y = []\n",
    "    for i in range(0,y_raw.shape[0]):\n",
    "        row=np.zeros(10)\n",
    "        row[y_raw[i]]=1\n",
    "        y.append(row)\n",
    "    y=np.array(y)\n",
    "    y.reshape(y.shape[0],10)\n",
    "    return x, y"
   ]
  },
  {
   "cell_type": "markdown",
   "metadata": {},
   "source": [
    "Creamos los dataset de entrenamiento y test"
   ]
  },
  {
   "cell_type": "code",
   "execution_count": 4,
   "metadata": {},
   "outputs": [],
   "source": [
    "df = extract()\n",
    "x_train,y_train = transform(df.iloc[0:60000])\n",
    "#x_val,y_val = transform(df.iloc[50000:60000])\n",
    "x_test,y_test = transform(df.iloc[60000:70000])"
   ]
  },
  {
   "cell_type": "markdown",
   "metadata": {},
   "source": [
    "## Creación de la Red Neuronal"
   ]
  },
  {
   "cell_type": "markdown",
   "metadata": {},
   "source": [
    "En la red neuronal vamoas a implementar una arquitectura de (784,512,256,128,10), con funciones de activación ReLu en todas las capas menos en la última, en la cual utilizaremos la funcion softmax (https://www.quora.com/Why-is-it-better-to-use-Softmax-function-than-sigmoid-function).<br> Para cada capa se utilizará la funcion Dense, la cual tiene los siguientes parámetros por defecto:\n",
    "- activation=None,\n",
    "- use_bias=True,\n",
    "- kernel_initializer='glorot_uniform',\n",
    "- bias_initializer='zeros',\n",
    "- kernel_regularizer=None,\n",
    "- bias_regularizer=None,\n",
    "- activity_regularizer=None,\n",
    "- kernel_constraint=None,\n",
    "- bias_constraint=None\n",
    "\n",
    "\n"
   ]
  },
  {
   "cell_type": "code",
   "execution_count": 27,
   "metadata": {},
   "outputs": [],
   "source": [
    "model = keras.Sequential([\n",
    "    keras.layers.Dense(784, input_dim=784),\n",
    "    keras.layers.Dense(256, activation=\"relu\"),\n",
    "    keras.layers.Dense(128, activation=\"relu\"),\n",
    "    keras.layers.Dense(10, activation=\"softmax\")#Softmax is a sort of Multi Class Sigmoid\n",
    "])"
   ]
  },
  {
   "cell_type": "markdown",
   "metadata": {},
   "source": [
    "Vamos a crear y entrenar el modelo, 50 epochs serán suficientes."
   ]
  },
  {
   "cell_type": "code",
   "execution_count": 28,
   "metadata": {},
   "outputs": [
    {
     "name": "stdout",
     "output_type": "stream",
     "text": [
      "Train on 60000 samples\n",
      "Epoch 1/50\n",
      "60000/60000 [==============================] - 2s 40us/sample - loss: 4.8348 - accuracy: 0.8692\n",
      "Epoch 2/50\n",
      "60000/60000 [==============================] - 2s 36us/sample - loss: 0.6232 - accuracy: 0.9339\n",
      "Epoch 3/50\n",
      "60000/60000 [==============================] - 2s 41us/sample - loss: 0.3980 - accuracy: 0.9483\n",
      "Epoch 4/50\n",
      "60000/60000 [==============================] - 2s 35us/sample - loss: 0.2907 - accuracy: 0.9557\n",
      "Epoch 5/50\n",
      "60000/60000 [==============================] - 2s 36us/sample - loss: 0.2335 - accuracy: 0.9617\n",
      "Epoch 6/50\n",
      "60000/60000 [==============================] - 2s 35us/sample - loss: 0.2092 - accuracy: 0.9645\n",
      "Epoch 7/50\n",
      "60000/60000 [==============================] - 2s 41us/sample - loss: 0.2160 - accuracy: 0.9646\n",
      "Epoch 8/50\n",
      "60000/60000 [==============================] - 3s 47us/sample - loss: 0.2122 - accuracy: 0.9643\n",
      "Epoch 9/50\n",
      "60000/60000 [==============================] - 3s 47us/sample - loss: 0.1790 - accuracy: 0.9678\n",
      "Epoch 10/50\n",
      "60000/60000 [==============================] - 3s 48us/sample - loss: 0.1695 - accuracy: 0.9712\n",
      "Epoch 11/50\n",
      "60000/60000 [==============================] - 3s 47us/sample - loss: 0.1646 - accuracy: 0.9707\n",
      "Epoch 12/50\n",
      "60000/60000 [==============================] - 3s 47us/sample - loss: 0.1749 - accuracy: 0.9699\n",
      "Epoch 13/50\n",
      "60000/60000 [==============================] - 3s 48us/sample - loss: 0.1908 - accuracy: 0.9678\n",
      "Epoch 14/50\n",
      "60000/60000 [==============================] - 3s 48us/sample - loss: 0.1808 - accuracy: 0.9693\n",
      "Epoch 15/50\n",
      "60000/60000 [==============================] - 3s 47us/sample - loss: 0.1305 - accuracy: 0.9745\n",
      "Epoch 16/50\n",
      "60000/60000 [==============================] - 3s 47us/sample - loss: 0.1245 - accuracy: 0.9754\n",
      "Epoch 17/50\n",
      "60000/60000 [==============================] - 3s 48us/sample - loss: 0.1155 - accuracy: 0.9755\n",
      "Epoch 18/50\n",
      "60000/60000 [==============================] - 3s 46us/sample - loss: 0.1134 - accuracy: 0.9759\n",
      "Epoch 19/50\n",
      "60000/60000 [==============================] - 3s 46us/sample - loss: 0.1329 - accuracy: 0.9723\n",
      "Epoch 20/50\n",
      "60000/60000 [==============================] - 3s 45us/sample - loss: 0.0925 - accuracy: 0.9783\n",
      "Epoch 21/50\n",
      "60000/60000 [==============================] - 3s 45us/sample - loss: 0.0846 - accuracy: 0.9791\n",
      "Epoch 22/50\n",
      "60000/60000 [==============================] - 3s 50us/sample - loss: 0.0990 - accuracy: 0.9763\n",
      "Epoch 23/50\n",
      "60000/60000 [==============================] - 3s 56us/sample - loss: 0.0904 - accuracy: 0.9781\n",
      "Epoch 24/50\n",
      "60000/60000 [==============================] - 3s 44us/sample - loss: 0.0694 - accuracy: 0.9830\n",
      "Epoch 25/50\n",
      "60000/60000 [==============================] - 3s 46us/sample - loss: 0.0856 - accuracy: 0.9785\n",
      "Epoch 26/50\n",
      "60000/60000 [==============================] - 3s 47us/sample - loss: 0.0669 - accuracy: 0.9818\n",
      "Epoch 27/50\n",
      "60000/60000 [==============================] - 3s 46us/sample - loss: 0.0669 - accuracy: 0.9820\n",
      "Epoch 28/50\n",
      "60000/60000 [==============================] - 3s 46us/sample - loss: 0.0753 - accuracy: 0.9801\n",
      "Epoch 29/50\n",
      "60000/60000 [==============================] - 3s 46us/sample - loss: 0.0738 - accuracy: 0.9801\n",
      "Epoch 30/50\n",
      "60000/60000 [==============================] - 3s 46us/sample - loss: 0.0604 - accuracy: 0.9825\n",
      "Epoch 31/50\n",
      "60000/60000 [==============================] - 3s 46us/sample - loss: 0.0609 - accuracy: 0.9829\n",
      "Epoch 32/50\n",
      "60000/60000 [==============================] - 3s 46us/sample - loss: 0.0883 - accuracy: 0.9767\n",
      "Epoch 33/50\n",
      "60000/60000 [==============================] - 3s 47us/sample - loss: 0.0652 - accuracy: 0.9815\n",
      "Epoch 34/50\n",
      "60000/60000 [==============================] - 3s 47us/sample - loss: 0.0712 - accuracy: 0.9797\n",
      "Epoch 35/50\n",
      "60000/60000 [==============================] - 3s 48us/sample - loss: 0.0579 - accuracy: 0.9838\n",
      "Epoch 36/50\n",
      "60000/60000 [==============================] - 3s 46us/sample - loss: 0.0697 - accuracy: 0.9814\n",
      "Epoch 37/50\n",
      "60000/60000 [==============================] - 3s 46us/sample - loss: 0.0824 - accuracy: 0.9775\n",
      "Epoch 38/50\n",
      "60000/60000 [==============================] - 3s 47us/sample - loss: 0.0729 - accuracy: 0.9805\n",
      "Epoch 39/50\n",
      "60000/60000 [==============================] - 3s 47us/sample - loss: 0.0656 - accuracy: 0.9829\n",
      "Epoch 40/50\n",
      "60000/60000 [==============================] - 3s 48us/sample - loss: 0.0698 - accuracy: 0.9811\n",
      "Epoch 41/50\n",
      "60000/60000 [==============================] - 3s 50us/sample - loss: 0.0577 - accuracy: 0.9842\n",
      "Epoch 42/50\n",
      "60000/60000 [==============================] - 3s 52us/sample - loss: 0.0638 - accuracy: 0.9830\n",
      "Epoch 43/50\n",
      "60000/60000 [==============================] - 3s 52us/sample - loss: 0.0573 - accuracy: 0.9844\n",
      "Epoch 44/50\n",
      "60000/60000 [==============================] - 3s 52us/sample - loss: 0.0648 - accuracy: 0.9833\n",
      "Epoch 45/50\n",
      "60000/60000 [==============================] - 3s 52us/sample - loss: 0.0675 - accuracy: 0.9824\n",
      "Epoch 46/50\n",
      "60000/60000 [==============================] - 3s 49us/sample - loss: 0.0631 - accuracy: 0.9833\n",
      "Epoch 47/50\n",
      "60000/60000 [==============================] - 3s 47us/sample - loss: 0.0634 - accuracy: 0.9836\n",
      "Epoch 48/50\n",
      "60000/60000 [==============================] - 3s 46us/sample - loss: 0.0660 - accuracy: 0.9828\n",
      "Epoch 49/50\n",
      "60000/60000 [==============================] - 3s 47us/sample - loss: 0.0581 - accuracy: 0.9850\n",
      "Epoch 50/50\n",
      "60000/60000 [==============================] - 3s 46us/sample - loss: 0.0586 - accuracy: 0.9858\n"
     ]
    },
    {
     "data": {
      "text/plain": [
       "<tensorflow.python.keras.callbacks.History at 0x17c3f5ae3c8>"
      ]
     },
     "execution_count": 28,
     "metadata": {},
     "output_type": "execute_result"
    }
   ],
   "source": [
    "model.compile(loss='categorical_crossentropy', optimizer='adam', metrics=['accuracy'])#learning_rate=0.001\n",
    "model.fit(x_train, y_train, epochs = 50, batch_size=200, verbose=1)"
   ]
  },
  {
   "cell_type": "markdown",
   "metadata": {},
   "source": [
    "Evaluamos el modelo con el acierto de los datos de prueba"
   ]
  },
  {
   "cell_type": "code",
   "execution_count": 30,
   "metadata": {},
   "outputs": [
    {
     "name": "stdout",
     "output_type": "stream",
     "text": [
      "9998/9998 [==============================] - 1s 67us/sample - loss: 0.1687 - accuracy: 0.9634\n",
      "Test Acc:  0.9633927\n"
     ]
    }
   ],
   "source": [
    "tes_loss, test_acc = model.evaluate(x_test, y_test)\n",
    "print('Test Acc: ', test_acc)"
   ]
  },
  {
   "cell_type": "markdown",
   "metadata": {},
   "source": [
    "## Regularización"
   ]
  },
  {
   "cell_type": "code",
   "execution_count": 35,
   "metadata": {},
   "outputs": [],
   "source": [
    "from keras import regularizers\n",
    "modelR = keras.Sequential([\n",
    "    keras.layers.Dense(784, input_dim=784, kernel_regularizer=regularizers.l2(0.01), bias_regularizer=regularizers.l2(0.01)),\n",
    "    keras.layers.Dense(256, activation=\"relu\", kernel_regularizer=regularizers.l2(0.01), bias_regularizer=regularizers.l2(0.01)),\n",
    "    keras.layers.Dense(128, activation=\"relu\", kernel_regularizer=regularizers.l2(0.01), bias_regularizer=regularizers.l2(0.01)),\n",
    "    keras.layers.Dense(10, activation=\"softmax\", kernel_regularizer=regularizers.l2(0.01), bias_regularizer=regularizers.l2(0.01))\n",
    "])"
   ]
  },
  {
   "cell_type": "code",
   "execution_count": 36,
   "metadata": {},
   "outputs": [
    {
     "name": "stdout",
     "output_type": "stream",
     "text": [
      "Train on 60000 samples\n",
      "Epoch 1/50\n",
      "60000/60000 [==============================] - 3s 49us/sample - loss: 14.6520 - accuracy: 0.8770\n",
      "Epoch 2/50\n",
      "60000/60000 [==============================] - 3s 43us/sample - loss: 8.7931 - accuracy: 0.9286\n",
      "Epoch 3/50\n",
      "60000/60000 [==============================] - 3s 43us/sample - loss: 6.6997 - accuracy: 0.9459\n",
      "Epoch 4/50\n",
      "60000/60000 [==============================] - 3s 43us/sample - loss: 5.1552 - accuracy: 0.9570\n",
      "Epoch 5/50\n",
      "60000/60000 [==============================] - 3s 44us/sample - loss: 3.9470 - accuracy: 0.9634\n",
      "Epoch 6/50\n",
      "60000/60000 [==============================] - 3s 58us/sample - loss: 3.0012 - accuracy: 0.9686\n",
      "Epoch 7/50\n",
      "60000/60000 [==============================] - 3s 57us/sample - loss: 2.2614 - accuracy: 0.9712\n",
      "Epoch 8/50\n",
      "60000/60000 [==============================] - 3s 56us/sample - loss: 1.6938 - accuracy: 0.9739\n",
      "Epoch 9/50\n",
      "60000/60000 [==============================] - 3s 54us/sample - loss: 1.2680 - accuracy: 0.9737\n",
      "Epoch 10/50\n",
      "60000/60000 [==============================] - 3s 54us/sample - loss: 0.9532 - accuracy: 0.9747\n",
      "Epoch 11/50\n",
      "60000/60000 [==============================] - 3s 54us/sample - loss: 0.7317 - accuracy: 0.9733\n",
      "Epoch 12/50\n",
      "60000/60000 [==============================] - 3s 54us/sample - loss: 0.5753 - accuracy: 0.9728\n",
      "Epoch 13/50\n",
      "60000/60000 [==============================] - 3s 54us/sample - loss: 0.4728 - accuracy: 0.9713\n",
      "Epoch 14/50\n",
      "60000/60000 [==============================] - 3s 55us/sample - loss: 0.4031 - accuracy: 0.9694\n",
      "Epoch 15/50\n",
      "60000/60000 [==============================] - 3s 54us/sample - loss: 0.3661 - accuracy: 0.9656\n",
      "Epoch 16/50\n",
      "60000/60000 [==============================] - 3s 57us/sample - loss: 0.3321 - accuracy: 0.9654\n",
      "Epoch 17/50\n",
      "60000/60000 [==============================] - 4s 61us/sample - loss: 0.3163 - accuracy: 0.9638\n",
      "Epoch 18/50\n",
      "60000/60000 [==============================] - 4s 60us/sample - loss: 0.2950 - accuracy: 0.9662\n",
      "Epoch 19/50\n",
      "60000/60000 [==============================] - 4s 60us/sample - loss: 0.2906 - accuracy: 0.9626\n",
      "Epoch 20/50\n",
      "60000/60000 [==============================] - 4s 61us/sample - loss: 0.2801 - accuracy: 0.9646\n",
      "Epoch 21/50\n",
      "60000/60000 [==============================] - 3s 56us/sample - loss: 0.2737 - accuracy: 0.9632\n",
      "Epoch 22/50\n",
      "60000/60000 [==============================] - 3s 55us/sample - loss: 0.2718 - accuracy: 0.9634\n",
      "Epoch 23/50\n",
      "60000/60000 [==============================] - 3s 55us/sample - loss: 0.2704 - accuracy: 0.9621\n",
      "Epoch 24/50\n",
      "60000/60000 [==============================] - 3s 55us/sample - loss: 0.2574 - accuracy: 0.9658\n",
      "Epoch 25/50\n",
      "60000/60000 [==============================] - 3s 55us/sample - loss: 0.2513 - accuracy: 0.9664\n",
      "Epoch 26/50\n",
      "60000/60000 [==============================] - 3s 54us/sample - loss: 0.2467 - accuracy: 0.9672\n",
      "Epoch 27/50\n",
      "60000/60000 [==============================] - 3s 54us/sample - loss: 0.2664 - accuracy: 0.9640\n",
      "Epoch 28/50\n",
      "60000/60000 [==============================] - 3s 57us/sample - loss: 0.2503 - accuracy: 0.9680\n",
      "Epoch 29/50\n",
      "60000/60000 [==============================] - 3s 56us/sample - loss: 0.2576 - accuracy: 0.9650\n",
      "Epoch 30/50\n",
      "60000/60000 [==============================] - 3s 55us/sample - loss: 0.2494 - accuracy: 0.9676\n",
      "Epoch 31/50\n",
      "60000/60000 [==============================] - 3s 55us/sample - loss: 0.2619 - accuracy: 0.9665\n",
      "Epoch 32/50\n",
      "60000/60000 [==============================] - 3s 55us/sample - loss: 0.2761 - accuracy: 0.9635\n",
      "Epoch 33/50\n",
      "60000/60000 [==============================] - 3s 58us/sample - loss: 0.2617 - accuracy: 0.9679\n",
      "Epoch 34/50\n",
      "60000/60000 [==============================] - 3s 56us/sample - loss: 0.2646 - accuracy: 0.9657\n",
      "Epoch 35/50\n",
      "60000/60000 [==============================] - 3s 56us/sample - loss: 0.2542 - accuracy: 0.9679\n",
      "Epoch 36/50\n",
      "60000/60000 [==============================] - 3s 58us/sample - loss: 0.2644 - accuracy: 0.9658\n",
      "Epoch 37/50\n",
      "60000/60000 [==============================] - 3s 55us/sample - loss: 0.2661 - accuracy: 0.9661\n",
      "Epoch 38/50\n",
      "60000/60000 [==============================] - 3s 55us/sample - loss: 0.2616 - accuracy: 0.9678\n",
      "Epoch 39/50\n",
      "60000/60000 [==============================] - 3s 55us/sample - loss: 0.2495 - accuracy: 0.9681\n",
      "Epoch 40/50\n",
      "60000/60000 [==============================] - 3s 55us/sample - loss: 0.2836 - accuracy: 0.9637\n",
      "Epoch 41/50\n",
      "60000/60000 [==============================] - 3s 55us/sample - loss: 0.2436 - accuracy: 0.9697\n",
      "Epoch 42/50\n",
      "60000/60000 [==============================] - 3s 55us/sample - loss: 0.2548 - accuracy: 0.9674\n",
      "Epoch 43/50\n",
      "60000/60000 [==============================] - 3s 55us/sample - loss: 0.2625 - accuracy: 0.9667\n",
      "Epoch 44/50\n",
      "60000/60000 [==============================] - 3s 57us/sample - loss: 0.2440 - accuracy: 0.9694\n",
      "Epoch 45/50\n",
      "60000/60000 [==============================] - 3s 54us/sample - loss: 0.2598 - accuracy: 0.9657\n",
      "Epoch 46/50\n",
      "60000/60000 [==============================] - 3s 55us/sample - loss: 0.2646 - accuracy: 0.9669\n",
      "Epoch 47/50\n",
      "60000/60000 [==============================] - 3s 55us/sample - loss: 0.2462 - accuracy: 0.9686\n",
      "Epoch 48/50\n",
      "60000/60000 [==============================] - 3s 55us/sample - loss: 0.2553 - accuracy: 0.9680\n",
      "Epoch 49/50\n",
      "60000/60000 [==============================] - 3s 55us/sample - loss: 0.2701 - accuracy: 0.9675\n",
      "Epoch 50/50\n",
      "60000/60000 [==============================] - 3s 55us/sample - loss: 0.2413 - accuracy: 0.9699\n"
     ]
    },
    {
     "data": {
      "text/plain": [
       "<tensorflow.python.keras.callbacks.History at 0x17c412128c8>"
      ]
     },
     "execution_count": 36,
     "metadata": {},
     "output_type": "execute_result"
    }
   ],
   "source": [
    "modelR.compile(loss='categorical_crossentropy', optimizer='adam', metrics=['accuracy'])#learning_rate=0.001\n",
    "modelR.fit(x_train, y_train, epochs = 50, batch_size=200, verbose=1)"
   ]
  },
  {
   "cell_type": "code",
   "execution_count": 37,
   "metadata": {},
   "outputs": [
    {
     "name": "stdout",
     "output_type": "stream",
     "text": [
      "9998/9998 [==============================] - 1s 87us/sample - loss: 0.2423 - accuracy: 0.9702\n",
      "Test Acc:  0.97019404\n"
     ]
    }
   ],
   "source": [
    "tes_loss, test_acc = modelR.evaluate(x_test, y_test)\n",
    "print('Test Acc: ', test_acc)"
   ]
  },
  {
   "cell_type": "code",
   "execution_count": null,
   "metadata": {},
   "outputs": [],
   "source": []
  }
 ],
 "metadata": {
  "kernelspec": {
   "display_name": "Python 3",
   "language": "python",
   "name": "python3"
  },
  "language_info": {
   "codemirror_mode": {
    "name": "ipython",
    "version": 3
   },
   "file_extension": ".py",
   "mimetype": "text/x-python",
   "name": "python",
   "nbconvert_exporter": "python",
   "pygments_lexer": "ipython3",
   "version": "3.7.6"
  }
 },
 "nbformat": 4,
 "nbformat_minor": 2
}
